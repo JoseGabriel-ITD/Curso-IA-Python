{
 "cells": [
  {
   "cell_type": "markdown",
   "id": "5e48ec9d-fbfd-4a1c-9c6f-1d1df1a14269",
   "metadata": {},
   "source": [
    "![](Cintilla2004.png)\n",
    "\n",
    "## **Curso de Inteligencia Artificial con Python y Scikit-Leaarn**\n",
    "### Instructor: Dr. José Gabriel Rodríguez Rivas"
   ]
  },
  {
   "cell_type": "markdown",
   "id": "881870c1-a9de-4f59-a935-ac6b5f91bcce",
   "metadata": {},
   "source": [
    "<div style=\"color: blue;\">\n",
    "<h1> Practica 7: Análisis de Componentes Principales (PCA)</h1>\n",
    "</div>\n",
    "\n",
    "\n",
    "##   Reducción de Dimensionalidad mediante PCA \n",
    "\n",
    "La Reducción de Dimensionalidad mediante PCA (Análisis de Componentes Principales) puede ser útil para **simplificar los datos** en el dataset lending_club_2007_2011_6_states **al extraer las características más importantes o reducir la redundancia entre variables**.\n",
    "\n",
    "- Transformar un conjunto de variables posiblemente correlacionadas en un conjunto más pequeño de variables no correlacionadas llamadas componentes principales.\n",
    "- Este proceso ayuda a reducir la complejidad de los datos mientras se preserva la mayor cantidad posible de información relevante.\n",
    "- Primero, se debe asegurar que los datos estén escalados y normalizados. Esto se debe a que el PCA es sensible a las escalas de las variables.\n",
    "\n",
    "**Ejemplo práctico:**\n",
    "Supongamos que tenemos un conjunto de datos con 4 características: altura, peso, edad y nivel de actividad física. Usando PCA, podrías transformar estas 4 características en 2 componentes principales:\n",
    "- Componente 1 (PC1): Podría estar influido principalmente por altura y peso, explicando el 70% de la varianza.\n",
    "- Componente 2 (PC2): Podría estar más relacionado con la edad y el nivel de actividad física, explicando el 20% de la varianza.\n",
    "- En este caso, el PCA redujo 4 dimensiones a 2, conservando el 90% de la información total."
   ]
  },
  {
   "cell_type": "code",
   "execution_count": 4,
   "id": "6f220962-4653-4823-a5fb-94d5138ac6f3",
   "metadata": {},
   "outputs": [],
   "source": [
    "import pandas as pd\n",
    "import numpy as np\n",
    "from sklearn.model_selection import train_test_split\n",
    "from sklearn.preprocessing import StandardScaler\n",
    "from sklearn.decomposition import PCA\n",
    "import matplotlib.pyplot as plt"
   ]
  },
  {
   "cell_type": "code",
   "execution_count": 14,
   "id": "a6cc3858-fa1f-46fa-a671-3ca3587c7776",
   "metadata": {},
   "outputs": [
    {
     "data": {
      "text/html": [
       "<div>\n",
       "<style scoped>\n",
       "    .dataframe tbody tr th:only-of-type {\n",
       "        vertical-align: middle;\n",
       "    }\n",
       "\n",
       "    .dataframe tbody tr th {\n",
       "        vertical-align: top;\n",
       "    }\n",
       "\n",
       "    .dataframe thead th {\n",
       "        text-align: right;\n",
       "    }\n",
       "</style>\n",
       "<table border=\"1\" class=\"dataframe\">\n",
       "  <thead>\n",
       "    <tr style=\"text-align: right;\">\n",
       "      <th></th>\n",
       "      <th>funded_amnt</th>\n",
       "      <th>loan_term_year</th>\n",
       "      <th>int_rate</th>\n",
       "      <th>grade_code</th>\n",
       "      <th>purpose_code</th>\n",
       "      <th>addr_state_code</th>\n",
       "      <th>home_ownership_code</th>\n",
       "      <th>annual_inc</th>\n",
       "      <th>dti</th>\n",
       "      <th>revol_util</th>\n",
       "      <th>pub_rec_bankruptcies</th>\n",
       "      <th>repaid</th>\n",
       "      <th>total_pymnt</th>\n",
       "    </tr>\n",
       "  </thead>\n",
       "  <tbody>\n",
       "    <tr>\n",
       "      <th>0</th>\n",
       "      <td>2400</td>\n",
       "      <td>3</td>\n",
       "      <td>15.96</td>\n",
       "      <td>2</td>\n",
       "      <td>11</td>\n",
       "      <td>2</td>\n",
       "      <td>4</td>\n",
       "      <td>12252</td>\n",
       "      <td>8.72</td>\n",
       "      <td>98.5</td>\n",
       "      <td>0</td>\n",
       "      <td>1</td>\n",
       "      <td>3005.666844</td>\n",
       "    </tr>\n",
       "    <tr>\n",
       "      <th>1</th>\n",
       "      <td>10000</td>\n",
       "      <td>3</td>\n",
       "      <td>13.49</td>\n",
       "      <td>2</td>\n",
       "      <td>9</td>\n",
       "      <td>0</td>\n",
       "      <td>4</td>\n",
       "      <td>49200</td>\n",
       "      <td>20.00</td>\n",
       "      <td>21.0</td>\n",
       "      <td>0</td>\n",
       "      <td>1</td>\n",
       "      <td>12231.890000</td>\n",
       "    </tr>\n",
       "    <tr>\n",
       "      <th>2</th>\n",
       "      <td>3000</td>\n",
       "      <td>3</td>\n",
       "      <td>18.64</td>\n",
       "      <td>4</td>\n",
       "      <td>0</td>\n",
       "      <td>0</td>\n",
       "      <td>4</td>\n",
       "      <td>48000</td>\n",
       "      <td>5.35</td>\n",
       "      <td>87.5</td>\n",
       "      <td>0</td>\n",
       "      <td>1</td>\n",
       "      <td>3939.135294</td>\n",
       "    </tr>\n",
       "    <tr>\n",
       "      <th>3</th>\n",
       "      <td>5600</td>\n",
       "      <td>5</td>\n",
       "      <td>21.28</td>\n",
       "      <td>5</td>\n",
       "      <td>11</td>\n",
       "      <td>0</td>\n",
       "      <td>3</td>\n",
       "      <td>40000</td>\n",
       "      <td>5.55</td>\n",
       "      <td>32.6</td>\n",
       "      <td>0</td>\n",
       "      <td>0</td>\n",
       "      <td>647.500000</td>\n",
       "    </tr>\n",
       "    <tr>\n",
       "      <th>4</th>\n",
       "      <td>5375</td>\n",
       "      <td>5</td>\n",
       "      <td>12.69</td>\n",
       "      <td>1</td>\n",
       "      <td>9</td>\n",
       "      <td>5</td>\n",
       "      <td>4</td>\n",
       "      <td>15000</td>\n",
       "      <td>18.08</td>\n",
       "      <td>36.5</td>\n",
       "      <td>0</td>\n",
       "      <td>0</td>\n",
       "      <td>1484.590000</td>\n",
       "    </tr>\n",
       "  </tbody>\n",
       "</table>\n",
       "</div>"
      ],
      "text/plain": [
       "   funded_amnt  loan_term_year  int_rate  grade_code  purpose_code  \\\n",
       "0         2400               3     15.96           2            11   \n",
       "1        10000               3     13.49           2             9   \n",
       "2         3000               3     18.64           4             0   \n",
       "3         5600               5     21.28           5            11   \n",
       "4         5375               5     12.69           1             9   \n",
       "\n",
       "   addr_state_code  home_ownership_code  annual_inc    dti  revol_util  \\\n",
       "0                2                    4       12252   8.72        98.5   \n",
       "1                0                    4       49200  20.00        21.0   \n",
       "2                0                    4       48000   5.35        87.5   \n",
       "3                0                    3       40000   5.55        32.6   \n",
       "4                5                    4       15000  18.08        36.5   \n",
       "\n",
       "   pub_rec_bankruptcies  repaid   total_pymnt  \n",
       "0                     0       1   3005.666844  \n",
       "1                     0       1  12231.890000  \n",
       "2                     0       1   3939.135294  \n",
       "3                     0       0    647.500000  \n",
       "4                     0       0   1484.590000  "
      ]
     },
     "execution_count": 14,
     "metadata": {},
     "output_type": "execute_result"
    }
   ],
   "source": [
    "# Cargar el dataset\n",
    "prestamos = pd.read_csv(\"prestamos.csv\")\n",
    "# Exploración rápida\n",
    "prestamos.head()"
   ]
  },
  {
   "cell_type": "code",
   "execution_count": 24,
   "id": "3f7d64ac-946f-4f0e-bb70-03d91e59008e",
   "metadata": {},
   "outputs": [
    {
     "data": {
      "text/html": [
       "<div>\n",
       "<style scoped>\n",
       "    .dataframe tbody tr th:only-of-type {\n",
       "        vertical-align: middle;\n",
       "    }\n",
       "\n",
       "    .dataframe tbody tr th {\n",
       "        vertical-align: top;\n",
       "    }\n",
       "\n",
       "    .dataframe thead th {\n",
       "        text-align: right;\n",
       "    }\n",
       "</style>\n",
       "<table border=\"1\" class=\"dataframe\">\n",
       "  <thead>\n",
       "    <tr style=\"text-align: right;\">\n",
       "      <th></th>\n",
       "      <th>funded_amnt</th>\n",
       "      <th>int_rate</th>\n",
       "      <th>grade_code</th>\n",
       "      <th>purpose_code</th>\n",
       "      <th>addr_state_code</th>\n",
       "      <th>home_ownership_code</th>\n",
       "      <th>annual_inc</th>\n",
       "      <th>dti</th>\n",
       "      <th>revol_util</th>\n",
       "      <th>pub_rec_bankruptcies</th>\n",
       "    </tr>\n",
       "  </thead>\n",
       "  <tbody>\n",
       "    <tr>\n",
       "      <th>0</th>\n",
       "      <td>2400</td>\n",
       "      <td>15.96</td>\n",
       "      <td>2</td>\n",
       "      <td>11</td>\n",
       "      <td>2</td>\n",
       "      <td>4</td>\n",
       "      <td>12252</td>\n",
       "      <td>8.72</td>\n",
       "      <td>98.5</td>\n",
       "      <td>0</td>\n",
       "    </tr>\n",
       "    <tr>\n",
       "      <th>1</th>\n",
       "      <td>10000</td>\n",
       "      <td>13.49</td>\n",
       "      <td>2</td>\n",
       "      <td>9</td>\n",
       "      <td>0</td>\n",
       "      <td>4</td>\n",
       "      <td>49200</td>\n",
       "      <td>20.00</td>\n",
       "      <td>21.0</td>\n",
       "      <td>0</td>\n",
       "    </tr>\n",
       "    <tr>\n",
       "      <th>2</th>\n",
       "      <td>3000</td>\n",
       "      <td>18.64</td>\n",
       "      <td>4</td>\n",
       "      <td>0</td>\n",
       "      <td>0</td>\n",
       "      <td>4</td>\n",
       "      <td>48000</td>\n",
       "      <td>5.35</td>\n",
       "      <td>87.5</td>\n",
       "      <td>0</td>\n",
       "    </tr>\n",
       "    <tr>\n",
       "      <th>3</th>\n",
       "      <td>5600</td>\n",
       "      <td>21.28</td>\n",
       "      <td>5</td>\n",
       "      <td>11</td>\n",
       "      <td>0</td>\n",
       "      <td>3</td>\n",
       "      <td>40000</td>\n",
       "      <td>5.55</td>\n",
       "      <td>32.6</td>\n",
       "      <td>0</td>\n",
       "    </tr>\n",
       "    <tr>\n",
       "      <th>4</th>\n",
       "      <td>5375</td>\n",
       "      <td>12.69</td>\n",
       "      <td>1</td>\n",
       "      <td>9</td>\n",
       "      <td>5</td>\n",
       "      <td>4</td>\n",
       "      <td>15000</td>\n",
       "      <td>18.08</td>\n",
       "      <td>36.5</td>\n",
       "      <td>0</td>\n",
       "    </tr>\n",
       "  </tbody>\n",
       "</table>\n",
       "</div>"
      ],
      "text/plain": [
       "   funded_amnt  int_rate  grade_code  purpose_code  addr_state_code  \\\n",
       "0         2400     15.96           2            11                2   \n",
       "1        10000     13.49           2             9                0   \n",
       "2         3000     18.64           4             0                0   \n",
       "3         5600     21.28           5            11                0   \n",
       "4         5375     12.69           1             9                5   \n",
       "\n",
       "   home_ownership_code  annual_inc    dti  revol_util  pub_rec_bankruptcies  \n",
       "0                    4       12252   8.72        98.5                     0  \n",
       "1                    4       49200  20.00        21.0                     0  \n",
       "2                    4       48000   5.35        87.5                     0  \n",
       "3                    3       40000   5.55        32.6                     0  \n",
       "4                    4       15000  18.08        36.5                     0  "
      ]
     },
     "execution_count": 24,
     "metadata": {},
     "output_type": "execute_result"
    }
   ],
   "source": [
    "model_columns = ['funded_amnt', \"int_rate\", \"grade_code\", 'purpose_code', \n",
    "                 'addr_state_code',\n",
    "                 'home_ownership_code', 'annual_inc', 'dti', 'revol_util', \n",
    "                 'pub_rec_bankruptcies']\n",
    "\n",
    "X = prestamos[model_columns]\n",
    "X.head()"
   ]
  },
  {
   "cell_type": "code",
   "execution_count": 41,
   "id": "f578b283-5142-4dfc-ba10-c988f1cea8b6",
   "metadata": {},
   "outputs": [
    {
     "data": {
      "text/plain": [
       "0    1\n",
       "1    1\n",
       "2    1\n",
       "3    0\n",
       "4    0\n",
       "Name: repaid, dtype: int64"
      ]
     },
     "execution_count": 41,
     "metadata": {},
     "output_type": "execute_result"
    }
   ],
   "source": [
    "y = prestamos['repaid']\n",
    "y.head()"
   ]
  },
  {
   "cell_type": "code",
   "execution_count": 43,
   "id": "a58bf370-2b61-4a67-8519-eabcd0837aff",
   "metadata": {},
   "outputs": [
    {
     "data": {
      "text/plain": [
       "array([[-1.20758742,  1.04653339,  0.28771526, ..., -0.6435994 ,\n",
       "         1.74122331, -0.19676047],\n",
       "       [-0.14851581,  0.37863978,  0.28771526, ...,  1.04920704,\n",
       "        -1.00854161, -0.19676047],\n",
       "       [-1.1239765 ,  1.77121147,  1.72995   , ..., -1.14934033,\n",
       "         1.3509341 , -0.19676047],\n",
       "       ...,\n",
       "       [ 1.94175711, -0.4055268 ,  0.28771526, ..., -1.34443327,\n",
       "        -0.92693568, -0.19676047],\n",
       "       [-1.1239765 , -0.4893515 ,  0.28771526, ..., -1.95222282,\n",
       "        -1.7536392 , -0.19676047],\n",
       "       [-0.84527345, -0.57588023, -0.43340212, ..., -0.74714873,\n",
       "        -0.02927049, -0.19676047]])"
      ]
     },
     "execution_count": 43,
     "metadata": {},
     "output_type": "execute_result"
    }
   ],
   "source": [
    "# Escalar los datos\n",
    "scaler = StandardScaler()\n",
    "X_scaled = scaler.fit_transform(X)\n",
    "X_scaled"
   ]
  },
  {
   "cell_type": "markdown",
   "id": "f3470c16-c191-4857-97d3-c2b24a758b95",
   "metadata": {},
   "source": [
    "### Aplicar PCA"
   ]
  },
  {
   "cell_type": "code",
   "execution_count": 45,
   "id": "dd410c79-d466-414c-8e07-89e5ea436b14",
   "metadata": {},
   "outputs": [
    {
     "name": "stdout",
     "output_type": "stream",
     "text": [
      "Proporción de varianza explicada por cada componente: [0.24515346 0.14414767]\n",
      "Varianza explicada acumulada: [0.24515346 0.38930113]\n"
     ]
    }
   ],
   "source": [
    "# Inicializar PCA y especificar el número de componentes principales deseados\n",
    "pca = PCA(n_components=2)  # Elegimos 2 componentes para visualización\n",
    "X_pca = pca.fit_transform(X_scaled)\n",
    "\n",
    "# Mostrar la proporción de varianza explicada por cada componente\n",
    "explained_variance = pca.explained_variance_ratio_\n",
    "print(\"Proporción de varianza explicada por cada componente:\", explained_variance)\n",
    "print(\"Varianza explicada acumulada:\", np.cumsum(explained_variance))\n"
   ]
  },
  {
   "cell_type": "markdown",
   "id": "19f8b624-65e5-426e-9bb5-1ec35ef6f1d5",
   "metadata": {},
   "source": [
    "### Interpretación:\n",
    "\n",
    "- El primer componente principal (PC1) explica aproximadamente el 24.52% de la variabilidad total de los datos. Esto significa que casi una cuarta parte de la información en las variables originales puede representarse mediante este componente.\n",
    "- El segundo componente principal (PC2) explica alrededor del 14.41% de la variabilidad total. Este segundo componente captura información adicional no explicada por el primero, pero en menor medida."
   ]
  },
  {
   "cell_type": "markdown",
   "id": "10249749-2a8e-4969-a4d7-9b01b0fadb3e",
   "metadata": {},
   "source": [
    "### Especificar 6 componentes"
   ]
  },
  {
   "cell_type": "code",
   "execution_count": 116,
   "id": "e6574008-8185-4c4c-a962-f6eb1e2d71a1",
   "metadata": {},
   "outputs": [
    {
     "name": "stdout",
     "output_type": "stream",
     "text": [
      "Proporción de varianza explicada por cada componente: [0.24515346 0.14414767 0.11874062 0.10357263 0.09809103 0.0849997\n",
      " 0.07801901 0.072922  ]\n",
      "Varianza explicada acumulada: [0.24515346 0.38930113 0.50804175 0.61161438 0.70970541 0.79470511\n",
      " 0.87272412 0.94564612]\n"
     ]
    }
   ],
   "source": [
    "# Inicializar PCA y especificar el número de componentes principales deseados\n",
    "pca = PCA(n_components=8)  # Elegimos 2 componentes para visualización\n",
    "X_pca = pca.fit_transform(X_scaled)\n",
    "\n",
    "# Mostrar la proporción de varianza explicada por cada componente\n",
    "explained_variance = pca.explained_variance_ratio_\n",
    "print(\"Proporción de varianza explicada por cada componente:\", explained_variance)\n",
    "print(\"Varianza explicada acumulada:\", np.cumsum(explained_variance))"
   ]
  },
  {
   "cell_type": "markdown",
   "id": "81de908b-5ac8-4052-8831-66d8d7184dde",
   "metadata": {},
   "source": [
    "### Interpretacion\n",
    " - La Varianza acumulada de los 6 componentes es del 79.47%.\n",
    " - El resto de la información (20.53%) está distribuida entre los componentes restantes.\n",
    " - Se puede trabajar con los primeros 6 componentes para reducir significativamente la dimensionalidad de los datos, conservando cerca del 80% de la información original.\n",
    " - Decidir cuántos componentes mantener depende del umbral de varianza acumulada que consideres suficiente, por ejmplo, Si el objetivo es conservar al menos el 90%, necesitariamos más componentes.\n",
    " -  **Cada componente principal es una combinación lineal de las variables originales, y los coeficientes asociados a estas variables**.\n",
    " -  Cada componente principal (PC1)es una suma ponderada de las variables originales (PC1 = aiX1, a2X2, a3X3.... anXn\n",
    " -  a1, a2, a3... an son los coeficientes o pesos que determinan cuánto contribuye cada variable x1, x2, x3 .. xn\n",
    " -  **El orden en el que aparecen las variables en el dataset no define directamente la estructura de los componentes**."
   ]
  },
  {
   "cell_type": "code",
   "execution_count": 90,
   "id": "39a21c20-7c81-4d33-870d-92b0e67a8057",
   "metadata": {},
   "outputs": [
    {
     "name": "stdout",
     "output_type": "stream",
     "text": [
      "Proporción de varianza explicada por cada componente: [0.24515346 0.14414767]\n",
      "Varianza explicada acumulada: [0.24515346 0.38930113]\n"
     ]
    }
   ],
   "source": [
    "# Inicializar PCA y especificar el número de componentes principales deseados\n",
    "pca = PCA(n_components=2)  # Elegimos 2 componentes para visualización\n",
    "X_pca = pca.fit_transform(X_scaled)\n",
    "\n",
    "# Mostrar la proporción de varianza explicada por cada componente\n",
    "explained_variance = pca.explained_variance_ratio_\n",
    "print(\"Proporción de varianza explicada por cada componente:\", explained_variance)\n",
    "print(\"Varianza explicada acumulada:\", np.cumsum(explained_variance))"
   ]
  },
  {
   "cell_type": "code",
   "execution_count": 92,
   "id": "29d37dcf-1b41-442c-a52d-339b88b70ff6",
   "metadata": {},
   "outputs": [
    {
     "data": {
      "text/plain": [
       "array([[ 0.85344502, -1.6831275 ],\n",
       "       [-0.02207211, -0.85012726],\n",
       "       [ 2.24372442, -1.27455551],\n",
       "       ...,\n",
       "       [-0.36959297,  1.06952436],\n",
       "       [-1.4505413 ,  2.32530246],\n",
       "       [-0.98820365,  0.24384409]])"
      ]
     },
     "execution_count": 92,
     "metadata": {},
     "output_type": "execute_result"
    }
   ],
   "source": [
    "X_pca"
   ]
  },
  {
   "cell_type": "code",
   "execution_count": 97,
   "id": "e44c757e-06fe-49db-bc42-a473188f82e5",
   "metadata": {},
   "outputs": [
    {
     "name": "stdout",
     "output_type": "stream",
     "text": [
      "Contribución de variables a cada componente:\n",
      "     funded_amnt  int_rate  grade_code  purpose_code  addr_state_code  \\\n",
      "PC1     0.275325  0.594051    0.587323     -0.092401        -0.012857   \n",
      "PC2     0.477991 -0.003866    0.002497      0.012610         0.121172   \n",
      "\n",
      "     home_ownership_code  annual_inc       dti  revol_util  \\\n",
      "PC1             0.032429    0.068504  0.171456    0.423147   \n",
      "PC2            -0.523011    0.584807 -0.286579   -0.230418   \n",
      "\n",
      "     pub_rec_bankruptcies  \n",
      "PC1              0.058755  \n",
      "PC2             -0.076830  \n"
     ]
    }
   ],
   "source": [
    "# Coeficientes de las variables\n",
    "components_df = pd.DataFrame(\n",
    "    pca.components_,\n",
    "    columns=X.columns,\n",
    "    index=[f'PC{i+1}' for i in range(pca.n_components_)]\n",
    ")\n",
    "\n",
    "print(\"Contribución de variables a cada componente:\")\n",
    "print(components_df)"
   ]
  },
  {
   "cell_type": "markdown",
   "id": "ebcda1f7-92ba-46ec-903c-ea5c29456275",
   "metadata": {},
   "source": [
    "###  Visualización de los datos reducidos"
   ]
  },
  {
   "cell_type": "code",
   "execution_count": 95,
   "id": "b629897c-2ff5-4d64-9a14-bba83d4be4c3",
   "metadata": {},
   "outputs": [
    {
     "data": {
      "image/png": "[encoded data removed]",
      "text/plain": [
       "<Figure size 640x480 with 1 Axes>"
      ]
     },
     "metadata": {},
     "output_type": "display_data"
    }
   ],
   "source": [
    "# Crear un dataframe con las componentes principales y la variable objetivo\n",
    "pca_df = pd.DataFrame(X_pca, columns=['PCA1', 'PCA2'])\n",
    "pca_df['repaid'] = prestamos['repaid'].values\n",
    "\n",
    "# Visualizar los datos en el espacio reducido\n",
    "import seaborn as sns\n",
    "sns.scatterplot(data=pca_df, x='PCA1', y='PCA2', hue='repaid', palette='Set1')\n",
    "plt.title('Visualización de Componentes Principales')\n",
    "plt.show()"
   ]
  },
  {
   "cell_type": "markdown",
   "id": "fc968c7f-8757-4898-88cc-470170a43053",
   "metadata": {},
   "source": [
    "### Determinar el número óptimo de componentes\n",
    "\n",
    "Para seleccionar el número óptimo de componentes principales, podemos graficar la varianza explicada acumulada:"
   ]
  },
  {
   "cell_type": "code",
   "execution_count": null,
   "id": "984a69f5-e8cd-47b4-9808-f68d8cba74e9",
   "metadata": {},
   "outputs": [],
   "source": []
  },
  {
   "cell_type": "code",
   "execution_count": 76,
   "id": "28cae379-e421-48b2-827b-2d56625c0255",
   "metadata": {},
   "outputs": [
    {
     "data": {
      "image/png": "[encoded data removed]",
      "text/plain": [
       "<Figure size 640x480 with 1 Axes>"
      ]
     },
     "metadata": {},
     "output_type": "display_data"
    }
   ],
   "source": [
    "# Inicializar PCA sin especificar el número de componentes\n",
    "pca_full = PCA()\n",
    "pca_full.fit(X_scaled)\n",
    "\n",
    "# Graficar la varianza acumulada\n",
    "plt.plot(np.cumsum(pca_full.explained_variance_ratio_))\n",
    "plt.xlabel('Número de Componentes Principales')\n",
    "plt.ylabel('Varianza Explicada Acumulada')\n",
    "plt.title('Selección del Número de Componentes')\n",
    "plt.grid()\n",
    "plt.show()\n"
   ]
  },
  {
   "cell_type": "markdown",
   "id": "8b585cb3-e88e-44e0-a37d-4eb74c0afa64",
   "metadata": {},
   "source": [
    "### Usar los componentes principales para modelado"
   ]
  },
  {
   "cell_type": "code",
   "execution_count": 120,
   "id": "91db45c5-ad32-4269-ac18-5ea58a3e4629",
   "metadata": {},
   "outputs": [
    {
     "name": "stdout",
     "output_type": "stream",
     "text": [
      "Matriz Confusion:\n",
      "[[  26  904]\n",
      " [  52 4991]]\n",
      "\n",
      "              precision    recall  f1-score   support\n",
      "\n",
      "           0       0.33      0.03      0.05       930\n",
      "           1       0.85      0.99      0.91      5043\n",
      "\n",
      "    accuracy                           0.84      5973\n",
      "   macro avg       0.59      0.51      0.48      5973\n",
      "weighted avg       0.77      0.84      0.78      5973\n",
      "\n"
     ]
    }
   ],
   "source": [
    "# Dividir el dataset X_pca para entrenamiento y prueba\n",
    "X_train, X_test, y_train, y_test = train_test_split(X_pca, prestamos['repaid'],\n",
    "                                                    test_size=0.3, random_state=42)\n",
    "\n",
    "# Entrenar un modelo (por ejemplo, RandomForestClassifier)\n",
    "from sklearn.ensemble import RandomForestClassifier\n",
    "from sklearn.metrics import classification_report\n",
    "\n",
    "rfc1 = RandomForestClassifier(random_state=23)\n",
    "rfc1 = rfc1.fit(X_train, y_train)\n",
    "\n",
    "# Evaluación\n",
    "y_pred = rfc1.predict(X_test)\n",
    "\n",
    "from sklearn import metrics\n",
    "print(f'Matriz Confusion:\\n{metrics.confusion_matrix(y_test, y_pred)}')\n",
    "print(\"\")\n",
    "print(classification_report(y_test, y_pred))\n"
   ]
  },
  {
   "cell_type": "markdown",
   "id": "a1167bb0-a666-4177-9129-ae51c04e9d3e",
   "metadata": {},
   "source": [
    "### Con balanceo de clases\n",
    "\n"
   ]
  },
  {
   "cell_type": "code",
   "execution_count": 111,
   "id": "af1294e9-c7ea-4037-a8a0-f562dc76c5f6",
   "metadata": {},
   "outputs": [
    {
     "name": "stdout",
     "output_type": "stream",
     "text": [
      "Matriz Confusion:\n",
      "[[  44  886]\n",
      " [ 137 4906]]\n",
      "\n",
      "              precision    recall  f1-score   support\n",
      "\n",
      "           0       0.24      0.05      0.08       930\n",
      "           1       0.85      0.97      0.91      5043\n",
      "\n",
      "    accuracy                           0.83      5973\n",
      "   macro avg       0.55      0.51      0.49      5973\n",
      "weighted avg       0.75      0.83      0.78      5973\n",
      "\n"
     ]
    }
   ],
   "source": [
    "# Dividir el dataset X_pca para entrenamiento y prueba\n",
    "X_train, X_test, y_train, y_test = train_test_split(X_pca, prestamos['repaid'],\n",
    "                                                    test_size=0.3, random_state=42)\n",
    "\n",
    "# Entrenar un modelo (por ejemplo, RandomForestClassifier)\n",
    "from sklearn.ensemble import RandomForestClassifier\n",
    "from sklearn.metrics import classification_report\n",
    "\n",
    "rfc1 = RandomForestClassifier(random_state=23, class_weight='balanced')\n",
    "rfc1 = rfc1.fit(X_train, y_train)\n",
    "\n",
    "# Evaluación\n",
    "y_pred = rfc1.predict(X_test)\n",
    "\n",
    "from sklearn import metrics\n",
    "print(f'Matriz Confusion:\\n{metrics.confusion_matrix(y_test, y_pred)}')\n",
    "print(\"\")\n",
    "print(classification_report(y_test, y_pred))"
   ]
  },
  {
   "cell_type": "markdown",
   "id": "761c40a7-898f-4c3c-ae31-178692937d66",
   "metadata": {},
   "source": [
    "### Balanceo de clase y max_depth"
   ]
  },
  {
   "cell_type": "code",
   "execution_count": 114,
   "id": "51fb7940-7af8-4b7b-a021-a58a1eaf8705",
   "metadata": {},
   "outputs": [
    {
     "name": "stdout",
     "output_type": "stream",
     "text": [
      "Matriz Confusion:\n",
      "[[ 511  419]\n",
      " [1723 3320]]\n",
      "\n",
      "              precision    recall  f1-score   support\n",
      "\n",
      "           0       0.23      0.55      0.32       930\n",
      "           1       0.89      0.66      0.76      5043\n",
      "\n",
      "    accuracy                           0.64      5973\n",
      "   macro avg       0.56      0.60      0.54      5973\n",
      "weighted avg       0.79      0.64      0.69      5973\n",
      "\n"
     ]
    }
   ],
   "source": [
    "# Dividir el dataset X_pca para entrenamiento y prueba\n",
    "X_train, X_test, y_train, y_test = train_test_split(X_pca, prestamos['repaid'],\n",
    "                                                     random_state=42)\n",
    "\n",
    "# Entrenar un modelo (por ejemplo, RandomForestClassifier)\n",
    "from sklearn.ensemble import RandomForestClassifier\n",
    "from sklearn.metrics import classification_report\n",
    "\n",
    "rfc1 = RandomForestClassifier(max_depth=7, random_state=23, class_weight='balanced')\n",
    "rfc1 = rfc1.fit(X_train, y_train)\n",
    "\n",
    "# Evaluación\n",
    "y_pred = rfc1.predict(X_test)\n",
    "from sklearn import metrics\n",
    "print(f'Matriz Confusion:\\n{metrics.confusion_matrix(y_test, y_pred)}')\n",
    "print(\"\")\n",
    "print(classification_report(y_test, y_pred))"
   ]
  },
  {
   "cell_type": "code",
   "execution_count": null,
   "id": "157df648-6ecb-4fde-802d-4217136be346",
   "metadata": {},
   "outputs": [],
   "source": []
  }
 ],
 "metadata": {
  "kernelspec": {
   "display_name": "Python [conda env:base] *",
   "language": "python",
   "name": "conda-base-py"
  },
  "language_info": {
   "codemirror_mode": {
    "name": "ipython",
    "version": 3
   },
   "file_extension": ".py",
   "mimetype": "text/x-python",
   "name": "python",
   "nbconvert_exporter": "python",
   "pygments_lexer": "ipython3",
   "version": "3.11.5"
  }
 },
 "nbformat": 4,
 "nbformat_minor": 5
}
