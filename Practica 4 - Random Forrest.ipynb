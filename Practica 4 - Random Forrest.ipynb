{
 "cells": [
  {
   "cell_type": "markdown",
   "id": "92530edc-08bc-47fb-974e-7e750414f945",
   "metadata": {},
   "source": [
    "![](Cintilla2004.png)\n",
    "\n",
    "## **Curso de Inteligencia Artificial con Python y Scikit-Leaarn**\n",
    "### Instructor: Dr. José Gabriel Rodríguez Rivas  "
   ]
  },
  {
   "cell_type": "markdown",
   "id": "c2b9add8-153a-4811-81af-6dc5760e7a74",
   "metadata": {},
   "source": [
    "<div style=\"color: blue;\">\n",
    "    <h1> Practica 4: Random ForestClassifier  </h1>\n",
    "</div> "
   ]
  },
  {
   "cell_type": "code",
   "execution_count": 10,
   "id": "6d566a56-c172-48fc-807e-b57710de2cb5",
   "metadata": {},
   "outputs": [],
   "source": [
    "import pandas as pd\n",
    "from sklearn.ensemble import RandomForestClassifier\n",
    "from sklearn import metrics"
   ]
  },
  {
   "cell_type": "code",
   "execution_count": 8,
   "id": "a98ee4e7-80a8-4cc9-98da-c1f763d561b3",
   "metadata": {},
   "outputs": [
    {
     "data": {
      "text/html": [
       "<div>\n",
       "<style scoped>\n",
       "    .dataframe tbody tr th:only-of-type {\n",
       "        vertical-align: middle;\n",
       "    }\n",
       "\n",
       "    .dataframe tbody tr th {\n",
       "        vertical-align: top;\n",
       "    }\n",
       "\n",
       "    .dataframe thead th {\n",
       "        text-align: right;\n",
       "    }\n",
       "</style>\n",
       "<table border=\"1\" class=\"dataframe\">\n",
       "  <thead>\n",
       "    <tr style=\"text-align: right;\">\n",
       "      <th></th>\n",
       "      <th>funded_amnt</th>\n",
       "      <th>loan_term_year</th>\n",
       "      <th>int_rate</th>\n",
       "      <th>grade_code</th>\n",
       "      <th>purpose_code</th>\n",
       "      <th>addr_state_code</th>\n",
       "      <th>home_ownership_code</th>\n",
       "      <th>annual_inc</th>\n",
       "      <th>dti</th>\n",
       "      <th>revol_util</th>\n",
       "      <th>pub_rec_bankruptcies</th>\n",
       "      <th>repaid</th>\n",
       "      <th>total_pymnt</th>\n",
       "    </tr>\n",
       "  </thead>\n",
       "  <tbody>\n",
       "    <tr>\n",
       "      <th>0</th>\n",
       "      <td>2400</td>\n",
       "      <td>3</td>\n",
       "      <td>15.96</td>\n",
       "      <td>2</td>\n",
       "      <td>11</td>\n",
       "      <td>2</td>\n",
       "      <td>4</td>\n",
       "      <td>12252</td>\n",
       "      <td>8.72</td>\n",
       "      <td>98.5</td>\n",
       "      <td>0</td>\n",
       "      <td>1</td>\n",
       "      <td>3005.666844</td>\n",
       "    </tr>\n",
       "    <tr>\n",
       "      <th>1</th>\n",
       "      <td>10000</td>\n",
       "      <td>3</td>\n",
       "      <td>13.49</td>\n",
       "      <td>2</td>\n",
       "      <td>9</td>\n",
       "      <td>0</td>\n",
       "      <td>4</td>\n",
       "      <td>49200</td>\n",
       "      <td>20.00</td>\n",
       "      <td>21.0</td>\n",
       "      <td>0</td>\n",
       "      <td>1</td>\n",
       "      <td>12231.890000</td>\n",
       "    </tr>\n",
       "    <tr>\n",
       "      <th>2</th>\n",
       "      <td>3000</td>\n",
       "      <td>3</td>\n",
       "      <td>18.64</td>\n",
       "      <td>4</td>\n",
       "      <td>0</td>\n",
       "      <td>0</td>\n",
       "      <td>4</td>\n",
       "      <td>48000</td>\n",
       "      <td>5.35</td>\n",
       "      <td>87.5</td>\n",
       "      <td>0</td>\n",
       "      <td>1</td>\n",
       "      <td>3939.135294</td>\n",
       "    </tr>\n",
       "    <tr>\n",
       "      <th>3</th>\n",
       "      <td>5600</td>\n",
       "      <td>5</td>\n",
       "      <td>21.28</td>\n",
       "      <td>5</td>\n",
       "      <td>11</td>\n",
       "      <td>0</td>\n",
       "      <td>3</td>\n",
       "      <td>40000</td>\n",
       "      <td>5.55</td>\n",
       "      <td>32.6</td>\n",
       "      <td>0</td>\n",
       "      <td>0</td>\n",
       "      <td>647.500000</td>\n",
       "    </tr>\n",
       "    <tr>\n",
       "      <th>4</th>\n",
       "      <td>5375</td>\n",
       "      <td>5</td>\n",
       "      <td>12.69</td>\n",
       "      <td>1</td>\n",
       "      <td>9</td>\n",
       "      <td>5</td>\n",
       "      <td>4</td>\n",
       "      <td>15000</td>\n",
       "      <td>18.08</td>\n",
       "      <td>36.5</td>\n",
       "      <td>0</td>\n",
       "      <td>0</td>\n",
       "      <td>1484.590000</td>\n",
       "    </tr>\n",
       "  </tbody>\n",
       "</table>\n",
       "</div>"
      ],
      "text/plain": [
       "   funded_amnt  loan_term_year  int_rate  grade_code  purpose_code  \\\n",
       "0         2400               3     15.96           2            11   \n",
       "1        10000               3     13.49           2             9   \n",
       "2         3000               3     18.64           4             0   \n",
       "3         5600               5     21.28           5            11   \n",
       "4         5375               5     12.69           1             9   \n",
       "\n",
       "   addr_state_code  home_ownership_code  annual_inc    dti  revol_util  \\\n",
       "0                2                    4       12252   8.72        98.5   \n",
       "1                0                    4       49200  20.00        21.0   \n",
       "2                0                    4       48000   5.35        87.5   \n",
       "3                0                    3       40000   5.55        32.6   \n",
       "4                5                    4       15000  18.08        36.5   \n",
       "\n",
       "   pub_rec_bankruptcies  repaid   total_pymnt  \n",
       "0                     0       1   3005.666844  \n",
       "1                     0       1  12231.890000  \n",
       "2                     0       1   3939.135294  \n",
       "3                     0       0    647.500000  \n",
       "4                     0       0   1484.590000  "
      ]
     },
     "execution_count": 8,
     "metadata": {},
     "output_type": "execute_result"
    }
   ],
   "source": [
    "# Cargar el dataset\n",
    "prestamos = pd.read_csv(\"prestamos.csv\")\n",
    "# Exploración rápida\n",
    "prestamos.head()"
   ]
  },
  {
   "cell_type": "code",
   "execution_count": 14,
   "id": "6711b108-2771-44a8-880d-9cd94fe561a2",
   "metadata": {},
   "outputs": [],
   "source": [
    "from sklearn.model_selection import train_test_split\n",
    "\n",
    "# columnas necesarias para entrenar el modelo de clasificacion, no ponemos la de pago y total pago\n",
    "model_columns = ['funded_amnt', \"int_rate\", \"grade_code\", 'purpose_code', 'addr_state_code',\n",
    "                 'home_ownership_code', 'annual_inc', 'dti', 'revol_util', \n",
    "                 'pub_rec_bankruptcies']\n",
    "\n",
    "# Dividimos el dataFrame en df_train y df_test. \n",
    "df_train, df_test = train_test_split(prestamos, test_size=0.4, random_state=23)\n",
    "\n",
    "#  No podemos usar df_train y df_test directamente en la clasificación, por lo tanto, \n",
    "#  Definiremos X_train y X_test, manteniendo sólo las columnas del modelo. \n",
    "X_train = df_train[model_columns]\n",
    "X_test = df_test[model_columns]\n",
    "\n",
    "#  A continuación, definimos y_train y y_test con la columna de **repaid**, es decir\n",
    "#  la variable objetivo (Valor a predecir)\n",
    "y_train = df_train.repaid\n",
    "y_test = df_test.repaid"
   ]
  },
  {
   "cell_type": "code",
   "execution_count": 20,
   "id": "22ec78a0-adee-48a7-a28c-9135c6a9ebae",
   "metadata": {},
   "outputs": [
    {
     "name": "stdout",
     "output_type": "stream",
     "text": [
      "Precisión: 0.8495730788548468\n",
      "Matriz Confusion:\n",
      "[[  25 1161]\n",
      " [  37 6741]]\n"
     ]
    }
   ],
   "source": [
    "# Crear\n",
    "rfc1 = RandomForestClassifier(random_state=23)\n",
    "\n",
    "# Fit estimator and display score\n",
    "rfc1 = rfc1.fit(X_train, y_train)\n",
    "\n",
    "print(f'Precisión: {rfc1.score(X_test, y_test)}')\n",
    "\n",
    "pred = rfc1.predict(X_test)\n",
    "\n",
    "print(f'Matriz Confusion:\\n{metrics.confusion_matrix(y_test, pred)}')"
   ]
  },
  {
   "cell_type": "code",
   "execution_count": null,
   "id": "0a6616a3-c080-4005-938c-7f943ff21f32",
   "metadata": {},
   "outputs": [],
   "source": []
  },
  {
   "cell_type": "code",
   "execution_count": 24,
   "id": "a74160cc-d1ec-46cb-8060-696ffed4bf03",
   "metadata": {},
   "outputs": [],
   "source": [
    "# columnas necesarias para entrenar el modelo de clasificacion, no ponemos la de pago y total pago\n",
    "model_columns = ['funded_amnt', \"int_rate\", \"grade_code\", 'purpose_code', \n",
    "                 'home_ownership_code', 'annual_inc', 'dti', 'revol_util' ]\n",
    "\n",
    "# Dividimos el dataFrame en df_train y df_test. \n",
    "df_train, df_test = train_test_split(prestamos, random_state=23)\n",
    "\n",
    "X_train = df_train[model_columns]\n",
    "X_test = df_test[model_columns]\n",
    "\n",
    "y_train = df_train.repaid\n",
    "y_test = df_test.repaid"
   ]
  },
  {
   "cell_type": "code",
   "execution_count": 28,
   "id": "7ee68ab1-af55-4161-b94a-e570d39084d3",
   "metadata": {},
   "outputs": [
    {
     "name": "stdout",
     "output_type": "stream",
     "text": [
      "Precisión: 0.64235483222825\n",
      "Confusion Matrix:\n",
      "[[ 419  329]\n",
      " [1451 2778]]\n"
     ]
    }
   ],
   "source": [
    "rfc5 = RandomForestClassifier(max_depth=7, class_weight='balanced', random_state=23)\n",
    "\n",
    "# Fit estimator and display score\n",
    "rfc5 = rfc5.fit(X_train, y_train)\n",
    "\n",
    "print(f'Precisión: {rfc5.score(X_test, y_test)}')\n",
    "pred = rfc5.predict(X_test)\n",
    "\n",
    "print(f'Confusion Matrix:\\n{metrics.confusion_matrix(y_test, pred)}')"
   ]
  },
  {
   "cell_type": "code",
   "execution_count": null,
   "id": "6c44dfb3-e2d9-4908-9a88-e64f315b7b1c",
   "metadata": {},
   "outputs": [],
   "source": []
  }
 ],
 "metadata": {
  "kernelspec": {
   "display_name": "Python [conda env:base] *",
   "language": "python",
   "name": "conda-base-py"
  },
  "language_info": {
   "codemirror_mode": {
    "name": "ipython",
    "version": 3
   },
   "file_extension": ".py",
   "mimetype": "text/x-python",
   "name": "python",
   "nbconvert_exporter": "python",
   "pygments_lexer": "ipython3",
   "version": "3.11.5"
  }
 },
 "nbformat": 4,
 "nbformat_minor": 5
}
