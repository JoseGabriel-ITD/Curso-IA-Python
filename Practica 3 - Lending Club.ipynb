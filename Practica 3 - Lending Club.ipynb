{
 "cells": [
  {
   "cell_type": "markdown",
   "metadata": {},
   "source": [
    "![](Cintilla2004.png)\n",
    "\n",
    "## **Curso de Inteligencia Artificial con Python y Scikit-Leaarn**\n",
    "### Instructor: Dr. José Gabriel Rodríguez Rivas\n",
    "\n",
    "## Tabla de Contenido\n",
    "\n",
    "[1. Contexto de la práctica](#id1)<br>\n",
    "[2. Evaluar dataset](#id2)<br>\n",
    "[3. Análisis exploratorio de los datos](#id3)<br>\n",
    "...  [3.1 Plazo del prestamo y taza de interés](#id31)<br>\n",
    "...  [3.2 Calificación del préstamo](#id32)<br>\n",
    "...  [3.3 Calificación del préstamo y tasa de interés](#id33)<br>\n",
    "...  [3.4 Préstamos por Estado ](#id34)<br>\n",
    "...  [3.5 Distribución Anual de Ingresos de los Prestatarios](#id35)<br>\n",
    "...  [3.6 Ingreso anual del prestatario por estado](#id36)<br>\n",
    "...  [3.7 Ingreso anual y Tasa de Interés](#id37)<br>\n",
    "...  [3.8 Préstamos emitidos durante el año](#id38)<br>\n",
    "...  [3.9 Evolución de la tasa de interés ](#id39)<br>\n",
    "...  [3.10 Estado del prestamo](#id310)<br>\n",
    "...  [3.11 Explorar la tasa de pago de préstamos a tres y cinco años](#id311)<br>\n",
    "...  [3.12 Estado del préstamo y taza de pago por calificacion del prestamo](#id312)<br>\n",
    "[4. Preparación de datos](#id4)<br>\n",
    "...  [4.1 Codificar el estado del prestamo en una nueva columna](#id41)<br>\n",
    "...  [4.2 Codificar el Plazo del préstamo](#id42)<br>\n",
    "...  [4.3 Codificar características categóricas ](#id43)<br>\n",
    "...  [4.4 Manejar Valores perdidos](#id44)<br>\n",
    "[5. Preparación del modelo](#id5)<br>\n",
    "...  [5.1 Selección de Variables predictoras](#id51)<br>\n",
    "...  [5.2 Dividir el dataframe de datos para entrenar y probar](#id52)<br>\n",
    "[6. Logistic Regression ó Regresión logistica](#id6)<br>\n",
    "...  [6.1 Regresión logística sin balanceo de clases ](#id61)<br>\n",
    "...  [6.2 Regresión logística con peso de clase balanceado ](#id62)<br>\n",
    "[7. Evaluación del modelo - Matriz de confusión](#id7)<br>\n",
    "...  [7.1 Evaluación con matriz de confusión en clasificador 1](#id71)<br>\n",
    "...  [7.2 Evaluación con matriz de confusión en clasificador 2](#id72)<br>\n",
    "[8 Clasificador K-Nearest Neighbors (KNN) ](#id8)<br>\n",
    "...  [8.1 Clasificador KNN con 1 vecino](#id81)<br>\n",
    "...  [8.2 Clasificador KNN con 5 vecinos](#id82)<br>\n",
    "...  [8.3 Clasificador KNN con 15 vecinos](#id83)<br>\n",
    "...  [8.4 Clasificador KNN con 25 vecinos](#id84)<br>\n",
    "[9. Random Forest Classifier ó Clasificador de bosque aleatorio](#id9)<br>\n",
    "...  [9.1 Clasificador de bosque aleatorio con peso de clase predeterminado](#id91)<br>\n",
    "...  [9.2 Clasificador de bosque aleatorio con class_weight='balanced'](#id92)<br>\n",
    "[10. Selección de características (feature selection) con scikit-learn](#id10)<br>\n",
    "\n",
    "   "
   ]
  },
  {
   "cell_type": "markdown",
   "metadata": {},
   "source": [
    "\n",
    "## 1. Contexto de la práctica    <a id='id1'> </a>\n",
    "\n",
    "- En la primera parte, se enfocará en **comprender los objetivos y requisitos del dataset a utilizar desde una perspectiva comercial**, comenzando con la comprensión de cómo funciona el **club de prestamos Lending Club**.\n",
    "\n",
    "### Club de préstamos\n",
    "\n",
    "LendingClub es una compañía estadounidense de **préstamos entre pares**, con sede en San Francisco, California. Es la plataforma de préstamos peer-to-peer más grande del mundo.\n",
    "\n",
    "**LendingClub**\n",
    "- permite a los **prestatarios solicitar préstamos personales no garantizados** entre  1,000 y 40,000. \n",
    "- Los **inversionistas pueden buscar y explorar las listas de préstamos** en el sitio web de LendingClub **y seleccionar los préstamos en los que desean invertir según la información proporcionada sobre el prestatario, el monto del préstamo, el grado del préstamo y el propósito del préstamo**, con una inversión mínima de $25. \n",
    "- Los inversionistas ganan dinero con los intereses. \n",
    "- LendingClub gana dinero cobrando a los prestatarios una tarifa de originación y a los inversionistas una tarifa de servicio.\n",
    "\n",
    "Para obtener más información sobre la empresa, consulte el artículo de wikipedia sobre [LendingClub](https://en.wikipedia.org/wiki/LendingClub).\n",
    "\n",
    "\n",
    "-  En la segunda parte, se realizará una regresion logistica.\n"
   ]
  },
  {
   "cell_type": "markdown",
   "metadata": {},
   "source": [
    "## 2. Evaluar Dataset   <a id='id2'> </a>\n",
    "\n",
    "El archivo de datos **lending_club_2007_2011_6_states.csv** contiene la información del préstamo y del prestatario para los préstamos iniciados entre 2007 y 2011 en seis estados, California, Nueva York, Florida, Texas, Nueva Jersey e Illinois.\n",
    "\n",
    "El archivo de diccionario de datos **data_dictionary.csv** contiene descripciones de todas las columnas del archivo de datos."
   ]
  },
  {
   "cell_type": "code",
   "execution_count": 4,
   "metadata": {},
   "outputs": [],
   "source": [
    "import numpy as np\n",
    "import pandas as pd\n",
    "import seaborn as sns\n",
    "import matplotlib.pyplot as plt"
   ]
  },
  {
   "cell_type": "code",
   "execution_count": 5,
   "metadata": {},
   "outputs": [
    {
     "data": {
      "text/html": [
       "<div>\n",
       "<style scoped>\n",
       "    .dataframe tbody tr th:only-of-type {\n",
       "        vertical-align: middle;\n",
       "    }\n",
       "\n",
       "    .dataframe tbody tr th {\n",
       "        vertical-align: top;\n",
       "    }\n",
       "\n",
       "    .dataframe thead th {\n",
       "        text-align: right;\n",
       "    }\n",
       "</style>\n",
       "<table border=\"1\" class=\"dataframe\">\n",
       "  <thead>\n",
       "    <tr style=\"text-align: right;\">\n",
       "      <th></th>\n",
       "      <th>ColumnName</th>\n",
       "      <th>Descripcion</th>\n",
       "      <th>Description</th>\n",
       "    </tr>\n",
       "  </thead>\n",
       "  <tbody>\n",
       "    <tr>\n",
       "      <th>0</th>\n",
       "      <td>acc_now_delinq</td>\n",
       "      <td>El número de cuentas en las que el prestatario...</td>\n",
       "      <td>The number of accounts on which the borrower i...</td>\n",
       "    </tr>\n",
       "    <tr>\n",
       "      <th>1</th>\n",
       "      <td>addr_state</td>\n",
       "      <td>El estado proporcionado por el prestatario en ...</td>\n",
       "      <td>The state provided by the borrower in the loan...</td>\n",
       "    </tr>\n",
       "    <tr>\n",
       "      <th>2</th>\n",
       "      <td>annual_inc</td>\n",
       "      <td>Los ingresos anuales autodeclarados proporcion...</td>\n",
       "      <td>The self-reported annual income provided by th...</td>\n",
       "    </tr>\n",
       "    <tr>\n",
       "      <th>3</th>\n",
       "      <td>application_type</td>\n",
       "      <td>Indica si el préstamo es una solicitud individ...</td>\n",
       "      <td>Indicates whether the loan is an individual ap...</td>\n",
       "    </tr>\n",
       "    <tr>\n",
       "      <th>4</th>\n",
       "      <td>chargeoff_within_12_mths</td>\n",
       "      <td>Número de cancelaciones en 12 meses</td>\n",
       "      <td>Number of charge-offs within 12 months</td>\n",
       "    </tr>\n",
       "    <tr>\n",
       "      <th>5</th>\n",
       "      <td>collection_recovery_fee</td>\n",
       "      <td>tasa de cobro post cargo</td>\n",
       "      <td>post charge off collection fee</td>\n",
       "    </tr>\n",
       "    <tr>\n",
       "      <th>6</th>\n",
       "      <td>collections_12_mths_ex_med</td>\n",
       "      <td>Número de cobros en 12 meses excluyendo cobros...</td>\n",
       "      <td>Number of collections in 12 months excluding m...</td>\n",
       "    </tr>\n",
       "    <tr>\n",
       "      <th>7</th>\n",
       "      <td>debt_settlement_flag</td>\n",
       "      <td>Indica si el prestatario, que ha cancelado, es...</td>\n",
       "      <td>Flags whether or not the borrower, who has cha...</td>\n",
       "    </tr>\n",
       "    <tr>\n",
       "      <th>8</th>\n",
       "      <td>debt_settlement_flag_date</td>\n",
       "      <td>La fecha más reciente en la que se ha establec...</td>\n",
       "      <td>The most recent date that the Debt_Settlement_...</td>\n",
       "    </tr>\n",
       "    <tr>\n",
       "      <th>9</th>\n",
       "      <td>delinq_2yrs</td>\n",
       "      <td>El número de incidencias de morosidad de más d...</td>\n",
       "      <td>The number of 30+ days past-due incidences of ...</td>\n",
       "    </tr>\n",
       "    <tr>\n",
       "      <th>10</th>\n",
       "      <td>delinq_amnt</td>\n",
       "      <td>El monto vencido adeudado por las cuentas en l...</td>\n",
       "      <td>The past-due amount owed for the accounts on w...</td>\n",
       "    </tr>\n",
       "    <tr>\n",
       "      <th>11</th>\n",
       "      <td>disbursement_method</td>\n",
       "      <td>El método por el cual el prestatario recibe su...</td>\n",
       "      <td>The method by which the borrower receives thei...</td>\n",
       "    </tr>\n",
       "    <tr>\n",
       "      <th>12</th>\n",
       "      <td>dti</td>\n",
       "      <td>Una relación calculada utilizando los pagos de...</td>\n",
       "      <td>A ratio calculated using the borrowerâs tota...</td>\n",
       "    </tr>\n",
       "    <tr>\n",
       "      <th>13</th>\n",
       "      <td>earliest_cr_line</td>\n",
       "      <td>El mes en que se abrió la primera línea de cré...</td>\n",
       "      <td>The month the borrower's earliest reported cre...</td>\n",
       "    </tr>\n",
       "    <tr>\n",
       "      <th>14</th>\n",
       "      <td>emp_length</td>\n",
       "      <td>Duración del empleo en años. Los valores posib...</td>\n",
       "      <td>Employment length in years. Possible values ar...</td>\n",
       "    </tr>\n",
       "    <tr>\n",
       "      <th>15</th>\n",
       "      <td>emp_title</td>\n",
       "      <td>El título del trabajo proporcionado por el Pre...</td>\n",
       "      <td>The job title supplied by the Borrower when ap...</td>\n",
       "    </tr>\n",
       "    <tr>\n",
       "      <th>16</th>\n",
       "      <td>funded_amnt</td>\n",
       "      <td>La cantidad total comprometida con ese préstam...</td>\n",
       "      <td>The total amount committed to that loan at tha...</td>\n",
       "    </tr>\n",
       "    <tr>\n",
       "      <th>17</th>\n",
       "      <td>funded_amnt_inv</td>\n",
       "      <td>El monto total comprometido por los inversioni...</td>\n",
       "      <td>The total amount committed by investors for th...</td>\n",
       "    </tr>\n",
       "    <tr>\n",
       "      <th>18</th>\n",
       "      <td>grade</td>\n",
       "      <td>Grado de préstamo asignado LC</td>\n",
       "      <td>LC assigned loan grade</td>\n",
       "    </tr>\n",
       "    <tr>\n",
       "      <th>19</th>\n",
       "      <td>hardship_flag</td>\n",
       "      <td>Marca si el prestatario está o no en un plan d...</td>\n",
       "      <td>Flags whether or not the borrower is on a hard...</td>\n",
       "    </tr>\n",
       "    <tr>\n",
       "      <th>20</th>\n",
       "      <td>home_ownership</td>\n",
       "      <td>El estado de propiedad de la vivienda proporci...</td>\n",
       "      <td>The home ownership status provided by the borr...</td>\n",
       "    </tr>\n",
       "    <tr>\n",
       "      <th>21</th>\n",
       "      <td>initial_list_status</td>\n",
       "      <td>El estado de cotización inicial del préstamo. ...</td>\n",
       "      <td>The initial listing status of the loan. Possib...</td>\n",
       "    </tr>\n",
       "    <tr>\n",
       "      <th>22</th>\n",
       "      <td>inq_last_6mths</td>\n",
       "      <td>El número de consultas en los últimos 6 meses ...</td>\n",
       "      <td>The number of inquiries in past 6 months (excl...</td>\n",
       "    </tr>\n",
       "    <tr>\n",
       "      <th>23</th>\n",
       "      <td>installment</td>\n",
       "      <td>El pago mensual adeudado por el prestatario si...</td>\n",
       "      <td>The monthly payment owed by the borrower if th...</td>\n",
       "    </tr>\n",
       "    <tr>\n",
       "      <th>24</th>\n",
       "      <td>int_rate</td>\n",
       "      <td>Tasa de interés del préstamo</td>\n",
       "      <td>Interest Rate on the loan</td>\n",
       "    </tr>\n",
       "    <tr>\n",
       "      <th>25</th>\n",
       "      <td>issue_d</td>\n",
       "      <td>El mes en que se financió el préstamo.</td>\n",
       "      <td>The month which the loan was funded</td>\n",
       "    </tr>\n",
       "    <tr>\n",
       "      <th>26</th>\n",
       "      <td>last_credit_pull_d</td>\n",
       "      <td>El mes más reciente, LC sacó crédito para este...</td>\n",
       "      <td>The most recent month LC pulled credit for thi...</td>\n",
       "    </tr>\n",
       "    <tr>\n",
       "      <th>27</th>\n",
       "      <td>last_pymnt_amnt</td>\n",
       "      <td>Importe del último pago total recibido</td>\n",
       "      <td>Last total payment amount received</td>\n",
       "    </tr>\n",
       "    <tr>\n",
       "      <th>28</th>\n",
       "      <td>last_pymnt_d</td>\n",
       "      <td>Se recibió el pago del último mes</td>\n",
       "      <td>Last month payment was received</td>\n",
       "    </tr>\n",
       "    <tr>\n",
       "      <th>29</th>\n",
       "      <td>loan_amnt</td>\n",
       "      <td>El monto indicado del préstamo solicitado por ...</td>\n",
       "      <td>The listed amount of the loan applied for by t...</td>\n",
       "    </tr>\n",
       "    <tr>\n",
       "      <th>30</th>\n",
       "      <td>loan_status</td>\n",
       "      <td>Estado actual del préstamo</td>\n",
       "      <td>Current status of the loan</td>\n",
       "    </tr>\n",
       "    <tr>\n",
       "      <th>31</th>\n",
       "      <td>mths_since_last_delinq</td>\n",
       "      <td>El número de meses desde la última morosidad d...</td>\n",
       "      <td>The number of months since the borrower's last...</td>\n",
       "    </tr>\n",
       "    <tr>\n",
       "      <th>32</th>\n",
       "      <td>mths_since_last_major_derog</td>\n",
       "      <td>Meses desde la calificación más reciente de 90...</td>\n",
       "      <td>Months since most recent 90-day or worse rating</td>\n",
       "    </tr>\n",
       "    <tr>\n",
       "      <th>33</th>\n",
       "      <td>mths_since_last_record</td>\n",
       "      <td>El número de meses desde el último registro pú...</td>\n",
       "      <td>The number of months since the last public rec...</td>\n",
       "    </tr>\n",
       "    <tr>\n",
       "      <th>34</th>\n",
       "      <td>next_pymnt_d</td>\n",
       "      <td>Próxima fecha de pago programada</td>\n",
       "      <td>Next scheduled payment date</td>\n",
       "    </tr>\n",
       "    <tr>\n",
       "      <th>35</th>\n",
       "      <td>open_acc</td>\n",
       "      <td>El número de líneas de crédito abiertas en el ...</td>\n",
       "      <td>The number of open credit lines in the borrowe...</td>\n",
       "    </tr>\n",
       "    <tr>\n",
       "      <th>36</th>\n",
       "      <td>out_prncp</td>\n",
       "      <td>Capital restante pendiente por el monto total ...</td>\n",
       "      <td>Remaining outstanding principal for total amou...</td>\n",
       "    </tr>\n",
       "    <tr>\n",
       "      <th>37</th>\n",
       "      <td>out_prncp_inv</td>\n",
       "      <td>Principal pendiente restante por parte del mon...</td>\n",
       "      <td>Remaining outstanding principal for portion of...</td>\n",
       "    </tr>\n",
       "    <tr>\n",
       "      <th>38</th>\n",
       "      <td>policy_code</td>\n",
       "      <td>policy_code disponible públicamente = 1\\r\\nnue...</td>\n",
       "      <td>publicly available policy_code=1\\nnew products...</td>\n",
       "    </tr>\n",
       "    <tr>\n",
       "      <th>39</th>\n",
       "      <td>pub_rec</td>\n",
       "      <td>Número de registros públicos despectivos</td>\n",
       "      <td>Number of derogatory public records</td>\n",
       "    </tr>\n",
       "    <tr>\n",
       "      <th>40</th>\n",
       "      <td>pub_rec_bankruptcies</td>\n",
       "      <td>Número de quiebras de registros públicos</td>\n",
       "      <td>Number of public record bankruptcies</td>\n",
       "    </tr>\n",
       "    <tr>\n",
       "      <th>41</th>\n",
       "      <td>purpose</td>\n",
       "      <td>Una categoría proporcionada por el prestatario...</td>\n",
       "      <td>A category provided by the borrower for the lo...</td>\n",
       "    </tr>\n",
       "    <tr>\n",
       "      <th>42</th>\n",
       "      <td>pymnt_plan</td>\n",
       "      <td>Indica si se ha establecido un plan de pago pa...</td>\n",
       "      <td>Indicates if a payment plan has been put in pl...</td>\n",
       "    </tr>\n",
       "    <tr>\n",
       "      <th>43</th>\n",
       "      <td>recoveries</td>\n",
       "      <td>descontar la recuperación bruta</td>\n",
       "      <td>post charge off gross recovery</td>\n",
       "    </tr>\n",
       "    <tr>\n",
       "      <th>44</th>\n",
       "      <td>revol_bal</td>\n",
       "      <td>Saldo rotatorio de crédito total</td>\n",
       "      <td>Total credit revolving balance</td>\n",
       "    </tr>\n",
       "    <tr>\n",
       "      <th>45</th>\n",
       "      <td>revol_util</td>\n",
       "      <td>Tasa de utilización de la línea renovable, o l...</td>\n",
       "      <td>Revolving line utilization rate, or the amount...</td>\n",
       "    </tr>\n",
       "    <tr>\n",
       "      <th>46</th>\n",
       "      <td>sub_grade</td>\n",
       "      <td>Subgrado de préstamo asignado LC</td>\n",
       "      <td>LC assigned loan subgrade</td>\n",
       "    </tr>\n",
       "    <tr>\n",
       "      <th>47</th>\n",
       "      <td>tax_liens</td>\n",
       "      <td>Número de gravámenes fiscales</td>\n",
       "      <td>Number of tax liens</td>\n",
       "    </tr>\n",
       "    <tr>\n",
       "      <th>48</th>\n",
       "      <td>term</td>\n",
       "      <td>El número de pagos del préstamo. Los valores e...</td>\n",
       "      <td>The number of payments on the loan. Values are...</td>\n",
       "    </tr>\n",
       "    <tr>\n",
       "      <th>49</th>\n",
       "      <td>title</td>\n",
       "      <td>El título del préstamo proporcionado por el pr...</td>\n",
       "      <td>The loan title provided by the borrower</td>\n",
       "    </tr>\n",
       "    <tr>\n",
       "      <th>50</th>\n",
       "      <td>total_acc</td>\n",
       "      <td>El número total de líneas de crédito actualmen...</td>\n",
       "      <td>The total number of credit lines currently in ...</td>\n",
       "    </tr>\n",
       "    <tr>\n",
       "      <th>51</th>\n",
       "      <td>total_pymnt</td>\n",
       "      <td>Pagos recibidos hasta la fecha por el monto to...</td>\n",
       "      <td>Payments received to date for total amount funded</td>\n",
       "    </tr>\n",
       "    <tr>\n",
       "      <th>52</th>\n",
       "      <td>total_pymnt_inv</td>\n",
       "      <td>Pagos recibidos hasta la fecha por parte del m...</td>\n",
       "      <td>Payments received to date for portion of total...</td>\n",
       "    </tr>\n",
       "    <tr>\n",
       "      <th>53</th>\n",
       "      <td>total_rec_int</td>\n",
       "      <td>Intereses recibidos hasta la fecha</td>\n",
       "      <td>Interest received to date</td>\n",
       "    </tr>\n",
       "    <tr>\n",
       "      <th>54</th>\n",
       "      <td>total_rec_late_fee</td>\n",
       "      <td>Cargos por mora recibidos hasta la fecha</td>\n",
       "      <td>Late fees received to date</td>\n",
       "    </tr>\n",
       "    <tr>\n",
       "      <th>55</th>\n",
       "      <td>total_rec_prncp</td>\n",
       "      <td>Principal recibido a la fecha</td>\n",
       "      <td>Principal received to date</td>\n",
       "    </tr>\n",
       "    <tr>\n",
       "      <th>56</th>\n",
       "      <td>verification_status</td>\n",
       "      <td>Indica si los ingresos fueron verificados por ...</td>\n",
       "      <td>Indicates if income was verified by LC, not ve...</td>\n",
       "    </tr>\n",
       "    <tr>\n",
       "      <th>57</th>\n",
       "      <td>zip_code</td>\n",
       "      <td>Los primeros 3 números del código postal propo...</td>\n",
       "      <td>The first 3 numbers of the zip code provided b...</td>\n",
       "    </tr>\n",
       "  </tbody>\n",
       "</table>\n",
       "</div>"
      ],
      "text/plain": [
       "                     ColumnName  \\\n",
       "0                acc_now_delinq   \n",
       "1                    addr_state   \n",
       "2                    annual_inc   \n",
       "3              application_type   \n",
       "4      chargeoff_within_12_mths   \n",
       "5       collection_recovery_fee   \n",
       "6    collections_12_mths_ex_med   \n",
       "7          debt_settlement_flag   \n",
       "8     debt_settlement_flag_date   \n",
       "9                   delinq_2yrs   \n",
       "10                  delinq_amnt   \n",
       "11          disbursement_method   \n",
       "12                          dti   \n",
       "13             earliest_cr_line   \n",
       "14                   emp_length   \n",
       "15                    emp_title   \n",
       "16                  funded_amnt   \n",
       "17              funded_amnt_inv   \n",
       "18                        grade   \n",
       "19                hardship_flag   \n",
       "20               home_ownership   \n",
       "21          initial_list_status   \n",
       "22               inq_last_6mths   \n",
       "23                  installment   \n",
       "24                     int_rate   \n",
       "25                      issue_d   \n",
       "26           last_credit_pull_d   \n",
       "27              last_pymnt_amnt   \n",
       "28                 last_pymnt_d   \n",
       "29                    loan_amnt   \n",
       "30                  loan_status   \n",
       "31       mths_since_last_delinq   \n",
       "32  mths_since_last_major_derog   \n",
       "33       mths_since_last_record   \n",
       "34                 next_pymnt_d   \n",
       "35                     open_acc   \n",
       "36                    out_prncp   \n",
       "37                out_prncp_inv   \n",
       "38                  policy_code   \n",
       "39                      pub_rec   \n",
       "40         pub_rec_bankruptcies   \n",
       "41                      purpose   \n",
       "42                   pymnt_plan   \n",
       "43                   recoveries   \n",
       "44                    revol_bal   \n",
       "45                   revol_util   \n",
       "46                    sub_grade   \n",
       "47                    tax_liens   \n",
       "48                         term   \n",
       "49                        title   \n",
       "50                    total_acc   \n",
       "51                  total_pymnt   \n",
       "52              total_pymnt_inv   \n",
       "53                total_rec_int   \n",
       "54           total_rec_late_fee   \n",
       "55              total_rec_prncp   \n",
       "56          verification_status   \n",
       "57                     zip_code   \n",
       "\n",
       "                                          Descripcion  \\\n",
       "0   El número de cuentas en las que el prestatario...   \n",
       "1   El estado proporcionado por el prestatario en ...   \n",
       "2   Los ingresos anuales autodeclarados proporcion...   \n",
       "3   Indica si el préstamo es una solicitud individ...   \n",
       "4                 Número de cancelaciones en 12 meses   \n",
       "5                            tasa de cobro post cargo   \n",
       "6   Número de cobros en 12 meses excluyendo cobros...   \n",
       "7   Indica si el prestatario, que ha cancelado, es...   \n",
       "8   La fecha más reciente en la que se ha establec...   \n",
       "9   El número de incidencias de morosidad de más d...   \n",
       "10  El monto vencido adeudado por las cuentas en l...   \n",
       "11  El método por el cual el prestatario recibe su...   \n",
       "12  Una relación calculada utilizando los pagos de...   \n",
       "13  El mes en que se abrió la primera línea de cré...   \n",
       "14  Duración del empleo en años. Los valores posib...   \n",
       "15  El título del trabajo proporcionado por el Pre...   \n",
       "16  La cantidad total comprometida con ese préstam...   \n",
       "17  El monto total comprometido por los inversioni...   \n",
       "18                      Grado de préstamo asignado LC   \n",
       "19  Marca si el prestatario está o no en un plan d...   \n",
       "20  El estado de propiedad de la vivienda proporci...   \n",
       "21  El estado de cotización inicial del préstamo. ...   \n",
       "22  El número de consultas en los últimos 6 meses ...   \n",
       "23  El pago mensual adeudado por el prestatario si...   \n",
       "24                       Tasa de interés del préstamo   \n",
       "25             El mes en que se financió el préstamo.   \n",
       "26  El mes más reciente, LC sacó crédito para este...   \n",
       "27             Importe del último pago total recibido   \n",
       "28                  Se recibió el pago del último mes   \n",
       "29  El monto indicado del préstamo solicitado por ...   \n",
       "30                         Estado actual del préstamo   \n",
       "31  El número de meses desde la última morosidad d...   \n",
       "32  Meses desde la calificación más reciente de 90...   \n",
       "33  El número de meses desde el último registro pú...   \n",
       "34                   Próxima fecha de pago programada   \n",
       "35  El número de líneas de crédito abiertas en el ...   \n",
       "36  Capital restante pendiente por el monto total ...   \n",
       "37  Principal pendiente restante por parte del mon...   \n",
       "38  policy_code disponible públicamente = 1\\r\\nnue...   \n",
       "39           Número de registros públicos despectivos   \n",
       "40           Número de quiebras de registros públicos   \n",
       "41  Una categoría proporcionada por el prestatario...   \n",
       "42  Indica si se ha establecido un plan de pago pa...   \n",
       "43                    descontar la recuperación bruta   \n",
       "44                   Saldo rotatorio de crédito total   \n",
       "45  Tasa de utilización de la línea renovable, o l...   \n",
       "46                   Subgrado de préstamo asignado LC   \n",
       "47                      Número de gravámenes fiscales   \n",
       "48  El número de pagos del préstamo. Los valores e...   \n",
       "49  El título del préstamo proporcionado por el pr...   \n",
       "50  El número total de líneas de crédito actualmen...   \n",
       "51  Pagos recibidos hasta la fecha por el monto to...   \n",
       "52  Pagos recibidos hasta la fecha por parte del m...   \n",
       "53                 Intereses recibidos hasta la fecha   \n",
       "54           Cargos por mora recibidos hasta la fecha   \n",
       "55                      Principal recibido a la fecha   \n",
       "56  Indica si los ingresos fueron verificados por ...   \n",
       "57  Los primeros 3 números del código postal propo...   \n",
       "\n",
       "                                          Description  \n",
       "0   The number of accounts on which the borrower i...  \n",
       "1   The state provided by the borrower in the loan...  \n",
       "2   The self-reported annual income provided by th...  \n",
       "3   Indicates whether the loan is an individual ap...  \n",
       "4              Number of charge-offs within 12 months  \n",
       "5                      post charge off collection fee  \n",
       "6   Number of collections in 12 months excluding m...  \n",
       "7   Flags whether or not the borrower, who has cha...  \n",
       "8   The most recent date that the Debt_Settlement_...  \n",
       "9   The number of 30+ days past-due incidences of ...  \n",
       "10  The past-due amount owed for the accounts on w...  \n",
       "11  The method by which the borrower receives thei...  \n",
       "12  A ratio calculated using the borrowerâs tota...  \n",
       "13  The month the borrower's earliest reported cre...  \n",
       "14  Employment length in years. Possible values ar...  \n",
       "15  The job title supplied by the Borrower when ap...  \n",
       "16  The total amount committed to that loan at tha...  \n",
       "17  The total amount committed by investors for th...  \n",
       "18                             LC assigned loan grade  \n",
       "19  Flags whether or not the borrower is on a hard...  \n",
       "20  The home ownership status provided by the borr...  \n",
       "21  The initial listing status of the loan. Possib...  \n",
       "22  The number of inquiries in past 6 months (excl...  \n",
       "23  The monthly payment owed by the borrower if th...  \n",
       "24                          Interest Rate on the loan  \n",
       "25                The month which the loan was funded  \n",
       "26  The most recent month LC pulled credit for thi...  \n",
       "27                 Last total payment amount received  \n",
       "28                    Last month payment was received  \n",
       "29  The listed amount of the loan applied for by t...  \n",
       "30                         Current status of the loan  \n",
       "31  The number of months since the borrower's last...  \n",
       "32    Months since most recent 90-day or worse rating  \n",
       "33  The number of months since the last public rec...  \n",
       "34                        Next scheduled payment date  \n",
       "35  The number of open credit lines in the borrowe...  \n",
       "36  Remaining outstanding principal for total amou...  \n",
       "37  Remaining outstanding principal for portion of...  \n",
       "38  publicly available policy_code=1\\nnew products...  \n",
       "39                Number of derogatory public records  \n",
       "40               Number of public record bankruptcies  \n",
       "41  A category provided by the borrower for the lo...  \n",
       "42  Indicates if a payment plan has been put in pl...  \n",
       "43                     post charge off gross recovery  \n",
       "44                     Total credit revolving balance  \n",
       "45  Revolving line utilization rate, or the amount...  \n",
       "46                          LC assigned loan subgrade  \n",
       "47                                Number of tax liens  \n",
       "48  The number of payments on the loan. Values are...  \n",
       "49            The loan title provided by the borrower  \n",
       "50  The total number of credit lines currently in ...  \n",
       "51  Payments received to date for total amount funded  \n",
       "52  Payments received to date for portion of total...  \n",
       "53                          Interest received to date  \n",
       "54                         Late fees received to date  \n",
       "55                         Principal received to date  \n",
       "56  Indicates if income was verified by LC, not ve...  \n",
       "57  The first 3 numbers of the zip code provided b...  "
      ]
     },
     "execution_count": 5,
     "metadata": {},
     "output_type": "execute_result"
    }
   ],
   "source": [
    "data_dict = pd.read_csv(\"data_dictionary.csv\", encoding= \"ISO-8859-1\")\n",
    "data_dict"
   ]
  },
  {
   "cell_type": "code",
   "execution_count": 6,
   "metadata": {
    "scrolled": true
   },
   "outputs": [
    {
     "data": {
      "text/html": [
       "<div>\n",
       "<style scoped>\n",
       "    .dataframe tbody tr th:only-of-type {\n",
       "        vertical-align: middle;\n",
       "    }\n",
       "\n",
       "    .dataframe tbody tr th {\n",
       "        vertical-align: top;\n",
       "    }\n",
       "\n",
       "    .dataframe thead th {\n",
       "        text-align: right;\n",
       "    }\n",
       "</style>\n",
       "<table border=\"1\" class=\"dataframe\">\n",
       "  <thead>\n",
       "    <tr style=\"text-align: right;\">\n",
       "      <th></th>\n",
       "      <th>loan_amnt</th>\n",
       "      <th>funded_amnt</th>\n",
       "      <th>funded_amnt_inv</th>\n",
       "      <th>term</th>\n",
       "      <th>int_rate</th>\n",
       "      <th>installment</th>\n",
       "      <th>grade</th>\n",
       "      <th>sub_grade</th>\n",
       "      <th>emp_title</th>\n",
       "      <th>emp_length</th>\n",
       "      <th>...</th>\n",
       "      <th>application_type</th>\n",
       "      <th>acc_now_delinq</th>\n",
       "      <th>chargeoff_within_12_mths</th>\n",
       "      <th>delinq_amnt</th>\n",
       "      <th>pub_rec_bankruptcies</th>\n",
       "      <th>tax_liens</th>\n",
       "      <th>hardship_flag</th>\n",
       "      <th>disbursement_method</th>\n",
       "      <th>debt_settlement_flag</th>\n",
       "      <th>debt_settlement_flag_date</th>\n",
       "    </tr>\n",
       "  </thead>\n",
       "  <tbody>\n",
       "    <tr>\n",
       "      <th>0</th>\n",
       "      <td>2400</td>\n",
       "      <td>2400</td>\n",
       "      <td>2400.0</td>\n",
       "      <td>36 months</td>\n",
       "      <td>15.96</td>\n",
       "      <td>84.33</td>\n",
       "      <td>C</td>\n",
       "      <td>C5</td>\n",
       "      <td>NaN</td>\n",
       "      <td>10+ years</td>\n",
       "      <td>...</td>\n",
       "      <td>Individual</td>\n",
       "      <td>0.0</td>\n",
       "      <td>0.0</td>\n",
       "      <td>0.0</td>\n",
       "      <td>0.0</td>\n",
       "      <td>0.0</td>\n",
       "      <td>N</td>\n",
       "      <td>Cash</td>\n",
       "      <td>N</td>\n",
       "      <td>NaN</td>\n",
       "    </tr>\n",
       "    <tr>\n",
       "      <th>1</th>\n",
       "      <td>10000</td>\n",
       "      <td>10000</td>\n",
       "      <td>10000.0</td>\n",
       "      <td>36 months</td>\n",
       "      <td>13.49</td>\n",
       "      <td>339.31</td>\n",
       "      <td>C</td>\n",
       "      <td>C1</td>\n",
       "      <td>AIR RESOURCES BOARD</td>\n",
       "      <td>10+ years</td>\n",
       "      <td>...</td>\n",
       "      <td>Individual</td>\n",
       "      <td>0.0</td>\n",
       "      <td>0.0</td>\n",
       "      <td>0.0</td>\n",
       "      <td>0.0</td>\n",
       "      <td>0.0</td>\n",
       "      <td>N</td>\n",
       "      <td>Cash</td>\n",
       "      <td>N</td>\n",
       "      <td>NaN</td>\n",
       "    </tr>\n",
       "    <tr>\n",
       "      <th>2</th>\n",
       "      <td>3000</td>\n",
       "      <td>3000</td>\n",
       "      <td>3000.0</td>\n",
       "      <td>36 months</td>\n",
       "      <td>18.64</td>\n",
       "      <td>109.43</td>\n",
       "      <td>E</td>\n",
       "      <td>E1</td>\n",
       "      <td>MKC Accounting</td>\n",
       "      <td>9 years</td>\n",
       "      <td>...</td>\n",
       "      <td>Individual</td>\n",
       "      <td>0.0</td>\n",
       "      <td>0.0</td>\n",
       "      <td>0.0</td>\n",
       "      <td>0.0</td>\n",
       "      <td>0.0</td>\n",
       "      <td>N</td>\n",
       "      <td>Cash</td>\n",
       "      <td>N</td>\n",
       "      <td>NaN</td>\n",
       "    </tr>\n",
       "    <tr>\n",
       "      <th>3</th>\n",
       "      <td>5600</td>\n",
       "      <td>5600</td>\n",
       "      <td>5600.0</td>\n",
       "      <td>60 months</td>\n",
       "      <td>21.28</td>\n",
       "      <td>152.39</td>\n",
       "      <td>F</td>\n",
       "      <td>F2</td>\n",
       "      <td>NaN</td>\n",
       "      <td>4 years</td>\n",
       "      <td>...</td>\n",
       "      <td>Individual</td>\n",
       "      <td>0.0</td>\n",
       "      <td>0.0</td>\n",
       "      <td>0.0</td>\n",
       "      <td>0.0</td>\n",
       "      <td>0.0</td>\n",
       "      <td>N</td>\n",
       "      <td>Cash</td>\n",
       "      <td>N</td>\n",
       "      <td>NaN</td>\n",
       "    </tr>\n",
       "    <tr>\n",
       "      <th>4</th>\n",
       "      <td>5375</td>\n",
       "      <td>5375</td>\n",
       "      <td>5350.0</td>\n",
       "      <td>60 months</td>\n",
       "      <td>12.69</td>\n",
       "      <td>121.45</td>\n",
       "      <td>B</td>\n",
       "      <td>B5</td>\n",
       "      <td>Starbucks</td>\n",
       "      <td>&lt; 1 year</td>\n",
       "      <td>...</td>\n",
       "      <td>Individual</td>\n",
       "      <td>0.0</td>\n",
       "      <td>0.0</td>\n",
       "      <td>0.0</td>\n",
       "      <td>0.0</td>\n",
       "      <td>0.0</td>\n",
       "      <td>N</td>\n",
       "      <td>Cash</td>\n",
       "      <td>N</td>\n",
       "      <td>NaN</td>\n",
       "    </tr>\n",
       "  </tbody>\n",
       "</table>\n",
       "<p>5 rows × 58 columns</p>\n",
       "</div>"
      ],
      "text/plain": [
       "   loan_amnt  funded_amnt  funded_amnt_inv       term  int_rate  installment  \\\n",
       "0       2400         2400           2400.0  36 months     15.96        84.33   \n",
       "1      10000        10000          10000.0  36 months     13.49       339.31   \n",
       "2       3000         3000           3000.0  36 months     18.64       109.43   \n",
       "3       5600         5600           5600.0  60 months     21.28       152.39   \n",
       "4       5375         5375           5350.0  60 months     12.69       121.45   \n",
       "\n",
       "  grade sub_grade            emp_title emp_length  ... application_type  \\\n",
       "0     C        C5                  NaN  10+ years  ...       Individual   \n",
       "1     C        C1  AIR RESOURCES BOARD  10+ years  ...       Individual   \n",
       "2     E        E1      MKC Accounting     9 years  ...       Individual   \n",
       "3     F        F2                  NaN    4 years  ...       Individual   \n",
       "4     B        B5            Starbucks   < 1 year  ...       Individual   \n",
       "\n",
       "   acc_now_delinq chargeoff_within_12_mths delinq_amnt pub_rec_bankruptcies  \\\n",
       "0             0.0                      0.0         0.0                  0.0   \n",
       "1             0.0                      0.0         0.0                  0.0   \n",
       "2             0.0                      0.0         0.0                  0.0   \n",
       "3             0.0                      0.0         0.0                  0.0   \n",
       "4             0.0                      0.0         0.0                  0.0   \n",
       "\n",
       "  tax_liens hardship_flag disbursement_method debt_settlement_flag  \\\n",
       "0       0.0             N                Cash                    N   \n",
       "1       0.0             N                Cash                    N   \n",
       "2       0.0             N                Cash                    N   \n",
       "3       0.0             N                Cash                    N   \n",
       "4       0.0             N                Cash                    N   \n",
       "\n",
       "  debt_settlement_flag_date  \n",
       "0                       NaN  \n",
       "1                       NaN  \n",
       "2                       NaN  \n",
       "3                       NaN  \n",
       "4                       NaN  \n",
       "\n",
       "[5 rows x 58 columns]"
      ]
     },
     "execution_count": 6,
     "metadata": {},
     "output_type": "execute_result"
    }
   ],
   "source": [
    "prestamos_df = pd.read_csv('lending_club_2007_2011_6_states.csv')\n",
    "prestamos_df.head()"
   ]
  },
  {
   "cell_type": "markdown",
   "metadata": {},
   "source": [
    "- Usar la función `loan_df.info()` para imprimir información básica del DataFrame. \n",
    "- Al ejecutar la instruccion **info()**, se observa que existen datos incompletos.\n"
   ]
  },
  {
   "cell_type": "code",
   "execution_count": 8,
   "metadata": {},
   "outputs": [
    {
     "name": "stdout",
     "output_type": "stream",
     "text": [
      "<class 'pandas.core.frame.DataFrame'>\n",
      "RangeIndex: 19908 entries, 0 to 19907\n",
      "Data columns (total 58 columns):\n",
      " #   Column                       Non-Null Count  Dtype  \n",
      "---  ------                       --------------  -----  \n",
      " 0   loan_amnt                    19908 non-null  int64  \n",
      " 1   funded_amnt                  19908 non-null  int64  \n",
      " 2   funded_amnt_inv              19908 non-null  float64\n",
      " 3   term                         19908 non-null  object \n",
      " 4   int_rate                     19908 non-null  float64\n",
      " 5   installment                  19908 non-null  float64\n",
      " 6   grade                        19908 non-null  object \n",
      " 7   sub_grade                    19908 non-null  object \n",
      " 8   emp_title                    18723 non-null  object \n",
      " 9   emp_length                   19409 non-null  object \n",
      " 10  home_ownership               19908 non-null  object \n",
      " 11  annual_inc                   19908 non-null  float64\n",
      " 12  verification_status          19908 non-null  object \n",
      " 13  issue_d                      19908 non-null  object \n",
      " 14  loan_status                  19908 non-null  object \n",
      " 15  pymnt_plan                   19908 non-null  object \n",
      " 16  purpose                      19908 non-null  object \n",
      " 17  title                        19903 non-null  object \n",
      " 18  zip_code                     19908 non-null  object \n",
      " 19  addr_state                   19908 non-null  object \n",
      " 20  dti                          19908 non-null  float64\n",
      " 21  delinq_2yrs                  19908 non-null  float64\n",
      " 22  earliest_cr_line             19908 non-null  object \n",
      " 23  inq_last_6mths               19908 non-null  float64\n",
      " 24  mths_since_last_delinq       6998 non-null   float64\n",
      " 25  mths_since_last_record       1209 non-null   float64\n",
      " 26  open_acc                     19908 non-null  float64\n",
      " 27  pub_rec                      19908 non-null  float64\n",
      " 28  revol_bal                    19908 non-null  int64  \n",
      " 29  revol_util                   19889 non-null  float64\n",
      " 30  total_acc                    19908 non-null  float64\n",
      " 31  initial_list_status          19908 non-null  object \n",
      " 32  out_prncp                    19908 non-null  float64\n",
      " 33  out_prncp_inv                19908 non-null  float64\n",
      " 34  total_pymnt                  19908 non-null  float64\n",
      " 35  total_pymnt_inv              19908 non-null  float64\n",
      " 36  total_rec_prncp              19908 non-null  float64\n",
      " 37  total_rec_int                19908 non-null  float64\n",
      " 38  total_rec_late_fee           19908 non-null  float64\n",
      " 39  recoveries                   19908 non-null  float64\n",
      " 40  collection_recovery_fee      19908 non-null  float64\n",
      " 41  last_pymnt_d                 19865 non-null  object \n",
      " 42  last_pymnt_amnt              19908 non-null  float64\n",
      " 43  next_pymnt_d                 0 non-null      float64\n",
      " 44  last_credit_pull_d           19906 non-null  object \n",
      " 45  collections_12_mths_ex_med   19893 non-null  float64\n",
      " 46  mths_since_last_major_derog  0 non-null      float64\n",
      " 47  policy_code                  19908 non-null  int64  \n",
      " 48  application_type             19908 non-null  object \n",
      " 49  acc_now_delinq               19908 non-null  float64\n",
      " 50  chargeoff_within_12_mths     19893 non-null  float64\n",
      " 51  delinq_amnt                  19908 non-null  float64\n",
      " 52  pub_rec_bankruptcies         19595 non-null  float64\n",
      " 53  tax_liens                    19898 non-null  float64\n",
      " 54  hardship_flag                19908 non-null  object \n",
      " 55  disbursement_method          19908 non-null  object \n",
      " 56  debt_settlement_flag         19908 non-null  object \n",
      " 57  debt_settlement_flag_date    82 non-null     object \n",
      "dtypes: float64(31), int64(4), object(23)\n",
      "memory usage: 8.8+ MB\n"
     ]
    }
   ],
   "source": [
    "prestamos_df.info()"
   ]
  },
  {
   "cell_type": "markdown",
   "metadata": {},
   "source": [
    "### Variables comunes importantes\n",
    "\n",
    "#### Características del préstamo:\n",
    "- loan_amnt: Monto solicitado del préstamo.\n",
    "- int_rate: Tasa de interés del préstamo.\n",
    "- term: Plazo del préstamo (36 o 60 meses).\n",
    "- installment: Monto de la cuota mensual.\n",
    "\n",
    "#### Características del solicitante:\n",
    "- annual_inc: Ingreso anual declarado por el solicitante.\n",
    "- emp_length: Años de experiencia laboral.\n",
    "- home_ownership: Propiedad de vivienda (Renta, Propietario, Hipotecado).\n",
    "- verification_status: Estado de verificación de ingresos.\n",
    "\n",
    "####  Características relacionadas con la deuda:\n",
    "-  (Debt-to-Income Ratio): Relación deuda-ingreso.\n",
    "- revol_bal: Saldo rotativo en tarjetas de crédito.\n",
    "- revol_util: Porcentaje de utilización de crédito rotativo.\n",
    "- total_acc: Número total de cuentas de crédito.\n",
    "\n",
    "#### Historial crediticio:\n",
    "- earliest_cr_line: Fecha de apertura de la primera línea de crédito.\n",
    "- delinq_2yrs: Número de morosidades en los últimos 2 años.\n",
    "- pub_rec: Número de registros públicos negativos (bancarrota, embargos).\n",
    "\n",
    "#### Otros factores:\n",
    "- purpose: Propósito del préstamo (p. ej., consolidación de deuda, pago de tarjetas).\n",
    "- addr_state: Estado de residencia del solicitante"
   ]
  },
  {
   "cell_type": "code",
   "execution_count": null,
   "metadata": {},
   "outputs": [],
   "source": []
  },
  {
   "cell_type": "markdown",
   "metadata": {},
   "source": [
    "#####  El método `df.isnull().sum()` permite  verificar el recuento de valores nulos de cada columna."
   ]
  },
  {
   "cell_type": "code",
   "execution_count": 11,
   "metadata": {},
   "outputs": [
    {
     "data": {
      "text/plain": [
       "loan_amnt                          0\n",
       "funded_amnt                        0\n",
       "funded_amnt_inv                    0\n",
       "term                               0\n",
       "int_rate                           0\n",
       "installment                        0\n",
       "grade                              0\n",
       "sub_grade                          0\n",
       "emp_title                       1185\n",
       "emp_length                       499\n",
       "home_ownership                     0\n",
       "annual_inc                         0\n",
       "verification_status                0\n",
       "issue_d                            0\n",
       "loan_status                        0\n",
       "pymnt_plan                         0\n",
       "purpose                            0\n",
       "title                              5\n",
       "zip_code                           0\n",
       "addr_state                         0\n",
       "dti                                0\n",
       "delinq_2yrs                        0\n",
       "earliest_cr_line                   0\n",
       "inq_last_6mths                     0\n",
       "mths_since_last_delinq         12910\n",
       "mths_since_last_record         18699\n",
       "open_acc                           0\n",
       "pub_rec                            0\n",
       "revol_bal                          0\n",
       "revol_util                        19\n",
       "total_acc                          0\n",
       "initial_list_status                0\n",
       "out_prncp                          0\n",
       "out_prncp_inv                      0\n",
       "total_pymnt                        0\n",
       "total_pymnt_inv                    0\n",
       "total_rec_prncp                    0\n",
       "total_rec_int                      0\n",
       "total_rec_late_fee                 0\n",
       "recoveries                         0\n",
       "collection_recovery_fee            0\n",
       "last_pymnt_d                      43\n",
       "last_pymnt_amnt                    0\n",
       "next_pymnt_d                   19908\n",
       "last_credit_pull_d                 2\n",
       "collections_12_mths_ex_med        15\n",
       "mths_since_last_major_derog    19908\n",
       "policy_code                        0\n",
       "application_type                   0\n",
       "acc_now_delinq                     0\n",
       "chargeoff_within_12_mths          15\n",
       "delinq_amnt                        0\n",
       "pub_rec_bankruptcies             313\n",
       "tax_liens                         10\n",
       "hardship_flag                      0\n",
       "disbursement_method                0\n",
       "debt_settlement_flag               0\n",
       "debt_settlement_flag_date      19826\n",
       "dtype: int64"
      ]
     },
     "execution_count": 11,
     "metadata": {},
     "output_type": "execute_result"
    }
   ],
   "source": [
    "prestamos_df.isnull().sum()"
   ]
  },
  {
   "cell_type": "markdown",
   "metadata": {},
   "source": [
    "- Imprimir las **estadísticas descriptivas** que resumen la tendencia central, la dispersión y la forma de la distribución de un conjunto de datos.\n"
   ]
  },
  {
   "cell_type": "code",
   "execution_count": 13,
   "metadata": {
    "scrolled": true
   },
   "outputs": [
    {
     "data": {
      "text/html": [
       "<div>\n",
       "<style scoped>\n",
       "    .dataframe tbody tr th:only-of-type {\n",
       "        vertical-align: middle;\n",
       "    }\n",
       "\n",
       "    .dataframe tbody tr th {\n",
       "        vertical-align: top;\n",
       "    }\n",
       "\n",
       "    .dataframe thead th {\n",
       "        text-align: right;\n",
       "    }\n",
       "</style>\n",
       "<table border=\"1\" class=\"dataframe\">\n",
       "  <thead>\n",
       "    <tr style=\"text-align: right;\">\n",
       "      <th></th>\n",
       "      <th>loan_amnt</th>\n",
       "      <th>funded_amnt</th>\n",
       "      <th>funded_amnt_inv</th>\n",
       "      <th>int_rate</th>\n",
       "      <th>installment</th>\n",
       "      <th>annual_inc</th>\n",
       "      <th>dti</th>\n",
       "      <th>delinq_2yrs</th>\n",
       "      <th>inq_last_6mths</th>\n",
       "      <th>mths_since_last_delinq</th>\n",
       "      <th>...</th>\n",
       "      <th>last_pymnt_amnt</th>\n",
       "      <th>next_pymnt_d</th>\n",
       "      <th>collections_12_mths_ex_med</th>\n",
       "      <th>mths_since_last_major_derog</th>\n",
       "      <th>policy_code</th>\n",
       "      <th>acc_now_delinq</th>\n",
       "      <th>chargeoff_within_12_mths</th>\n",
       "      <th>delinq_amnt</th>\n",
       "      <th>pub_rec_bankruptcies</th>\n",
       "      <th>tax_liens</th>\n",
       "    </tr>\n",
       "  </thead>\n",
       "  <tbody>\n",
       "    <tr>\n",
       "      <th>count</th>\n",
       "      <td>19908.000000</td>\n",
       "      <td>19908.000000</td>\n",
       "      <td>19908.000000</td>\n",
       "      <td>19908.000000</td>\n",
       "      <td>19908.000000</td>\n",
       "      <td>1.990800e+04</td>\n",
       "      <td>19908.000000</td>\n",
       "      <td>19908.000000</td>\n",
       "      <td>19908.000000</td>\n",
       "      <td>6998.000000</td>\n",
       "      <td>...</td>\n",
       "      <td>19908.000000</td>\n",
       "      <td>0.0</td>\n",
       "      <td>19893.0</td>\n",
       "      <td>0.0</td>\n",
       "      <td>19908.0</td>\n",
       "      <td>19908.0</td>\n",
       "      <td>19893.0</td>\n",
       "      <td>19908.0</td>\n",
       "      <td>19595.000000</td>\n",
       "      <td>19898.0</td>\n",
       "    </tr>\n",
       "    <tr>\n",
       "      <th>mean</th>\n",
       "      <td>11353.846444</td>\n",
       "      <td>11065.763763</td>\n",
       "      <td>10500.929748</td>\n",
       "      <td>12.089717</td>\n",
       "      <td>330.614254</td>\n",
       "      <td>7.107345e+04</td>\n",
       "      <td>13.008619</td>\n",
       "      <td>0.143962</td>\n",
       "      <td>0.829466</td>\n",
       "      <td>35.841097</td>\n",
       "      <td>...</td>\n",
       "      <td>2636.253711</td>\n",
       "      <td>NaN</td>\n",
       "      <td>0.0</td>\n",
       "      <td>NaN</td>\n",
       "      <td>1.0</td>\n",
       "      <td>0.0</td>\n",
       "      <td>0.0</td>\n",
       "      <td>0.0</td>\n",
       "      <td>0.037969</td>\n",
       "      <td>0.0</td>\n",
       "    </tr>\n",
       "    <tr>\n",
       "      <th>std</th>\n",
       "      <td>7463.700492</td>\n",
       "      <td>7176.276661</td>\n",
       "      <td>7106.229650</td>\n",
       "      <td>3.698287</td>\n",
       "      <td>210.557434</td>\n",
       "      <td>6.980565e+04</td>\n",
       "      <td>6.663658</td>\n",
       "      <td>0.489576</td>\n",
       "      <td>1.044978</td>\n",
       "      <td>21.599170</td>\n",
       "      <td>...</td>\n",
       "      <td>4412.964304</td>\n",
       "      <td>NaN</td>\n",
       "      <td>0.0</td>\n",
       "      <td>NaN</td>\n",
       "      <td>0.0</td>\n",
       "      <td>0.0</td>\n",
       "      <td>0.0</td>\n",
       "      <td>0.0</td>\n",
       "      <td>0.191393</td>\n",
       "      <td>0.0</td>\n",
       "    </tr>\n",
       "    <tr>\n",
       "      <th>min</th>\n",
       "      <td>500.000000</td>\n",
       "      <td>500.000000</td>\n",
       "      <td>0.000000</td>\n",
       "      <td>5.420000</td>\n",
       "      <td>15.690000</td>\n",
       "      <td>4.000000e+03</td>\n",
       "      <td>0.000000</td>\n",
       "      <td>0.000000</td>\n",
       "      <td>0.000000</td>\n",
       "      <td>0.000000</td>\n",
       "      <td>...</td>\n",
       "      <td>0.000000</td>\n",
       "      <td>NaN</td>\n",
       "      <td>0.0</td>\n",
       "      <td>NaN</td>\n",
       "      <td>1.0</td>\n",
       "      <td>0.0</td>\n",
       "      <td>0.0</td>\n",
       "      <td>0.0</td>\n",
       "      <td>0.000000</td>\n",
       "      <td>0.0</td>\n",
       "    </tr>\n",
       "    <tr>\n",
       "      <th>25%</th>\n",
       "      <td>5750.000000</td>\n",
       "      <td>5600.000000</td>\n",
       "      <td>5000.000000</td>\n",
       "      <td>9.450000</td>\n",
       "      <td>171.287500</td>\n",
       "      <td>4.200000e+04</td>\n",
       "      <td>7.840000</td>\n",
       "      <td>0.000000</td>\n",
       "      <td>0.000000</td>\n",
       "      <td>19.000000</td>\n",
       "      <td>...</td>\n",
       "      <td>222.530000</td>\n",
       "      <td>NaN</td>\n",
       "      <td>0.0</td>\n",
       "      <td>NaN</td>\n",
       "      <td>1.0</td>\n",
       "      <td>0.0</td>\n",
       "      <td>0.0</td>\n",
       "      <td>0.0</td>\n",
       "      <td>0.000000</td>\n",
       "      <td>0.0</td>\n",
       "    </tr>\n",
       "    <tr>\n",
       "      <th>50%</th>\n",
       "      <td>10000.000000</td>\n",
       "      <td>10000.000000</td>\n",
       "      <td>9000.000000</td>\n",
       "      <td>11.860000</td>\n",
       "      <td>285.780000</td>\n",
       "      <td>6.000000e+04</td>\n",
       "      <td>13.075000</td>\n",
       "      <td>0.000000</td>\n",
       "      <td>0.000000</td>\n",
       "      <td>34.000000</td>\n",
       "      <td>...</td>\n",
       "      <td>544.700000</td>\n",
       "      <td>NaN</td>\n",
       "      <td>0.0</td>\n",
       "      <td>NaN</td>\n",
       "      <td>1.0</td>\n",
       "      <td>0.0</td>\n",
       "      <td>0.0</td>\n",
       "      <td>0.0</td>\n",
       "      <td>0.000000</td>\n",
       "      <td>0.0</td>\n",
       "    </tr>\n",
       "    <tr>\n",
       "      <th>75%</th>\n",
       "      <td>15000.000000</td>\n",
       "      <td>15000.000000</td>\n",
       "      <td>14500.000000</td>\n",
       "      <td>14.610000</td>\n",
       "      <td>440.815000</td>\n",
       "      <td>8.500000e+04</td>\n",
       "      <td>18.200000</td>\n",
       "      <td>0.000000</td>\n",
       "      <td>1.000000</td>\n",
       "      <td>51.000000</td>\n",
       "      <td>...</td>\n",
       "      <td>3193.352500</td>\n",
       "      <td>NaN</td>\n",
       "      <td>0.0</td>\n",
       "      <td>NaN</td>\n",
       "      <td>1.0</td>\n",
       "      <td>0.0</td>\n",
       "      <td>0.0</td>\n",
       "      <td>0.0</td>\n",
       "      <td>0.000000</td>\n",
       "      <td>0.0</td>\n",
       "    </tr>\n",
       "    <tr>\n",
       "      <th>max</th>\n",
       "      <td>35000.000000</td>\n",
       "      <td>35000.000000</td>\n",
       "      <td>35000.000000</td>\n",
       "      <td>24.400000</td>\n",
       "      <td>1302.690000</td>\n",
       "      <td>6.000000e+06</td>\n",
       "      <td>29.990000</td>\n",
       "      <td>11.000000</td>\n",
       "      <td>8.000000</td>\n",
       "      <td>106.000000</td>\n",
       "      <td>...</td>\n",
       "      <td>35596.410000</td>\n",
       "      <td>NaN</td>\n",
       "      <td>0.0</td>\n",
       "      <td>NaN</td>\n",
       "      <td>1.0</td>\n",
       "      <td>0.0</td>\n",
       "      <td>0.0</td>\n",
       "      <td>0.0</td>\n",
       "      <td>2.000000</td>\n",
       "      <td>0.0</td>\n",
       "    </tr>\n",
       "  </tbody>\n",
       "</table>\n",
       "<p>8 rows × 35 columns</p>\n",
       "</div>"
      ],
      "text/plain": [
       "          loan_amnt   funded_amnt  funded_amnt_inv      int_rate  \\\n",
       "count  19908.000000  19908.000000     19908.000000  19908.000000   \n",
       "mean   11353.846444  11065.763763     10500.929748     12.089717   \n",
       "std     7463.700492   7176.276661      7106.229650      3.698287   \n",
       "min      500.000000    500.000000         0.000000      5.420000   \n",
       "25%     5750.000000   5600.000000      5000.000000      9.450000   \n",
       "50%    10000.000000  10000.000000      9000.000000     11.860000   \n",
       "75%    15000.000000  15000.000000     14500.000000     14.610000   \n",
       "max    35000.000000  35000.000000     35000.000000     24.400000   \n",
       "\n",
       "        installment    annual_inc           dti   delinq_2yrs  inq_last_6mths  \\\n",
       "count  19908.000000  1.990800e+04  19908.000000  19908.000000    19908.000000   \n",
       "mean     330.614254  7.107345e+04     13.008619      0.143962        0.829466   \n",
       "std      210.557434  6.980565e+04      6.663658      0.489576        1.044978   \n",
       "min       15.690000  4.000000e+03      0.000000      0.000000        0.000000   \n",
       "25%      171.287500  4.200000e+04      7.840000      0.000000        0.000000   \n",
       "50%      285.780000  6.000000e+04     13.075000      0.000000        0.000000   \n",
       "75%      440.815000  8.500000e+04     18.200000      0.000000        1.000000   \n",
       "max     1302.690000  6.000000e+06     29.990000     11.000000        8.000000   \n",
       "\n",
       "       mths_since_last_delinq  ...  last_pymnt_amnt  next_pymnt_d  \\\n",
       "count             6998.000000  ...     19908.000000           0.0   \n",
       "mean                35.841097  ...      2636.253711           NaN   \n",
       "std                 21.599170  ...      4412.964304           NaN   \n",
       "min                  0.000000  ...         0.000000           NaN   \n",
       "25%                 19.000000  ...       222.530000           NaN   \n",
       "50%                 34.000000  ...       544.700000           NaN   \n",
       "75%                 51.000000  ...      3193.352500           NaN   \n",
       "max                106.000000  ...     35596.410000           NaN   \n",
       "\n",
       "       collections_12_mths_ex_med  mths_since_last_major_derog  policy_code  \\\n",
       "count                     19893.0                          0.0      19908.0   \n",
       "mean                          0.0                          NaN          1.0   \n",
       "std                           0.0                          NaN          0.0   \n",
       "min                           0.0                          NaN          1.0   \n",
       "25%                           0.0                          NaN          1.0   \n",
       "50%                           0.0                          NaN          1.0   \n",
       "75%                           0.0                          NaN          1.0   \n",
       "max                           0.0                          NaN          1.0   \n",
       "\n",
       "       acc_now_delinq  chargeoff_within_12_mths  delinq_amnt  \\\n",
       "count         19908.0                   19893.0      19908.0   \n",
       "mean              0.0                       0.0          0.0   \n",
       "std               0.0                       0.0          0.0   \n",
       "min               0.0                       0.0          0.0   \n",
       "25%               0.0                       0.0          0.0   \n",
       "50%               0.0                       0.0          0.0   \n",
       "75%               0.0                       0.0          0.0   \n",
       "max               0.0                       0.0          0.0   \n",
       "\n",
       "       pub_rec_bankruptcies  tax_liens  \n",
       "count          19595.000000    19898.0  \n",
       "mean               0.037969        0.0  \n",
       "std                0.191393        0.0  \n",
       "min                0.000000        0.0  \n",
       "25%                0.000000        0.0  \n",
       "50%                0.000000        0.0  \n",
       "75%                0.000000        0.0  \n",
       "max                2.000000        0.0  \n",
       "\n",
       "[8 rows x 35 columns]"
      ]
     },
     "execution_count": 13,
     "metadata": {},
     "output_type": "execute_result"
    }
   ],
   "source": [
    "prestamos_df.describe()"
   ]
  },
  {
   "cell_type": "markdown",
   "metadata": {},
   "source": [
    "###  3. Analisis Exploratorio de los Datos - EDA    <a id='id3'> </a>\n",
    "\n",
    "EDA es un enfoque para analizar conjuntos de datos para **resumir sus características principales**, a menudo con visualizaciones.\n",
    "\n",
    "Para características **categóricas**, podemos verificar:\n",
    "- Valores únicos en la categoría.\n",
    "- Recuento de cada categoría.\n",
    "- Agregación de otras características continuas para cada categoría.\n",
    "\n",
    "Para características **continuas**, podemos verificar:\n",
    "- Distribuciones\n",
    "- Correlaciones de múltiples características\n",
    "\n",
    "Haremos una demostración de EDA con dos características, plazo del préstamo y tasa de interés."
   ]
  },
  {
   "cell_type": "markdown",
   "metadata": {},
   "source": [
    "### 3.1 Plazo del prestamo y taza de interés  <a id='id31'> </a>\n",
    "\n",
    "Explorar la característica del plazo del préstamo, la tasa de interés y la relación entre ellos.\n",
    "\n",
    "Durante el analisis, **descubrimos que**:\n",
    "- Hay dos plazos diferentes, **36 meses y 60 meses**.\n",
    "- Hay aproximadamente **tres veces más préstamos a 36 meses** que préstamos a 60 meses en el conjunto de datos.\n",
    "- La **tasa de interés** está en el **rango de 5% a 25%**. \n",
    "- La mayoría de los préstamos tienen una tasa de interés entre **5-17%**.\n",
    "- Los **préstamos a 36 meses** tienen una **tasa de interés promedio significativamente más baja que la de los préstamos a 60 meses**."
   ]
  },
  {
   "cell_type": "markdown",
   "metadata": {},
   "source": [
    "#### Plazo del prestamo"
   ]
  },
  {
   "cell_type": "code",
   "execution_count": 17,
   "metadata": {},
   "outputs": [
    {
     "data": {
      "text/plain": [
       "array(['36 months', '60 months'], dtype=object)"
      ]
     },
     "execution_count": 17,
     "metadata": {},
     "output_type": "execute_result"
    }
   ],
   "source": [
    "# Mostrar los valores unicos en la columna plazo, nos damos cuenta que\n",
    "# Hay dos plazos diferentes, **36 meses y 60 meses.\n",
    "\n",
    "prestamos_df.term.unique()"
   ]
  },
  {
   "cell_type": "code",
   "execution_count": 18,
   "metadata": {},
   "outputs": [
    {
     "data": {
      "text/plain": [
       "term\n",
       "36 months    14852\n",
       "60 months     5056\n",
       "Name: count, dtype: int64"
      ]
     },
     "execution_count": 18,
     "metadata": {},
     "output_type": "execute_result"
    }
   ],
   "source": [
    "# Contar ocurrencias de cada plazo\n",
    "# 14, 852 prestamos a un plazo de 36 meses y\n",
    "# 5,056 prestamos a 60 meses\n",
    "# Hay aproximadamente tres veces más préstamos a 36 meses que \n",
    "# préstamos a 60 meses en el conjunto de datos.\n",
    "\n",
    "prestamos_df.term.value_counts()"
   ]
  },
  {
   "cell_type": "code",
   "execution_count": 19,
   "metadata": {},
   "outputs": [
    {
     "data": {
      "text/plain": [
       "<Figure size 600x400 with 0 Axes>"
      ]
     },
     "execution_count": 19,
     "metadata": {},
     "output_type": "execute_result"
    },
    {
     "data": {
      "text/plain": [
       "<Figure size 600x400 with 0 Axes>"
      ]
     },
     "metadata": {},
     "output_type": "display_data"
    }
   ],
   "source": [
    "sns.set_theme(rc={'figure.figsize':(6, 4)})\n",
    "plt.figure(figsize=(6,4))"
   ]
  },
  {
   "cell_type": "code",
   "execution_count": 20,
   "metadata": {},
   "outputs": [
    {
     "data": {
      "text/plain": [
       "Text(0, 0.5, 'Número de prestamos')"
      ]
     },
     "execution_count": 20,
     "metadata": {},
     "output_type": "execute_result"
    },
    {
     "data": {
      "image/png": "[encoded data removed]",
      "text/plain": [
       "<Figure size 600x400 with 1 Axes>"
      ]
     },
     "metadata": {},
     "output_type": "display_data"
    }
   ],
   "source": [
    "# Podemos usar un grafico de barras para mostrar los conteos de\n",
    "# observaciones en cada contenedor categórico usando barras.\n",
    "\n",
    "# Un gráfico de conteo se puede considerar como un histograma para \n",
    "# una variable categórica, en lugar de una variable cuantitativa. \n",
    "\n",
    "ax = sns.countplot(x = 'term', data=prestamos_df, order=sorted(prestamos_df.term.unique()))\n",
    "ax.set_title('Prestamos por Plazo del préstamo')\n",
    "ax.set_xlabel('Plazo')\n",
    "ax.set_ylabel('Número de prestamos')\n"
   ]
  },
  {
   "cell_type": "markdown",
   "metadata": {},
   "source": [
    "#### Taza de Interes"
   ]
  },
  {
   "cell_type": "code",
   "execution_count": 22,
   "metadata": {},
   "outputs": [
    {
     "data": {
      "text/plain": [
       "<Axes: >"
      ]
     },
     "execution_count": 22,
     "metadata": {},
     "output_type": "execute_result"
    },
    {
     "data": {
      "image/png": "[encoded data removed]",
      "text/plain": [
       "<Figure size 600x400 with 1 Axes>"
      ]
     },
     "metadata": {},
     "output_type": "display_data"
    }
   ],
   "source": [
    "# Generamos un histograma para verificar la distribucion de\n",
    "# la taza de interes,   con esto nos damos cuenta que ..\n",
    "# La mayoría de los préstamos tienen una tasa de interés entre 5 y el 17.5 %.\n",
    "\n",
    "prestamos_df.int_rate.hist(edgecolor='black', alpha=0.4)"
   ]
  },
  {
   "cell_type": "markdown",
   "metadata": {},
   "source": [
    "####   Promedio de Interés de diferentes plazos"
   ]
  },
  {
   "cell_type": "code",
   "execution_count": 24,
   "metadata": {},
   "outputs": [
    {
     "data": {
      "text/html": [
       "<div>\n",
       "<style scoped>\n",
       "    .dataframe tbody tr th:only-of-type {\n",
       "        vertical-align: middle;\n",
       "    }\n",
       "\n",
       "    .dataframe tbody tr th {\n",
       "        vertical-align: top;\n",
       "    }\n",
       "\n",
       "    .dataframe thead th {\n",
       "        text-align: right;\n",
       "    }\n",
       "</style>\n",
       "<table border=\"1\" class=\"dataframe\">\n",
       "  <thead>\n",
       "    <tr style=\"text-align: right;\">\n",
       "      <th></th>\n",
       "      <th>int_rate</th>\n",
       "    </tr>\n",
       "    <tr>\n",
       "      <th>term</th>\n",
       "      <th></th>\n",
       "    </tr>\n",
       "  </thead>\n",
       "  <tbody>\n",
       "    <tr>\n",
       "      <th>36 months</th>\n",
       "      <td>11.121125</td>\n",
       "    </tr>\n",
       "    <tr>\n",
       "      <th>60 months</th>\n",
       "      <td>14.934955</td>\n",
       "    </tr>\n",
       "  </tbody>\n",
       "</table>\n",
       "</div>"
      ],
      "text/plain": [
       "            int_rate\n",
       "term                \n",
       "36 months  11.121125\n",
       "60 months  14.934955"
      ]
     },
     "execution_count": 24,
     "metadata": {},
     "output_type": "execute_result"
    }
   ],
   "source": [
    "# Calculamos la taza promedio por plazo y nos damos cuenta que:\n",
    "\n",
    "# Los préstamos a 36 meses tienen una tasa de interés promedio significativamente más \n",
    "# baja que la de los préstamos a 60 meses\n",
    "\n",
    "prestamos_df.groupby('term').agg({'int_rate':'mean'})"
   ]
  },
  {
   "cell_type": "code",
   "execution_count": 25,
   "metadata": {},
   "outputs": [
    {
     "data": {
      "text/plain": [
       "Text(0.5, 0, 'Plazo')"
      ]
     },
     "execution_count": 25,
     "metadata": {},
     "output_type": "execute_result"
    },
    {
     "data": {
      "image/png": "[encoded data removed]",
      "text/plain": [
       "<Figure size 600x400 with 1 Axes>"
      ]
     },
     "metadata": {},
     "output_type": "display_data"
    }
   ],
   "source": [
    "#  Graficamos el cálculo anterior\n",
    "\n",
    "# Los préstamos a 36 meses tienen una tasa de interés promedio significativamente  \n",
    "# más baja que la de los préstamos a 60 meses\n",
    "\n",
    "ax = prestamos_df.groupby('term').agg({'int_rate':'mean'}).plot.bar(legend = False)\n",
    "ax.set_title('Taza de interes por Plazo del prestamo')\n",
    "ax.set_ylabel('Taza de interes')\n",
    "ax.set_xlabel('Plazo')"
   ]
  },
  {
   "cell_type": "markdown",
   "metadata": {},
   "source": [
    "### 3.2 Calificación del préstamo   <a id='id32'> </a>\n",
    "\n",
    "- En casode que Lending Club opta por aprobar su solicitud, le **asigna una calificación crediticia (que mide la probabilidad de incumplimiento del préstamo) y la tasa de interés de su préstamo**. Las calificaciones de préstamos incluyen una letra (A - G) \n",
    "- La calificación **A1, la calificación de mayor calidad**, pueden esperar **tasas de interés bajas de alrededor de 5.99%** sobre el préstamo de 36 meses, mientras que aquellos con calificación G5 pueden esperar tasas de 35.89% sobre el préstamo de 36 meses.\n",
    "\n",
    "¿Cuántas calificaciones de préstamo diferentes hay en el conjunto de datos?\n",
    "\n",
    "- **grade** es una **variable categórica**, podemos usar **value_counts()** para verificar los recuentos de cada categoría.\n",
    "- Un gráfico de recuento de Seaborn es una buena manera de visualizar características categóricas.\n",
    "- Trazamos un gráfico de barras (con gráficos de seaborn countplot) para el grado. \n",
    "- El **eje X es la calificación del préstamo (grade)** y el **eje Y es el recuento de préstamos (loans)**. Para ordenar la calificación del préstamo, puede configurar **order=sorted(loan_df.grade.unique())** en el gráfico de conteo."
   ]
  },
  {
   "cell_type": "code",
   "execution_count": 27,
   "metadata": {
    "scrolled": true
   },
   "outputs": [
    {
     "data": {
      "text/plain": [
       "grade\n",
       "B    6065\n",
       "A    4875\n",
       "C    4087\n",
       "D    2748\n",
       "E    1434\n",
       "F     540\n",
       "G     159\n",
       "Name: count, dtype: int64"
      ]
     },
     "execution_count": 27,
     "metadata": {},
     "output_type": "execute_result"
    }
   ],
   "source": [
    "prestamos_df.grade.value_counts()"
   ]
  },
  {
   "cell_type": "code",
   "execution_count": 28,
   "metadata": {},
   "outputs": [
    {
     "data": {
      "text/html": [
       "<div>\n",
       "<style scoped>\n",
       "    .dataframe tbody tr th:only-of-type {\n",
       "        vertical-align: middle;\n",
       "    }\n",
       "\n",
       "    .dataframe tbody tr th {\n",
       "        vertical-align: top;\n",
       "    }\n",
       "\n",
       "    .dataframe thead th {\n",
       "        text-align: right;\n",
       "    }\n",
       "</style>\n",
       "<table border=\"1\" class=\"dataframe\">\n",
       "  <thead>\n",
       "    <tr style=\"text-align: right;\">\n",
       "      <th></th>\n",
       "      <th>grade</th>\n",
       "    </tr>\n",
       "    <tr>\n",
       "      <th>grade</th>\n",
       "      <th></th>\n",
       "    </tr>\n",
       "  </thead>\n",
       "  <tbody>\n",
       "    <tr>\n",
       "      <th>A</th>\n",
       "      <td>4875</td>\n",
       "    </tr>\n",
       "    <tr>\n",
       "      <th>B</th>\n",
       "      <td>6065</td>\n",
       "    </tr>\n",
       "    <tr>\n",
       "      <th>C</th>\n",
       "      <td>4087</td>\n",
       "    </tr>\n",
       "    <tr>\n",
       "      <th>D</th>\n",
       "      <td>2748</td>\n",
       "    </tr>\n",
       "    <tr>\n",
       "      <th>E</th>\n",
       "      <td>1434</td>\n",
       "    </tr>\n",
       "    <tr>\n",
       "      <th>F</th>\n",
       "      <td>540</td>\n",
       "    </tr>\n",
       "    <tr>\n",
       "      <th>G</th>\n",
       "      <td>159</td>\n",
       "    </tr>\n",
       "  </tbody>\n",
       "</table>\n",
       "</div>"
      ],
      "text/plain": [
       "       grade\n",
       "grade       \n",
       "A       4875\n",
       "B       6065\n",
       "C       4087\n",
       "D       2748\n",
       "E       1434\n",
       "F        540\n",
       "G        159"
      ]
     },
     "execution_count": 28,
     "metadata": {},
     "output_type": "execute_result"
    }
   ],
   "source": [
    "prestamos_df.groupby('grade').agg({'grade':'count'})"
   ]
  },
  {
   "cell_type": "code",
   "execution_count": 29,
   "metadata": {},
   "outputs": [
    {
     "data": {
      "text/plain": [
       "Text(0, 0.5, 'Cantidad de prestamos')"
      ]
     },
     "execution_count": 29,
     "metadata": {},
     "output_type": "execute_result"
    },
    {
     "data": {
      "image/png": "[encoded data removed]",
      "text/plain": [
       "<Figure size 600x400 with 1 Axes>"
      ]
     },
     "metadata": {},
     "output_type": "display_data"
    }
   ],
   "source": [
    "# Podemos graficar directamente con el metodo plot de dataframe\n",
    "# matplotlib no es muy adecuadopara elmanejo de colores\n",
    "# en su lugar se puede usar la libreria seaborn que permite especificar paletas de colores\n",
    "\n",
    "ax = prestamos_df.groupby('grade').agg({'grade':'count'}).plot.bar(legend = False, \n",
    "                                                                   color='aquamarine' )\n",
    "ax.set_title('Prestamos por Grado de calificación')\n",
    "ax.set_ylabel('Cantidad de prestamos')\n",
    "\n"
   ]
  },
  {
   "cell_type": "code",
   "execution_count": 30,
   "metadata": {},
   "outputs": [
    {
     "data": {
      "text/plain": [
       "Text(0.5, 1.0, 'Prestamos por Grado de calificación del prestamo')"
      ]
     },
     "execution_count": 30,
     "metadata": {},
     "output_type": "execute_result"
    },
    {
     "data": {
      "image/png": "[encoded data removed]",
      "text/plain": [
       "<Figure size 600x400 with 1 Axes>"
      ]
     },
     "metadata": {},
     "output_type": "display_data"
    }
   ],
   "source": [
    "# Tambien podemos usar la libreria seaborn \n",
    "# usando countplot\n",
    "\n",
    "ax = sns.countplot(x = 'grade',data = prestamos_df,  \n",
    "                   order=sorted( prestamos_df.grade.unique() ) )\n",
    "ax.set_title('Prestamos por Grado de calificación del prestamo')"
   ]
  },
  {
   "cell_type": "code",
   "execution_count": 31,
   "metadata": {},
   "outputs": [
    {
     "data": {
      "text/plain": [
       "Text(0.5, 1.0, 'Prestamos por Grado')"
      ]
     },
     "execution_count": 31,
     "metadata": {},
     "output_type": "execute_result"
    },
    {
     "data": {
      "image/png": "[encoded data removed]",
      "text/plain": [
       "<Figure size 600x400 with 1 Axes>"
      ]
     },
     "metadata": {},
     "output_type": "display_data"
    }
   ],
   "source": [
    "# Paa hacerlo horizontal, especificmos que el valor de grade lo ponemos\n",
    "# en el eje y\n",
    "\n",
    "ax = sns.countplot(y='grade',data=prestamos_df, palette=\"Set3\", \n",
    "                   order=sorted(prestamos_df.grade.unique()))\n",
    "ax.set_title('Prestamos por Grado')"
   ]
  },
  {
   "cell_type": "markdown",
   "metadata": {},
   "source": [
    "\n",
    "### 3.3 Calificación del préstamo y tasa de interés    <a id='id33'> </a>\n",
    "\n",
    "Explorar la relación entre la calificacion del préstamo y la tasa de interés.\n",
    "\n",
    "- Obtener la tasa de interés promedio para cada grado de préstamo.\n",
    "  - Agrupar por la columna de calificación.\n",
    "  - Aplicar la función agregada de la media en la columna int_rate.\n",
    "- Visualizar la tasa de interés promedio de cada grado de préstamo con un gráfico de barras. Asegúrese de que la grafica tenga las etiquetas y el título adecuados.\n",
    "- Discutir la relación brevemente.\n",
    "\n",
    "**Sugerencia**: Puede trazar directamente un gráfico de barras en un objeto groupby agregado. es decir. `ax = df.groupby(...).agg(...).plot.bar()`"
   ]
  },
  {
   "cell_type": "code",
   "execution_count": 33,
   "metadata": {},
   "outputs": [
    {
     "data": {
      "text/html": [
       "<div>\n",
       "<style scoped>\n",
       "    .dataframe tbody tr th:only-of-type {\n",
       "        vertical-align: middle;\n",
       "    }\n",
       "\n",
       "    .dataframe tbody tr th {\n",
       "        vertical-align: top;\n",
       "    }\n",
       "\n",
       "    .dataframe thead th {\n",
       "        text-align: right;\n",
       "    }\n",
       "</style>\n",
       "<table border=\"1\" class=\"dataframe\">\n",
       "  <thead>\n",
       "    <tr style=\"text-align: right;\">\n",
       "      <th></th>\n",
       "      <th>int_rate</th>\n",
       "    </tr>\n",
       "    <tr>\n",
       "      <th>grade</th>\n",
       "      <th></th>\n",
       "    </tr>\n",
       "  </thead>\n",
       "  <tbody>\n",
       "    <tr>\n",
       "      <th>A</th>\n",
       "      <td>7.350978</td>\n",
       "    </tr>\n",
       "    <tr>\n",
       "      <th>B</th>\n",
       "      <td>11.033439</td>\n",
       "    </tr>\n",
       "    <tr>\n",
       "      <th>C</th>\n",
       "      <td>13.555241</td>\n",
       "    </tr>\n",
       "    <tr>\n",
       "      <th>D</th>\n",
       "      <td>15.707576</td>\n",
       "    </tr>\n",
       "    <tr>\n",
       "      <th>E</th>\n",
       "      <td>17.653752</td>\n",
       "    </tr>\n",
       "    <tr>\n",
       "      <th>F</th>\n",
       "      <td>19.729463</td>\n",
       "    </tr>\n",
       "    <tr>\n",
       "      <th>G</th>\n",
       "      <td>21.346981</td>\n",
       "    </tr>\n",
       "  </tbody>\n",
       "</table>\n",
       "</div>"
      ],
      "text/plain": [
       "        int_rate\n",
       "grade           \n",
       "A       7.350978\n",
       "B      11.033439\n",
       "C      13.555241\n",
       "D      15.707576\n",
       "E      17.653752\n",
       "F      19.729463\n",
       "G      21.346981"
      ]
     },
     "execution_count": 33,
     "metadata": {},
     "output_type": "execute_result"
    }
   ],
   "source": [
    "# Para calcular la taza de interes por la calificacion del prestamo\n",
    "\n",
    "# Agrupamos por la columna de grado y \n",
    "# Aplicamos la función agregada de la media en la columna de la taza de ineteres  int_rate.\n",
    "\n",
    "prestamos_df.groupby('grade').agg({'int_rate':'mean'})"
   ]
  },
  {
   "cell_type": "code",
   "execution_count": 34,
   "metadata": {},
   "outputs": [
    {
     "data": {
      "text/plain": [
       "Text(0, 0.5, 'Taza de interés')"
      ]
     },
     "execution_count": 34,
     "metadata": {},
     "output_type": "execute_result"
    },
    {
     "data": {
      "image/png": "[encoded data removed]",
      "text/plain": [
       "<Figure size 600x400 with 1 Axes>"
      ]
     },
     "metadata": {},
     "output_type": "display_data"
    }
   ],
   "source": [
    "# Podemos graficar directamente con el metodo plot de dataframe\n",
    "\n",
    "ax = prestamos_df.groupby('grade').agg({'int_rate':'mean'}).plot.bar(legend = False)\n",
    "ax.set_title('Calificación del prestamo y taza de interés')\n",
    "ax.set_ylabel('Taza de interés')"
   ]
  },
  {
   "cell_type": "markdown",
   "metadata": {},
   "source": [
    "### 3.4 Préstamos por Estado  <a id='id34'> </a>\n",
    "\n",
    "- Hay préstamos de seis estados en el conjunto de datos. \n",
    "- Explorar el recuento de préstamos en cada estado a través de la visualización.\n",
    "\n",
    "- Visualizar recuentos de préstamos en cada estado. \n"
   ]
  },
  {
   "cell_type": "code",
   "execution_count": 36,
   "metadata": {
    "scrolled": true
   },
   "outputs": [
    {
     "data": {
      "text/html": [
       "<div>\n",
       "<style scoped>\n",
       "    .dataframe tbody tr th:only-of-type {\n",
       "        vertical-align: middle;\n",
       "    }\n",
       "\n",
       "    .dataframe tbody tr th {\n",
       "        vertical-align: top;\n",
       "    }\n",
       "\n",
       "    .dataframe thead th {\n",
       "        text-align: right;\n",
       "    }\n",
       "</style>\n",
       "<table border=\"1\" class=\"dataframe\">\n",
       "  <thead>\n",
       "    <tr style=\"text-align: right;\">\n",
       "      <th></th>\n",
       "      <th>addr_state</th>\n",
       "    </tr>\n",
       "    <tr>\n",
       "      <th>addr_state</th>\n",
       "      <th></th>\n",
       "    </tr>\n",
       "  </thead>\n",
       "  <tbody>\n",
       "    <tr>\n",
       "      <th>CA</th>\n",
       "      <td>7105</td>\n",
       "    </tr>\n",
       "    <tr>\n",
       "      <th>FL</th>\n",
       "      <td>2872</td>\n",
       "    </tr>\n",
       "    <tr>\n",
       "      <th>IL</th>\n",
       "      <td>1525</td>\n",
       "    </tr>\n",
       "    <tr>\n",
       "      <th>NJ</th>\n",
       "      <td>1855</td>\n",
       "    </tr>\n",
       "    <tr>\n",
       "      <th>NY</th>\n",
       "      <td>3817</td>\n",
       "    </tr>\n",
       "    <tr>\n",
       "      <th>TX</th>\n",
       "      <td>2734</td>\n",
       "    </tr>\n",
       "  </tbody>\n",
       "</table>\n",
       "</div>"
      ],
      "text/plain": [
       "            addr_state\n",
       "addr_state            \n",
       "CA                7105\n",
       "FL                2872\n",
       "IL                1525\n",
       "NJ                1855\n",
       "NY                3817\n",
       "TX                2734"
      ]
     },
     "execution_count": 36,
     "metadata": {},
     "output_type": "execute_result"
    }
   ],
   "source": [
    "prestamos_df.groupby('addr_state').agg({'addr_state':'count'})"
   ]
  },
  {
   "cell_type": "code",
   "execution_count": 37,
   "metadata": {},
   "outputs": [
    {
     "data": {
      "text/plain": [
       "Text(0, 0.5, 'Estado')"
      ]
     },
     "execution_count": 37,
     "metadata": {},
     "output_type": "execute_result"
    },
    {
     "data": {
      "image/png": "[encoded data removed]",
      "text/plain": [
       "<Figure size 600x400 with 1 Axes>"
      ]
     },
     "metadata": {},
     "output_type": "display_data"
    }
   ],
   "source": [
    "ax = prestamos_df.groupby('addr_state').agg({'addr_state':'count'}).plot.barh(legend = False)\n",
    "ax.set_title('Prestamos por Estado')\n",
    "ax.set_ylabel('Estado')"
   ]
  },
  {
   "cell_type": "code",
   "execution_count": null,
   "metadata": {},
   "outputs": [],
   "source": []
  },
  {
   "cell_type": "markdown",
   "metadata": {},
   "source": [
    "###  3.5 Distribución Anual de Ingresos de los Prestatarios   <a id='id35'> </a>\n",
    "\n",
    "- Trazar un histograma de todos los ingresos anuales del prestatario.\n",
    "- Trace otro histograma de ingresos anuales que sea inferior a $250.000.\n",
    "- Comparar los diagramas  y discutir brevemente.\n",
    "\n",
    "**Sugerencia**: Filtrar los  préstamos por ingreso anual, es decir, `prestamos_df[prestamos_df.annual_inc<250000]`\n"
   ]
  },
  {
   "cell_type": "code",
   "execution_count": 39,
   "metadata": {},
   "outputs": [
    {
     "data": {
      "text/plain": [
       "<Axes: >"
      ]
     },
     "execution_count": 39,
     "metadata": {},
     "output_type": "execute_result"
    },
    {
     "data": {
      "image/png": "[encoded data removed]",
      "text/plain": [
       "<Figure size 600x400 with 1 Axes>"
      ]
     },
     "metadata": {},
     "output_type": "display_data"
    }
   ],
   "source": [
    "# histograma general del ingreso anual \n",
    "\n",
    "prestamos_df.annual_inc.hist(edgecolor='black', alpha=0.4)"
   ]
  },
  {
   "cell_type": "code",
   "execution_count": 40,
   "metadata": {},
   "outputs": [
    {
     "data": {
      "text/plain": [
       "count    1.990800e+04\n",
       "mean     7.107345e+04\n",
       "std      6.980565e+04\n",
       "min      4.000000e+03\n",
       "25%      4.200000e+04\n",
       "50%      6.000000e+04\n",
       "75%      8.500000e+04\n",
       "max      6.000000e+06\n",
       "Name: annual_inc, dtype: float64"
      ]
     },
     "execution_count": 40,
     "metadata": {},
     "output_type": "execute_result"
    }
   ],
   "source": [
    "# Usamos la opcion describe para ver los estadisticos descriptivos de la columna ingreso Anual\n",
    "# Servira para darnos una idea como esta la distribucion \n",
    "\n",
    "prestamos_df.annual_inc.describe()"
   ]
  },
  {
   "cell_type": "code",
   "execution_count": 41,
   "metadata": {},
   "outputs": [
    {
     "data": {
      "text/plain": [
       "<Axes: >"
      ]
     },
     "execution_count": 41,
     "metadata": {},
     "output_type": "execute_result"
    },
    {
     "data": {
      "image/png": "[encoded data removed]",
      "text/plain": [
       "<Figure size 600x400 with 1 Axes>"
      ]
     },
     "metadata": {},
     "output_type": "display_data"
    }
   ],
   "source": [
    "# histograma de los que ganan menos de 250 mil \n",
    "\n",
    "prestamos_df[prestamos_df.annual_inc<250000].annual_inc.hist(edgecolor='black', alpha=0.4)"
   ]
  },
  {
   "cell_type": "code",
   "execution_count": 42,
   "metadata": {},
   "outputs": [
    {
     "data": {
      "text/plain": [
       "<Axes: >"
      ]
     },
     "execution_count": 42,
     "metadata": {},
     "output_type": "execute_result"
    },
    {
     "data": {
      "image/png": "[encoded data removed]",
      "text/plain": [
       "<Figure size 600x400 with 1 Axes>"
      ]
     },
     "metadata": {},
     "output_type": "display_data"
    }
   ],
   "source": [
    "# histograma de los ue ganan menos de 100 mil \n",
    "\n",
    "prestamos_df[prestamos_df.annual_inc<100000].annual_inc.hist(edgecolor='black', alpha=0.4)"
   ]
  },
  {
   "cell_type": "code",
   "execution_count": null,
   "metadata": {},
   "outputs": [],
   "source": []
  },
  {
   "cell_type": "markdown",
   "metadata": {},
   "source": [
    "\n",
    "### 3.6. Ingreso anual del prestatario por estado  <a id='id36'> </a>\n",
    "\n",
    "- Visualice el ingreso **medio** de los prestatarios de cada estado con un gráfico de barras.\n",
    "  - **Agrupar** por la columna **addr_state**.\n",
    "  - Aplicar la función agregada **mediana** en la columna anual_inc.\n",
    "\n",
    "- Discutir el resultado brevemente\n",
    "\n",
    "**Sugerencia**: Puede trazar directamente un gráfico de barras en un objeto groupby agregado. es decir. `ax = df.groupby(...).agg(...).plot.bar()`"
   ]
  },
  {
   "cell_type": "code",
   "execution_count": 44,
   "metadata": {},
   "outputs": [
    {
     "data": {
      "text/plain": [
       "Text(0, 0.5, 'Estado')"
      ]
     },
     "execution_count": 44,
     "metadata": {},
     "output_type": "execute_result"
    },
    {
     "data": {
      "image/png": "[encoded data removed]",
      "text/plain": [
       "<Figure size 600x400 with 1 Axes>"
      ]
     },
     "metadata": {},
     "output_type": "display_data"
    }
   ],
   "source": [
    "ax = prestamos_df.groupby('addr_state').agg({'annual_inc':'mean'}).sort_values(\"annual_inc\").plot.bar(legend = False)\n",
    "ax.set_title('Ingreso Anual Medio por Estado')\n",
    "ax.set_ylabel('Estado')"
   ]
  },
  {
   "cell_type": "code",
   "execution_count": null,
   "metadata": {},
   "outputs": [],
   "source": []
  },
  {
   "cell_type": "markdown",
   "metadata": {},
   "source": [
    "###  3.7 Ingreso Anual y Tasa de Interés   <a id='id37'> </a>\n",
    "\n",
    "- Trazar un diagrama de dispersión sobre el ingreso anual y la tasa de interés\n",
    "- Trazar otro diagrama de dispersión con un ingreso anual inferior a $300,000\n",
    "- Discutir el resultado, **¿el diagrama de dispersión revela alguna correlación entre el ingreso anual y la tasa de interés?**"
   ]
  },
  {
   "cell_type": "code",
   "execution_count": 46,
   "metadata": {},
   "outputs": [
    {
     "data": {
      "text/plain": [
       "<Axes: xlabel='annual_inc', ylabel='int_rate'>"
      ]
     },
     "execution_count": 46,
     "metadata": {},
     "output_type": "execute_result"
    },
    {
     "data": {
      "image/png": "[encoded data removed]",
      "text/plain": [
       "<Figure size 600x400 with 1 Axes>"
      ]
     },
     "metadata": {},
     "output_type": "display_data"
    }
   ],
   "source": [
    "# diagrama de dispersion de ingresos anuales y taza de interes\n",
    "\n",
    "prestamos_df.plot.scatter( x='annual_inc',  y='int_rate', c='DarkBlue')\n"
   ]
  },
  {
   "cell_type": "code",
   "execution_count": 47,
   "metadata": {},
   "outputs": [
    {
     "data": {
      "text/plain": [
       "<Axes: xlabel='annual_inc', ylabel='int_rate'>"
      ]
     },
     "execution_count": 47,
     "metadata": {},
     "output_type": "execute_result"
    },
    {
     "data": {
      "image/png": "[encoded data removed]",
      "text/plain": [
       "<Figure size 600x400 with 1 Axes>"
      ]
     },
     "metadata": {},
     "output_type": "display_data"
    }
   ],
   "source": [
    "# diagrama de dispersion de ingresos anuales y taza de interes de los que ganan menos de 300 mil\n",
    "\n",
    "prestamos_df[prestamos_df.annual_inc<300000].plot.scatter( x='annual_inc',  y='int_rate', c='DarkBlue')"
   ]
  },
  {
   "cell_type": "code",
   "execution_count": 48,
   "metadata": {},
   "outputs": [
    {
     "data": {
      "text/plain": [
       "<Axes: xlabel='int_rate', ylabel='annual_inc'>"
      ]
     },
     "execution_count": 48,
     "metadata": {},
     "output_type": "execute_result"
    },
    {
     "data": {
      "image/png": "[encoded data removed]",
      "text/plain": [
       "<Figure size 600x400 with 1 Axes>"
      ]
     },
     "metadata": {},
     "output_type": "display_data"
    }
   ],
   "source": [
    "# diagrama de dispersion de ingresos anuales y taza de interes de los que ganan menos de 300 mil\n",
    "# invertimos los ejes\n",
    "\n",
    "prestamos_df[prestamos_df.annual_inc<300000].plot.scatter( x='int_rate',  y='annual_inc', c='DarkBlue')"
   ]
  },
  {
   "cell_type": "code",
   "execution_count": null,
   "metadata": {},
   "outputs": [],
   "source": []
  },
  {
   "cell_type": "markdown",
   "metadata": {},
   "source": [
    "### 3.8 Préstamos emitidos durante el año  <a id='id38'> </a>\n",
    "\n",
    "- Debido a la forma en que viene la fecha, vamos a **convertir la informacion del campo issue_d (El mes en que se financió el préstamo) en tipo fecha**, para crear una nueva columna con el numero de año y poder graficar el numero de prestamos por año\n",
    "- Convertir la columna **issue_d  (El mes en que se financió el préstamo)** a un tipo de fecha y hora\n",
    "- Crear una nueva columna, **issue_year**, y configurarla en el año en que se emitió un préstamo\n",
    "- Mostrar las primeras cinco filas\n",
    "\n",
    "\n",
    "Explorar la cantidad de préstamos emitidos a través de LendingClub entre 2007 y 2011\n",
    "\n",
    "- Obtenga un conteo de préstamos en cada año (Sugerencia: **agrupe** por **issue_year** y aplique la función agregada 'recuento' en cualquier columna).\n",
    "- Trace un gráfico de líneas para ver la tendencia, el eje x es el año, el eje y es el conteo.\n",
    "- Discutir el resultado brevemente.\n",
    "\n",
    "**Sugerencia**: Puede trazar directamente un gráfico de líneas en un objeto groupby agregado. es decir. `ax = df.groupby(...).agg(...).plot.line()`"
   ]
  },
  {
   "cell_type": "code",
   "execution_count": 50,
   "metadata": {},
   "outputs": [
    {
     "data": {
      "text/html": [
       "<div>\n",
       "<style scoped>\n",
       "    .dataframe tbody tr th:only-of-type {\n",
       "        vertical-align: middle;\n",
       "    }\n",
       "\n",
       "    .dataframe tbody tr th {\n",
       "        vertical-align: top;\n",
       "    }\n",
       "\n",
       "    .dataframe thead th {\n",
       "        text-align: right;\n",
       "    }\n",
       "</style>\n",
       "<table border=\"1\" class=\"dataframe\">\n",
       "  <thead>\n",
       "    <tr style=\"text-align: right;\">\n",
       "      <th></th>\n",
       "      <th>loan_amnt</th>\n",
       "      <th>funded_amnt</th>\n",
       "      <th>funded_amnt_inv</th>\n",
       "      <th>term</th>\n",
       "      <th>int_rate</th>\n",
       "      <th>installment</th>\n",
       "      <th>grade</th>\n",
       "      <th>sub_grade</th>\n",
       "      <th>emp_title</th>\n",
       "      <th>emp_length</th>\n",
       "      <th>...</th>\n",
       "      <th>application_type</th>\n",
       "      <th>acc_now_delinq</th>\n",
       "      <th>chargeoff_within_12_mths</th>\n",
       "      <th>delinq_amnt</th>\n",
       "      <th>pub_rec_bankruptcies</th>\n",
       "      <th>tax_liens</th>\n",
       "      <th>hardship_flag</th>\n",
       "      <th>disbursement_method</th>\n",
       "      <th>debt_settlement_flag</th>\n",
       "      <th>debt_settlement_flag_date</th>\n",
       "    </tr>\n",
       "  </thead>\n",
       "  <tbody>\n",
       "    <tr>\n",
       "      <th>0</th>\n",
       "      <td>2400</td>\n",
       "      <td>2400</td>\n",
       "      <td>2400.0</td>\n",
       "      <td>36 months</td>\n",
       "      <td>15.96</td>\n",
       "      <td>84.33</td>\n",
       "      <td>C</td>\n",
       "      <td>C5</td>\n",
       "      <td>NaN</td>\n",
       "      <td>10+ years</td>\n",
       "      <td>...</td>\n",
       "      <td>Individual</td>\n",
       "      <td>0.0</td>\n",
       "      <td>0.0</td>\n",
       "      <td>0.0</td>\n",
       "      <td>0.0</td>\n",
       "      <td>0.0</td>\n",
       "      <td>N</td>\n",
       "      <td>Cash</td>\n",
       "      <td>N</td>\n",
       "      <td>NaN</td>\n",
       "    </tr>\n",
       "    <tr>\n",
       "      <th>1</th>\n",
       "      <td>10000</td>\n",
       "      <td>10000</td>\n",
       "      <td>10000.0</td>\n",
       "      <td>36 months</td>\n",
       "      <td>13.49</td>\n",
       "      <td>339.31</td>\n",
       "      <td>C</td>\n",
       "      <td>C1</td>\n",
       "      <td>AIR RESOURCES BOARD</td>\n",
       "      <td>10+ years</td>\n",
       "      <td>...</td>\n",
       "      <td>Individual</td>\n",
       "      <td>0.0</td>\n",
       "      <td>0.0</td>\n",
       "      <td>0.0</td>\n",
       "      <td>0.0</td>\n",
       "      <td>0.0</td>\n",
       "      <td>N</td>\n",
       "      <td>Cash</td>\n",
       "      <td>N</td>\n",
       "      <td>NaN</td>\n",
       "    </tr>\n",
       "    <tr>\n",
       "      <th>2</th>\n",
       "      <td>3000</td>\n",
       "      <td>3000</td>\n",
       "      <td>3000.0</td>\n",
       "      <td>36 months</td>\n",
       "      <td>18.64</td>\n",
       "      <td>109.43</td>\n",
       "      <td>E</td>\n",
       "      <td>E1</td>\n",
       "      <td>MKC Accounting</td>\n",
       "      <td>9 years</td>\n",
       "      <td>...</td>\n",
       "      <td>Individual</td>\n",
       "      <td>0.0</td>\n",
       "      <td>0.0</td>\n",
       "      <td>0.0</td>\n",
       "      <td>0.0</td>\n",
       "      <td>0.0</td>\n",
       "      <td>N</td>\n",
       "      <td>Cash</td>\n",
       "      <td>N</td>\n",
       "      <td>NaN</td>\n",
       "    </tr>\n",
       "    <tr>\n",
       "      <th>3</th>\n",
       "      <td>5600</td>\n",
       "      <td>5600</td>\n",
       "      <td>5600.0</td>\n",
       "      <td>60 months</td>\n",
       "      <td>21.28</td>\n",
       "      <td>152.39</td>\n",
       "      <td>F</td>\n",
       "      <td>F2</td>\n",
       "      <td>NaN</td>\n",
       "      <td>4 years</td>\n",
       "      <td>...</td>\n",
       "      <td>Individual</td>\n",
       "      <td>0.0</td>\n",
       "      <td>0.0</td>\n",
       "      <td>0.0</td>\n",
       "      <td>0.0</td>\n",
       "      <td>0.0</td>\n",
       "      <td>N</td>\n",
       "      <td>Cash</td>\n",
       "      <td>N</td>\n",
       "      <td>NaN</td>\n",
       "    </tr>\n",
       "    <tr>\n",
       "      <th>4</th>\n",
       "      <td>5375</td>\n",
       "      <td>5375</td>\n",
       "      <td>5350.0</td>\n",
       "      <td>60 months</td>\n",
       "      <td>12.69</td>\n",
       "      <td>121.45</td>\n",
       "      <td>B</td>\n",
       "      <td>B5</td>\n",
       "      <td>Starbucks</td>\n",
       "      <td>&lt; 1 year</td>\n",
       "      <td>...</td>\n",
       "      <td>Individual</td>\n",
       "      <td>0.0</td>\n",
       "      <td>0.0</td>\n",
       "      <td>0.0</td>\n",
       "      <td>0.0</td>\n",
       "      <td>0.0</td>\n",
       "      <td>N</td>\n",
       "      <td>Cash</td>\n",
       "      <td>N</td>\n",
       "      <td>NaN</td>\n",
       "    </tr>\n",
       "  </tbody>\n",
       "</table>\n",
       "<p>5 rows × 58 columns</p>\n",
       "</div>"
      ],
      "text/plain": [
       "   loan_amnt  funded_amnt  funded_amnt_inv       term  int_rate  installment  \\\n",
       "0       2400         2400           2400.0  36 months     15.96        84.33   \n",
       "1      10000        10000          10000.0  36 months     13.49       339.31   \n",
       "2       3000         3000           3000.0  36 months     18.64       109.43   \n",
       "3       5600         5600           5600.0  60 months     21.28       152.39   \n",
       "4       5375         5375           5350.0  60 months     12.69       121.45   \n",
       "\n",
       "  grade sub_grade            emp_title emp_length  ... application_type  \\\n",
       "0     C        C5                  NaN  10+ years  ...       Individual   \n",
       "1     C        C1  AIR RESOURCES BOARD  10+ years  ...       Individual   \n",
       "2     E        E1      MKC Accounting     9 years  ...       Individual   \n",
       "3     F        F2                  NaN    4 years  ...       Individual   \n",
       "4     B        B5            Starbucks   < 1 year  ...       Individual   \n",
       "\n",
       "   acc_now_delinq chargeoff_within_12_mths delinq_amnt pub_rec_bankruptcies  \\\n",
       "0             0.0                      0.0         0.0                  0.0   \n",
       "1             0.0                      0.0         0.0                  0.0   \n",
       "2             0.0                      0.0         0.0                  0.0   \n",
       "3             0.0                      0.0         0.0                  0.0   \n",
       "4             0.0                      0.0         0.0                  0.0   \n",
       "\n",
       "  tax_liens hardship_flag disbursement_method debt_settlement_flag  \\\n",
       "0       0.0             N                Cash                    N   \n",
       "1       0.0             N                Cash                    N   \n",
       "2       0.0             N                Cash                    N   \n",
       "3       0.0             N                Cash                    N   \n",
       "4       0.0             N                Cash                    N   \n",
       "\n",
       "  debt_settlement_flag_date  \n",
       "0                       NaN  \n",
       "1                       NaN  \n",
       "2                       NaN  \n",
       "3                       NaN  \n",
       "4                       NaN  \n",
       "\n",
       "[5 rows x 58 columns]"
      ]
     },
     "execution_count": 50,
     "metadata": {},
     "output_type": "execute_result"
    }
   ],
   "source": [
    "# verificar la informacion del campo  issue_d\n",
    "\n",
    "prestamos_df.head()"
   ]
  },
  {
   "cell_type": "code",
   "execution_count": 51,
   "metadata": {},
   "outputs": [
    {
     "name": "stderr",
     "output_type": "stream",
     "text": [
      "C:\\Users\\jgab\\AppData\\Local\\Temp\\ipykernel_24820\\343196801.py:3: UserWarning: Could not infer format, so each element will be parsed individually, falling back to `dateutil`. To ensure parsing is consistent and as-expected, please specify a format.\n",
      "  prestamos_df['issue_d'] = pd.to_datetime(prestamos_df['issue_d'])\n"
     ]
    }
   ],
   "source": [
    "# Convertir la columna issue_d (El mes en que se financió el préstamo) a un tipo de fecha y hora\n",
    "\n",
    "prestamos_df['issue_d'] = pd.to_datetime(prestamos_df['issue_d'])"
   ]
  },
  {
   "cell_type": "code",
   "execution_count": 52,
   "metadata": {},
   "outputs": [
    {
     "data": {
      "text/html": [
       "<div>\n",
       "<style scoped>\n",
       "    .dataframe tbody tr th:only-of-type {\n",
       "        vertical-align: middle;\n",
       "    }\n",
       "\n",
       "    .dataframe tbody tr th {\n",
       "        vertical-align: top;\n",
       "    }\n",
       "\n",
       "    .dataframe thead th {\n",
       "        text-align: right;\n",
       "    }\n",
       "</style>\n",
       "<table border=\"1\" class=\"dataframe\">\n",
       "  <thead>\n",
       "    <tr style=\"text-align: right;\">\n",
       "      <th></th>\n",
       "      <th>loan_amnt</th>\n",
       "      <th>funded_amnt</th>\n",
       "      <th>funded_amnt_inv</th>\n",
       "      <th>term</th>\n",
       "      <th>int_rate</th>\n",
       "      <th>installment</th>\n",
       "      <th>grade</th>\n",
       "      <th>sub_grade</th>\n",
       "      <th>emp_title</th>\n",
       "      <th>emp_length</th>\n",
       "      <th>...</th>\n",
       "      <th>application_type</th>\n",
       "      <th>acc_now_delinq</th>\n",
       "      <th>chargeoff_within_12_mths</th>\n",
       "      <th>delinq_amnt</th>\n",
       "      <th>pub_rec_bankruptcies</th>\n",
       "      <th>tax_liens</th>\n",
       "      <th>hardship_flag</th>\n",
       "      <th>disbursement_method</th>\n",
       "      <th>debt_settlement_flag</th>\n",
       "      <th>debt_settlement_flag_date</th>\n",
       "    </tr>\n",
       "  </thead>\n",
       "  <tbody>\n",
       "    <tr>\n",
       "      <th>0</th>\n",
       "      <td>2400</td>\n",
       "      <td>2400</td>\n",
       "      <td>2400.0</td>\n",
       "      <td>36 months</td>\n",
       "      <td>15.96</td>\n",
       "      <td>84.33</td>\n",
       "      <td>C</td>\n",
       "      <td>C5</td>\n",
       "      <td>NaN</td>\n",
       "      <td>10+ years</td>\n",
       "      <td>...</td>\n",
       "      <td>Individual</td>\n",
       "      <td>0.0</td>\n",
       "      <td>0.0</td>\n",
       "      <td>0.0</td>\n",
       "      <td>0.0</td>\n",
       "      <td>0.0</td>\n",
       "      <td>N</td>\n",
       "      <td>Cash</td>\n",
       "      <td>N</td>\n",
       "      <td>NaN</td>\n",
       "    </tr>\n",
       "    <tr>\n",
       "      <th>1</th>\n",
       "      <td>10000</td>\n",
       "      <td>10000</td>\n",
       "      <td>10000.0</td>\n",
       "      <td>36 months</td>\n",
       "      <td>13.49</td>\n",
       "      <td>339.31</td>\n",
       "      <td>C</td>\n",
       "      <td>C1</td>\n",
       "      <td>AIR RESOURCES BOARD</td>\n",
       "      <td>10+ years</td>\n",
       "      <td>...</td>\n",
       "      <td>Individual</td>\n",
       "      <td>0.0</td>\n",
       "      <td>0.0</td>\n",
       "      <td>0.0</td>\n",
       "      <td>0.0</td>\n",
       "      <td>0.0</td>\n",
       "      <td>N</td>\n",
       "      <td>Cash</td>\n",
       "      <td>N</td>\n",
       "      <td>NaN</td>\n",
       "    </tr>\n",
       "    <tr>\n",
       "      <th>2</th>\n",
       "      <td>3000</td>\n",
       "      <td>3000</td>\n",
       "      <td>3000.0</td>\n",
       "      <td>36 months</td>\n",
       "      <td>18.64</td>\n",
       "      <td>109.43</td>\n",
       "      <td>E</td>\n",
       "      <td>E1</td>\n",
       "      <td>MKC Accounting</td>\n",
       "      <td>9 years</td>\n",
       "      <td>...</td>\n",
       "      <td>Individual</td>\n",
       "      <td>0.0</td>\n",
       "      <td>0.0</td>\n",
       "      <td>0.0</td>\n",
       "      <td>0.0</td>\n",
       "      <td>0.0</td>\n",
       "      <td>N</td>\n",
       "      <td>Cash</td>\n",
       "      <td>N</td>\n",
       "      <td>NaN</td>\n",
       "    </tr>\n",
       "    <tr>\n",
       "      <th>3</th>\n",
       "      <td>5600</td>\n",
       "      <td>5600</td>\n",
       "      <td>5600.0</td>\n",
       "      <td>60 months</td>\n",
       "      <td>21.28</td>\n",
       "      <td>152.39</td>\n",
       "      <td>F</td>\n",
       "      <td>F2</td>\n",
       "      <td>NaN</td>\n",
       "      <td>4 years</td>\n",
       "      <td>...</td>\n",
       "      <td>Individual</td>\n",
       "      <td>0.0</td>\n",
       "      <td>0.0</td>\n",
       "      <td>0.0</td>\n",
       "      <td>0.0</td>\n",
       "      <td>0.0</td>\n",
       "      <td>N</td>\n",
       "      <td>Cash</td>\n",
       "      <td>N</td>\n",
       "      <td>NaN</td>\n",
       "    </tr>\n",
       "    <tr>\n",
       "      <th>4</th>\n",
       "      <td>5375</td>\n",
       "      <td>5375</td>\n",
       "      <td>5350.0</td>\n",
       "      <td>60 months</td>\n",
       "      <td>12.69</td>\n",
       "      <td>121.45</td>\n",
       "      <td>B</td>\n",
       "      <td>B5</td>\n",
       "      <td>Starbucks</td>\n",
       "      <td>&lt; 1 year</td>\n",
       "      <td>...</td>\n",
       "      <td>Individual</td>\n",
       "      <td>0.0</td>\n",
       "      <td>0.0</td>\n",
       "      <td>0.0</td>\n",
       "      <td>0.0</td>\n",
       "      <td>0.0</td>\n",
       "      <td>N</td>\n",
       "      <td>Cash</td>\n",
       "      <td>N</td>\n",
       "      <td>NaN</td>\n",
       "    </tr>\n",
       "  </tbody>\n",
       "</table>\n",
       "<p>5 rows × 58 columns</p>\n",
       "</div>"
      ],
      "text/plain": [
       "   loan_amnt  funded_amnt  funded_amnt_inv       term  int_rate  installment  \\\n",
       "0       2400         2400           2400.0  36 months     15.96        84.33   \n",
       "1      10000        10000          10000.0  36 months     13.49       339.31   \n",
       "2       3000         3000           3000.0  36 months     18.64       109.43   \n",
       "3       5600         5600           5600.0  60 months     21.28       152.39   \n",
       "4       5375         5375           5350.0  60 months     12.69       121.45   \n",
       "\n",
       "  grade sub_grade            emp_title emp_length  ... application_type  \\\n",
       "0     C        C5                  NaN  10+ years  ...       Individual   \n",
       "1     C        C1  AIR RESOURCES BOARD  10+ years  ...       Individual   \n",
       "2     E        E1      MKC Accounting     9 years  ...       Individual   \n",
       "3     F        F2                  NaN    4 years  ...       Individual   \n",
       "4     B        B5            Starbucks   < 1 year  ...       Individual   \n",
       "\n",
       "   acc_now_delinq chargeoff_within_12_mths delinq_amnt pub_rec_bankruptcies  \\\n",
       "0             0.0                      0.0         0.0                  0.0   \n",
       "1             0.0                      0.0         0.0                  0.0   \n",
       "2             0.0                      0.0         0.0                  0.0   \n",
       "3             0.0                      0.0         0.0                  0.0   \n",
       "4             0.0                      0.0         0.0                  0.0   \n",
       "\n",
       "  tax_liens hardship_flag disbursement_method debt_settlement_flag  \\\n",
       "0       0.0             N                Cash                    N   \n",
       "1       0.0             N                Cash                    N   \n",
       "2       0.0             N                Cash                    N   \n",
       "3       0.0             N                Cash                    N   \n",
       "4       0.0             N                Cash                    N   \n",
       "\n",
       "  debt_settlement_flag_date  \n",
       "0                       NaN  \n",
       "1                       NaN  \n",
       "2                       NaN  \n",
       "3                       NaN  \n",
       "4                       NaN  \n",
       "\n",
       "[5 rows x 58 columns]"
      ]
     },
     "execution_count": 52,
     "metadata": {},
     "output_type": "execute_result"
    }
   ],
   "source": [
    "# verificar la informacion del campo  issue_d\n",
    "\n",
    "prestamos_df.head()"
   ]
  },
  {
   "cell_type": "code",
   "execution_count": 53,
   "metadata": {},
   "outputs": [],
   "source": [
    "# Crear una nueva columna, issue_year, y configúrela en el año en que se emitió un préstamo\n",
    "\n",
    "prestamos_df['issue_year'] = prestamos_df['issue_d'].dt.year "
   ]
  },
  {
   "cell_type": "code",
   "execution_count": 54,
   "metadata": {},
   "outputs": [
    {
     "data": {
      "text/html": [
       "<div>\n",
       "<style scoped>\n",
       "    .dataframe tbody tr th:only-of-type {\n",
       "        vertical-align: middle;\n",
       "    }\n",
       "\n",
       "    .dataframe tbody tr th {\n",
       "        vertical-align: top;\n",
       "    }\n",
       "\n",
       "    .dataframe thead th {\n",
       "        text-align: right;\n",
       "    }\n",
       "</style>\n",
       "<table border=\"1\" class=\"dataframe\">\n",
       "  <thead>\n",
       "    <tr style=\"text-align: right;\">\n",
       "      <th></th>\n",
       "      <th>loan_amnt</th>\n",
       "      <th>funded_amnt</th>\n",
       "      <th>funded_amnt_inv</th>\n",
       "      <th>term</th>\n",
       "      <th>int_rate</th>\n",
       "      <th>installment</th>\n",
       "      <th>grade</th>\n",
       "      <th>sub_grade</th>\n",
       "      <th>emp_title</th>\n",
       "      <th>emp_length</th>\n",
       "      <th>...</th>\n",
       "      <th>acc_now_delinq</th>\n",
       "      <th>chargeoff_within_12_mths</th>\n",
       "      <th>delinq_amnt</th>\n",
       "      <th>pub_rec_bankruptcies</th>\n",
       "      <th>tax_liens</th>\n",
       "      <th>hardship_flag</th>\n",
       "      <th>disbursement_method</th>\n",
       "      <th>debt_settlement_flag</th>\n",
       "      <th>debt_settlement_flag_date</th>\n",
       "      <th>issue_year</th>\n",
       "    </tr>\n",
       "  </thead>\n",
       "  <tbody>\n",
       "    <tr>\n",
       "      <th>0</th>\n",
       "      <td>2400</td>\n",
       "      <td>2400</td>\n",
       "      <td>2400.0</td>\n",
       "      <td>36 months</td>\n",
       "      <td>15.96</td>\n",
       "      <td>84.33</td>\n",
       "      <td>C</td>\n",
       "      <td>C5</td>\n",
       "      <td>NaN</td>\n",
       "      <td>10+ years</td>\n",
       "      <td>...</td>\n",
       "      <td>0.0</td>\n",
       "      <td>0.0</td>\n",
       "      <td>0.0</td>\n",
       "      <td>0.0</td>\n",
       "      <td>0.0</td>\n",
       "      <td>N</td>\n",
       "      <td>Cash</td>\n",
       "      <td>N</td>\n",
       "      <td>NaN</td>\n",
       "      <td>2011</td>\n",
       "    </tr>\n",
       "    <tr>\n",
       "      <th>1</th>\n",
       "      <td>10000</td>\n",
       "      <td>10000</td>\n",
       "      <td>10000.0</td>\n",
       "      <td>36 months</td>\n",
       "      <td>13.49</td>\n",
       "      <td>339.31</td>\n",
       "      <td>C</td>\n",
       "      <td>C1</td>\n",
       "      <td>AIR RESOURCES BOARD</td>\n",
       "      <td>10+ years</td>\n",
       "      <td>...</td>\n",
       "      <td>0.0</td>\n",
       "      <td>0.0</td>\n",
       "      <td>0.0</td>\n",
       "      <td>0.0</td>\n",
       "      <td>0.0</td>\n",
       "      <td>N</td>\n",
       "      <td>Cash</td>\n",
       "      <td>N</td>\n",
       "      <td>NaN</td>\n",
       "      <td>2011</td>\n",
       "    </tr>\n",
       "    <tr>\n",
       "      <th>2</th>\n",
       "      <td>3000</td>\n",
       "      <td>3000</td>\n",
       "      <td>3000.0</td>\n",
       "      <td>36 months</td>\n",
       "      <td>18.64</td>\n",
       "      <td>109.43</td>\n",
       "      <td>E</td>\n",
       "      <td>E1</td>\n",
       "      <td>MKC Accounting</td>\n",
       "      <td>9 years</td>\n",
       "      <td>...</td>\n",
       "      <td>0.0</td>\n",
       "      <td>0.0</td>\n",
       "      <td>0.0</td>\n",
       "      <td>0.0</td>\n",
       "      <td>0.0</td>\n",
       "      <td>N</td>\n",
       "      <td>Cash</td>\n",
       "      <td>N</td>\n",
       "      <td>NaN</td>\n",
       "      <td>2011</td>\n",
       "    </tr>\n",
       "    <tr>\n",
       "      <th>3</th>\n",
       "      <td>5600</td>\n",
       "      <td>5600</td>\n",
       "      <td>5600.0</td>\n",
       "      <td>60 months</td>\n",
       "      <td>21.28</td>\n",
       "      <td>152.39</td>\n",
       "      <td>F</td>\n",
       "      <td>F2</td>\n",
       "      <td>NaN</td>\n",
       "      <td>4 years</td>\n",
       "      <td>...</td>\n",
       "      <td>0.0</td>\n",
       "      <td>0.0</td>\n",
       "      <td>0.0</td>\n",
       "      <td>0.0</td>\n",
       "      <td>0.0</td>\n",
       "      <td>N</td>\n",
       "      <td>Cash</td>\n",
       "      <td>N</td>\n",
       "      <td>NaN</td>\n",
       "      <td>2011</td>\n",
       "    </tr>\n",
       "    <tr>\n",
       "      <th>4</th>\n",
       "      <td>5375</td>\n",
       "      <td>5375</td>\n",
       "      <td>5350.0</td>\n",
       "      <td>60 months</td>\n",
       "      <td>12.69</td>\n",
       "      <td>121.45</td>\n",
       "      <td>B</td>\n",
       "      <td>B5</td>\n",
       "      <td>Starbucks</td>\n",
       "      <td>&lt; 1 year</td>\n",
       "      <td>...</td>\n",
       "      <td>0.0</td>\n",
       "      <td>0.0</td>\n",
       "      <td>0.0</td>\n",
       "      <td>0.0</td>\n",
       "      <td>0.0</td>\n",
       "      <td>N</td>\n",
       "      <td>Cash</td>\n",
       "      <td>N</td>\n",
       "      <td>NaN</td>\n",
       "      <td>2011</td>\n",
       "    </tr>\n",
       "  </tbody>\n",
       "</table>\n",
       "<p>5 rows × 59 columns</p>\n",
       "</div>"
      ],
      "text/plain": [
       "   loan_amnt  funded_amnt  funded_amnt_inv       term  int_rate  installment  \\\n",
       "0       2400         2400           2400.0  36 months     15.96        84.33   \n",
       "1      10000        10000          10000.0  36 months     13.49       339.31   \n",
       "2       3000         3000           3000.0  36 months     18.64       109.43   \n",
       "3       5600         5600           5600.0  60 months     21.28       152.39   \n",
       "4       5375         5375           5350.0  60 months     12.69       121.45   \n",
       "\n",
       "  grade sub_grade            emp_title emp_length  ... acc_now_delinq  \\\n",
       "0     C        C5                  NaN  10+ years  ...            0.0   \n",
       "1     C        C1  AIR RESOURCES BOARD  10+ years  ...            0.0   \n",
       "2     E        E1      MKC Accounting     9 years  ...            0.0   \n",
       "3     F        F2                  NaN    4 years  ...            0.0   \n",
       "4     B        B5            Starbucks   < 1 year  ...            0.0   \n",
       "\n",
       "   chargeoff_within_12_mths delinq_amnt pub_rec_bankruptcies tax_liens  \\\n",
       "0                       0.0         0.0                  0.0       0.0   \n",
       "1                       0.0         0.0                  0.0       0.0   \n",
       "2                       0.0         0.0                  0.0       0.0   \n",
       "3                       0.0         0.0                  0.0       0.0   \n",
       "4                       0.0         0.0                  0.0       0.0   \n",
       "\n",
       "  hardship_flag disbursement_method debt_settlement_flag  \\\n",
       "0             N                Cash                    N   \n",
       "1             N                Cash                    N   \n",
       "2             N                Cash                    N   \n",
       "3             N                Cash                    N   \n",
       "4             N                Cash                    N   \n",
       "\n",
       "  debt_settlement_flag_date issue_year  \n",
       "0                       NaN       2011  \n",
       "1                       NaN       2011  \n",
       "2                       NaN       2011  \n",
       "3                       NaN       2011  \n",
       "4                       NaN       2011  \n",
       "\n",
       "[5 rows x 59 columns]"
      ]
     },
     "execution_count": 54,
     "metadata": {},
     "output_type": "execute_result"
    }
   ],
   "source": [
    "# Verificamos\n",
    "\n",
    "prestamos_df.head()"
   ]
  },
  {
   "cell_type": "code",
   "execution_count": null,
   "metadata": {},
   "outputs": [],
   "source": []
  },
  {
   "cell_type": "markdown",
   "metadata": {},
   "source": [
    "#### Ahora si ya podemos graficar el numero de prestamos por año"
   ]
  },
  {
   "cell_type": "code",
   "execution_count": 56,
   "metadata": {},
   "outputs": [
    {
     "data": {
      "text/plain": [
       "Text(0, 0.5, 'Prestamos')"
      ]
     },
     "execution_count": 56,
     "metadata": {},
     "output_type": "execute_result"
    },
    {
     "data": {
      "image/png": "[encoded data removed]",
      "text/plain": [
       "<Figure size 600x400 with 1 Axes>"
      ]
     },
     "metadata": {},
     "output_type": "display_data"
    }
   ],
   "source": [
    "ax = prestamos_df.groupby('issue_year').agg({'annual_inc':'count'}).sort_values(\"annual_inc\").plot.line(legend = False)\n",
    "ax.set_title('Prestamos por Año')\n",
    "ax.set_ylabel('Prestamos')"
   ]
  },
  {
   "cell_type": "code",
   "execution_count": null,
   "metadata": {},
   "outputs": [],
   "source": []
  },
  {
   "cell_type": "markdown",
   "metadata": {},
   "source": [
    "### 3.9 Evolución de la tasa de interés   <a id='id39'> </a>\n",
    "\n",
    "Explorar el cambio de la tasa de interés en cada estado a lo largo de los años.\n",
    "\n",
    "- Crear tabla dinámica, establecer\n",
    "  - index to issue_year\n",
    "  - columns to addr_state\n",
    "  - values to int_rate\n",
    "  - aggfunc to median\n",
    "- Trazar un gráfico de líneas para comparar el cambio de la tasa de interés promedio, durante los años en los 6 estados.\n",
    "\n",
    "**Sugerencia**: Se puede trazar directamente un gráfico de líneas en una tabla dinámica. es decir. `ax = df.pivot_table(...).plot.line()`"
   ]
  },
  {
   "cell_type": "code",
   "execution_count": 58,
   "metadata": {
    "scrolled": true
   },
   "outputs": [
    {
     "data": {
      "text/html": [
       "<div>\n",
       "<style scoped>\n",
       "    .dataframe tbody tr th:only-of-type {\n",
       "        vertical-align: middle;\n",
       "    }\n",
       "\n",
       "    .dataframe tbody tr th {\n",
       "        vertical-align: top;\n",
       "    }\n",
       "\n",
       "    .dataframe thead th {\n",
       "        text-align: right;\n",
       "    }\n",
       "</style>\n",
       "<table border=\"1\" class=\"dataframe\">\n",
       "  <thead>\n",
       "    <tr style=\"text-align: right;\">\n",
       "      <th>addr_state</th>\n",
       "      <th>CA</th>\n",
       "      <th>FL</th>\n",
       "      <th>IL</th>\n",
       "      <th>NJ</th>\n",
       "      <th>NY</th>\n",
       "      <th>TX</th>\n",
       "    </tr>\n",
       "    <tr>\n",
       "      <th>issue_year</th>\n",
       "      <th></th>\n",
       "      <th></th>\n",
       "      <th></th>\n",
       "      <th></th>\n",
       "      <th></th>\n",
       "      <th></th>\n",
       "    </tr>\n",
       "  </thead>\n",
       "  <tbody>\n",
       "    <tr>\n",
       "      <th>2007</th>\n",
       "      <td>10.338000</td>\n",
       "      <td>10.616538</td>\n",
       "      <td>8.540000</td>\n",
       "      <td>10.698667</td>\n",
       "      <td>11.145250</td>\n",
       "      <td>8.225000</td>\n",
       "    </tr>\n",
       "    <tr>\n",
       "      <th>2008</th>\n",
       "      <td>11.472444</td>\n",
       "      <td>10.935263</td>\n",
       "      <td>11.194833</td>\n",
       "      <td>11.430143</td>\n",
       "      <td>11.187348</td>\n",
       "      <td>10.927321</td>\n",
       "    </tr>\n",
       "    <tr>\n",
       "      <th>2009</th>\n",
       "      <td>12.232144</td>\n",
       "      <td>12.191182</td>\n",
       "      <td>11.966685</td>\n",
       "      <td>12.199434</td>\n",
       "      <td>12.479330</td>\n",
       "      <td>12.403735</td>\n",
       "    </tr>\n",
       "    <tr>\n",
       "      <th>2010</th>\n",
       "      <td>12.001526</td>\n",
       "      <td>11.643763</td>\n",
       "      <td>11.694765</td>\n",
       "      <td>12.122847</td>\n",
       "      <td>11.846824</td>\n",
       "      <td>11.757327</td>\n",
       "    </tr>\n",
       "    <tr>\n",
       "      <th>2011</th>\n",
       "      <td>12.236692</td>\n",
       "      <td>12.152918</td>\n",
       "      <td>12.281881</td>\n",
       "      <td>12.386044</td>\n",
       "      <td>12.221262</td>\n",
       "      <td>12.214518</td>\n",
       "    </tr>\n",
       "  </tbody>\n",
       "</table>\n",
       "</div>"
      ],
      "text/plain": [
       "addr_state         CA         FL         IL         NJ         NY         TX\n",
       "issue_year                                                                  \n",
       "2007        10.338000  10.616538   8.540000  10.698667  11.145250   8.225000\n",
       "2008        11.472444  10.935263  11.194833  11.430143  11.187348  10.927321\n",
       "2009        12.232144  12.191182  11.966685  12.199434  12.479330  12.403735\n",
       "2010        12.001526  11.643763  11.694765  12.122847  11.846824  11.757327\n",
       "2011        12.236692  12.152918  12.281881  12.386044  12.221262  12.214518"
      ]
     },
     "execution_count": 58,
     "metadata": {},
     "output_type": "execute_result"
    }
   ],
   "source": [
    "prestamos_df.pivot_table( index='issue_year', columns='addr_state', values= 'int_rate', aggfunc=np.mean)"
   ]
  },
  {
   "cell_type": "code",
   "execution_count": 59,
   "metadata": {},
   "outputs": [
    {
     "data": {
      "text/plain": [
       "<Axes: xlabel='issue_year'>"
      ]
     },
     "execution_count": 59,
     "metadata": {},
     "output_type": "execute_result"
    },
    {
     "data": {
      "image/png": "[encoded data removed]",
      "text/plain": [
       "<Figure size 600x400 with 1 Axes>"
      ]
     },
     "metadata": {},
     "output_type": "display_data"
    }
   ],
   "source": [
    "prestamos_df.pivot_table( index='issue_year', columns='addr_state', values= 'int_rate', aggfunc=np.mean).plot.line()"
   ]
  },
  {
   "cell_type": "code",
   "execution_count": null,
   "metadata": {},
   "outputs": [],
   "source": []
  },
  {
   "cell_type": "code",
   "execution_count": null,
   "metadata": {},
   "outputs": [],
   "source": []
  },
  {
   "cell_type": "markdown",
   "metadata": {},
   "source": [
    "### 3.10  Estado del prestamo  <a id='id310'> </a>\n",
    "\n",
    "Los préstamos en el conjunto de datos se emitieron antes de 2011 y el plazo de préstamo más largo es de 5 años. Por lo tanto, todos los préstamos se pagan o se cancelan.\n",
    "\n",
    "Explorar el estado del préstamo y descubra:\n",
    "- El número de préstamos pagados y el numero de préstamos cancelados\n",
    "- Tasa de pago de todo el conjunto de datos.\n",
    "\n",
    "$Taza de pago = \\frac{TotalmentePagado}{Totalmente Pagado+Cargado}$\n",
    "\n",
    "$PaidOffRate = \\frac{FullyPaid}{Fully Paid+Charged Off}$\n"
   ]
  },
  {
   "cell_type": "code",
   "execution_count": 61,
   "metadata": {},
   "outputs": [
    {
     "data": {
      "text/plain": [
       "loan_status\n",
       "Fully Paid     16965\n",
       "Charged Off     2943\n",
       "Name: count, dtype: int64"
      ]
     },
     "execution_count": 61,
     "metadata": {},
     "output_type": "execute_result"
    }
   ],
   "source": [
    "prestamos = prestamos_df[\"loan_status\"].value_counts()\n",
    "prestamos"
   ]
  },
  {
   "cell_type": "code",
   "execution_count": 62,
   "metadata": {},
   "outputs": [
    {
     "data": {
      "text/plain": [
       "0.8521699819168174"
      ]
     },
     "execution_count": 62,
     "metadata": {},
     "output_type": "execute_result"
    }
   ],
   "source": [
    "tazadePago = prestamos[\"Fully Paid\"] / (prestamos[\"Fully Paid\"] + prestamos[\"Charged Off\"])\n",
    "tazadePago"
   ]
  },
  {
   "cell_type": "code",
   "execution_count": null,
   "metadata": {},
   "outputs": [],
   "source": []
  },
  {
   "cell_type": "markdown",
   "metadata": {},
   "source": [
    "### 3.11 Explorar la tasa de pago de préstamos a tres y cinco años.   <a id='id311'> </a>\n",
    "\n",
    "- Crear la tabla dinámica **tazaPago_x_plazo** a partir de loan_df, establecer\n",
    "  - **index** to term\n",
    "  - **columns** to loan_status\n",
    "  - **values** to int_rate(or any column since we simply count)\n",
    "  - **aggfunc** to count\n",
    "- Calcular la tasa de cancelación de préstamos de diferentes plazos\n",
    "   - Crear una nueva columna `payoffRate` en la tabla dinámica **tazaPago_x_plazo** que creó. \n",
    "   - Calcular la tasa de pago para cada plazo de préstamo con la fórmula   \n",
    "     \n",
    "   $tazaPago = \\frac{FullyPaid}{Fully Paid+Charged Off}$.  \n",
    "       \n",
    "- Mostrar la tabla dinámica.\n"
   ]
  },
  {
   "cell_type": "code",
   "execution_count": 64,
   "metadata": {},
   "outputs": [
    {
     "data": {
      "text/html": [
       "<div>\n",
       "<style scoped>\n",
       "    .dataframe tbody tr th:only-of-type {\n",
       "        vertical-align: middle;\n",
       "    }\n",
       "\n",
       "    .dataframe tbody tr th {\n",
       "        vertical-align: top;\n",
       "    }\n",
       "\n",
       "    .dataframe thead th {\n",
       "        text-align: right;\n",
       "    }\n",
       "</style>\n",
       "<table border=\"1\" class=\"dataframe\">\n",
       "  <thead>\n",
       "    <tr style=\"text-align: right;\">\n",
       "      <th></th>\n",
       "      <th>loan_amnt</th>\n",
       "      <th>funded_amnt</th>\n",
       "      <th>funded_amnt_inv</th>\n",
       "      <th>term</th>\n",
       "      <th>int_rate</th>\n",
       "      <th>installment</th>\n",
       "      <th>grade</th>\n",
       "      <th>sub_grade</th>\n",
       "      <th>emp_title</th>\n",
       "      <th>emp_length</th>\n",
       "      <th>...</th>\n",
       "      <th>acc_now_delinq</th>\n",
       "      <th>chargeoff_within_12_mths</th>\n",
       "      <th>delinq_amnt</th>\n",
       "      <th>pub_rec_bankruptcies</th>\n",
       "      <th>tax_liens</th>\n",
       "      <th>hardship_flag</th>\n",
       "      <th>disbursement_method</th>\n",
       "      <th>debt_settlement_flag</th>\n",
       "      <th>debt_settlement_flag_date</th>\n",
       "      <th>issue_year</th>\n",
       "    </tr>\n",
       "  </thead>\n",
       "  <tbody>\n",
       "    <tr>\n",
       "      <th>0</th>\n",
       "      <td>2400</td>\n",
       "      <td>2400</td>\n",
       "      <td>2400.0</td>\n",
       "      <td>36 months</td>\n",
       "      <td>15.96</td>\n",
       "      <td>84.33</td>\n",
       "      <td>C</td>\n",
       "      <td>C5</td>\n",
       "      <td>NaN</td>\n",
       "      <td>10+ years</td>\n",
       "      <td>...</td>\n",
       "      <td>0.0</td>\n",
       "      <td>0.0</td>\n",
       "      <td>0.0</td>\n",
       "      <td>0.0</td>\n",
       "      <td>0.0</td>\n",
       "      <td>N</td>\n",
       "      <td>Cash</td>\n",
       "      <td>N</td>\n",
       "      <td>NaN</td>\n",
       "      <td>2011</td>\n",
       "    </tr>\n",
       "    <tr>\n",
       "      <th>1</th>\n",
       "      <td>10000</td>\n",
       "      <td>10000</td>\n",
       "      <td>10000.0</td>\n",
       "      <td>36 months</td>\n",
       "      <td>13.49</td>\n",
       "      <td>339.31</td>\n",
       "      <td>C</td>\n",
       "      <td>C1</td>\n",
       "      <td>AIR RESOURCES BOARD</td>\n",
       "      <td>10+ years</td>\n",
       "      <td>...</td>\n",
       "      <td>0.0</td>\n",
       "      <td>0.0</td>\n",
       "      <td>0.0</td>\n",
       "      <td>0.0</td>\n",
       "      <td>0.0</td>\n",
       "      <td>N</td>\n",
       "      <td>Cash</td>\n",
       "      <td>N</td>\n",
       "      <td>NaN</td>\n",
       "      <td>2011</td>\n",
       "    </tr>\n",
       "    <tr>\n",
       "      <th>2</th>\n",
       "      <td>3000</td>\n",
       "      <td>3000</td>\n",
       "      <td>3000.0</td>\n",
       "      <td>36 months</td>\n",
       "      <td>18.64</td>\n",
       "      <td>109.43</td>\n",
       "      <td>E</td>\n",
       "      <td>E1</td>\n",
       "      <td>MKC Accounting</td>\n",
       "      <td>9 years</td>\n",
       "      <td>...</td>\n",
       "      <td>0.0</td>\n",
       "      <td>0.0</td>\n",
       "      <td>0.0</td>\n",
       "      <td>0.0</td>\n",
       "      <td>0.0</td>\n",
       "      <td>N</td>\n",
       "      <td>Cash</td>\n",
       "      <td>N</td>\n",
       "      <td>NaN</td>\n",
       "      <td>2011</td>\n",
       "    </tr>\n",
       "    <tr>\n",
       "      <th>3</th>\n",
       "      <td>5600</td>\n",
       "      <td>5600</td>\n",
       "      <td>5600.0</td>\n",
       "      <td>60 months</td>\n",
       "      <td>21.28</td>\n",
       "      <td>152.39</td>\n",
       "      <td>F</td>\n",
       "      <td>F2</td>\n",
       "      <td>NaN</td>\n",
       "      <td>4 years</td>\n",
       "      <td>...</td>\n",
       "      <td>0.0</td>\n",
       "      <td>0.0</td>\n",
       "      <td>0.0</td>\n",
       "      <td>0.0</td>\n",
       "      <td>0.0</td>\n",
       "      <td>N</td>\n",
       "      <td>Cash</td>\n",
       "      <td>N</td>\n",
       "      <td>NaN</td>\n",
       "      <td>2011</td>\n",
       "    </tr>\n",
       "    <tr>\n",
       "      <th>4</th>\n",
       "      <td>5375</td>\n",
       "      <td>5375</td>\n",
       "      <td>5350.0</td>\n",
       "      <td>60 months</td>\n",
       "      <td>12.69</td>\n",
       "      <td>121.45</td>\n",
       "      <td>B</td>\n",
       "      <td>B5</td>\n",
       "      <td>Starbucks</td>\n",
       "      <td>&lt; 1 year</td>\n",
       "      <td>...</td>\n",
       "      <td>0.0</td>\n",
       "      <td>0.0</td>\n",
       "      <td>0.0</td>\n",
       "      <td>0.0</td>\n",
       "      <td>0.0</td>\n",
       "      <td>N</td>\n",
       "      <td>Cash</td>\n",
       "      <td>N</td>\n",
       "      <td>NaN</td>\n",
       "      <td>2011</td>\n",
       "    </tr>\n",
       "  </tbody>\n",
       "</table>\n",
       "<p>5 rows × 59 columns</p>\n",
       "</div>"
      ],
      "text/plain": [
       "   loan_amnt  funded_amnt  funded_amnt_inv       term  int_rate  installment  \\\n",
       "0       2400         2400           2400.0  36 months     15.96        84.33   \n",
       "1      10000        10000          10000.0  36 months     13.49       339.31   \n",
       "2       3000         3000           3000.0  36 months     18.64       109.43   \n",
       "3       5600         5600           5600.0  60 months     21.28       152.39   \n",
       "4       5375         5375           5350.0  60 months     12.69       121.45   \n",
       "\n",
       "  grade sub_grade            emp_title emp_length  ... acc_now_delinq  \\\n",
       "0     C        C5                  NaN  10+ years  ...            0.0   \n",
       "1     C        C1  AIR RESOURCES BOARD  10+ years  ...            0.0   \n",
       "2     E        E1      MKC Accounting     9 years  ...            0.0   \n",
       "3     F        F2                  NaN    4 years  ...            0.0   \n",
       "4     B        B5            Starbucks   < 1 year  ...            0.0   \n",
       "\n",
       "   chargeoff_within_12_mths delinq_amnt pub_rec_bankruptcies tax_liens  \\\n",
       "0                       0.0         0.0                  0.0       0.0   \n",
       "1                       0.0         0.0                  0.0       0.0   \n",
       "2                       0.0         0.0                  0.0       0.0   \n",
       "3                       0.0         0.0                  0.0       0.0   \n",
       "4                       0.0         0.0                  0.0       0.0   \n",
       "\n",
       "  hardship_flag disbursement_method debt_settlement_flag  \\\n",
       "0             N                Cash                    N   \n",
       "1             N                Cash                    N   \n",
       "2             N                Cash                    N   \n",
       "3             N                Cash                    N   \n",
       "4             N                Cash                    N   \n",
       "\n",
       "  debt_settlement_flag_date issue_year  \n",
       "0                       NaN       2011  \n",
       "1                       NaN       2011  \n",
       "2                       NaN       2011  \n",
       "3                       NaN       2011  \n",
       "4                       NaN       2011  \n",
       "\n",
       "[5 rows x 59 columns]"
      ]
     },
     "execution_count": 64,
     "metadata": {},
     "output_type": "execute_result"
    }
   ],
   "source": [
    "prestamos_df.head()"
   ]
  },
  {
   "cell_type": "code",
   "execution_count": 65,
   "metadata": {
    "scrolled": true
   },
   "outputs": [
    {
     "data": {
      "text/html": [
       "<div>\n",
       "<style scoped>\n",
       "    .dataframe tbody tr th:only-of-type {\n",
       "        vertical-align: middle;\n",
       "    }\n",
       "\n",
       "    .dataframe tbody tr th {\n",
       "        vertical-align: top;\n",
       "    }\n",
       "\n",
       "    .dataframe thead th {\n",
       "        text-align: right;\n",
       "    }\n",
       "</style>\n",
       "<table border=\"1\" class=\"dataframe\">\n",
       "  <thead>\n",
       "    <tr style=\"text-align: right;\">\n",
       "      <th>loan_status</th>\n",
       "      <th>Charged Off</th>\n",
       "      <th>Fully Paid</th>\n",
       "    </tr>\n",
       "    <tr>\n",
       "      <th>term</th>\n",
       "      <th></th>\n",
       "      <th></th>\n",
       "    </tr>\n",
       "  </thead>\n",
       "  <tbody>\n",
       "    <tr>\n",
       "      <th>36 months</th>\n",
       "      <td>1728</td>\n",
       "      <td>13124</td>\n",
       "    </tr>\n",
       "    <tr>\n",
       "      <th>60 months</th>\n",
       "      <td>1215</td>\n",
       "      <td>3841</td>\n",
       "    </tr>\n",
       "  </tbody>\n",
       "</table>\n",
       "</div>"
      ],
      "text/plain": [
       "loan_status  Charged Off  Fully Paid\n",
       "term                                \n",
       "36 months           1728       13124\n",
       "60 months           1215        3841"
      ]
     },
     "execution_count": 65,
     "metadata": {},
     "output_type": "execute_result"
    }
   ],
   "source": [
    "tazaPago_x_plazo = prestamos_df.pivot_table( index='term', columns='loan_status', \n",
    "                                            values= 'int_rate', aggfunc=np.size)\n",
    "tazaPago_x_plazo"
   ]
  },
  {
   "cell_type": "code",
   "execution_count": 66,
   "metadata": {},
   "outputs": [
    {
     "data": {
      "text/html": [
       "<div>\n",
       "<style scoped>\n",
       "    .dataframe tbody tr th:only-of-type {\n",
       "        vertical-align: middle;\n",
       "    }\n",
       "\n",
       "    .dataframe tbody tr th {\n",
       "        vertical-align: top;\n",
       "    }\n",
       "\n",
       "    .dataframe thead th {\n",
       "        text-align: right;\n",
       "    }\n",
       "</style>\n",
       "<table border=\"1\" class=\"dataframe\">\n",
       "  <thead>\n",
       "    <tr style=\"text-align: right;\">\n",
       "      <th>loan_status</th>\n",
       "      <th>Charged Off</th>\n",
       "      <th>Fully Paid</th>\n",
       "      <th>payoffRate</th>\n",
       "    </tr>\n",
       "    <tr>\n",
       "      <th>term</th>\n",
       "      <th></th>\n",
       "      <th></th>\n",
       "      <th></th>\n",
       "    </tr>\n",
       "  </thead>\n",
       "  <tbody>\n",
       "    <tr>\n",
       "      <th>36 months</th>\n",
       "      <td>1728</td>\n",
       "      <td>13124</td>\n",
       "      <td>0.883652</td>\n",
       "    </tr>\n",
       "    <tr>\n",
       "      <th>60 months</th>\n",
       "      <td>1215</td>\n",
       "      <td>3841</td>\n",
       "      <td>0.759691</td>\n",
       "    </tr>\n",
       "  </tbody>\n",
       "</table>\n",
       "</div>"
      ],
      "text/plain": [
       "loan_status  Charged Off  Fully Paid  payoffRate\n",
       "term                                            \n",
       "36 months           1728       13124    0.883652\n",
       "60 months           1215        3841    0.759691"
      ]
     },
     "execution_count": 66,
     "metadata": {},
     "output_type": "execute_result"
    }
   ],
   "source": [
    "# Calculamos la taza de pago de los diferentes plazos de pago\n",
    "\n",
    "tazaPago_x_plazo[\"payoffRate\"] = tazaPago_x_plazo[\"Fully Paid\"] / ( tazaPago_x_plazo[\"Fully Paid\"] + tazaPago_x_plazo[\"Charged Off\"])\n",
    "tazaPago_x_plazo"
   ]
  },
  {
   "cell_type": "code",
   "execution_count": null,
   "metadata": {},
   "outputs": [],
   "source": []
  },
  {
   "cell_type": "markdown",
   "metadata": {},
   "source": [
    "### 3.12 Estado del préstamo y taza de pago por calificacion del prestamo <a id='id312'> </a>\n",
    "\n",
    "Explorar la tasa de pago de diferentes grados de préstamo.\n",
    "\n",
    "- Crear una tabla dinámica **tazaPago_x_grado** a partir de préstamo_df, y establecer\n",
    "  - **index** to grade\n",
    "  - **columns** to loan_status\n",
    "  - **values** to int_rate(or any column since we simply count)\n",
    "  - **aggfunc** to count\n",
    "- Calcular la tasa de cancelación de préstamos de diferentes grados\n",
    "   - Crear una nueva columna `payoffRate` en la tabla dinámica **tazaPago_x_grado** que se acaba de hacer. \n",
    "   - Calcular la tasa de pago para cada grado de préstamo con la fórmula:\n",
    "   \n",
    "    $tazaPago = \\frac{FullyPaid}{Fully Paid+Charged Off}$.  \n",
    "      \n",
    "      \n",
    "- Mostrar la tabla dinámica.\n"
   ]
  },
  {
   "cell_type": "code",
   "execution_count": 68,
   "metadata": {},
   "outputs": [
    {
     "data": {
      "text/html": [
       "<div>\n",
       "<style scoped>\n",
       "    .dataframe tbody tr th:only-of-type {\n",
       "        vertical-align: middle;\n",
       "    }\n",
       "\n",
       "    .dataframe tbody tr th {\n",
       "        vertical-align: top;\n",
       "    }\n",
       "\n",
       "    .dataframe thead th {\n",
       "        text-align: right;\n",
       "    }\n",
       "</style>\n",
       "<table border=\"1\" class=\"dataframe\">\n",
       "  <thead>\n",
       "    <tr style=\"text-align: right;\">\n",
       "      <th>loan_status</th>\n",
       "      <th>Charged Off</th>\n",
       "      <th>Fully Paid</th>\n",
       "    </tr>\n",
       "    <tr>\n",
       "      <th>grade</th>\n",
       "      <th></th>\n",
       "      <th></th>\n",
       "    </tr>\n",
       "  </thead>\n",
       "  <tbody>\n",
       "    <tr>\n",
       "      <th>A</th>\n",
       "      <td>304</td>\n",
       "      <td>4571</td>\n",
       "    </tr>\n",
       "    <tr>\n",
       "      <th>B</th>\n",
       "      <td>779</td>\n",
       "      <td>5286</td>\n",
       "    </tr>\n",
       "    <tr>\n",
       "      <th>C</th>\n",
       "      <td>672</td>\n",
       "      <td>3415</td>\n",
       "    </tr>\n",
       "    <tr>\n",
       "      <th>D</th>\n",
       "      <td>579</td>\n",
       "      <td>2169</td>\n",
       "    </tr>\n",
       "    <tr>\n",
       "      <th>E</th>\n",
       "      <td>378</td>\n",
       "      <td>1056</td>\n",
       "    </tr>\n",
       "    <tr>\n",
       "      <th>F</th>\n",
       "      <td>174</td>\n",
       "      <td>366</td>\n",
       "    </tr>\n",
       "    <tr>\n",
       "      <th>G</th>\n",
       "      <td>57</td>\n",
       "      <td>102</td>\n",
       "    </tr>\n",
       "  </tbody>\n",
       "</table>\n",
       "</div>"
      ],
      "text/plain": [
       "loan_status  Charged Off  Fully Paid\n",
       "grade                               \n",
       "A                    304        4571\n",
       "B                    779        5286\n",
       "C                    672        3415\n",
       "D                    579        2169\n",
       "E                    378        1056\n",
       "F                    174         366\n",
       "G                     57         102"
      ]
     },
     "execution_count": 68,
     "metadata": {},
     "output_type": "execute_result"
    }
   ],
   "source": [
    "tazaPago_x_grado = prestamos_df.pivot_table( index='grade', \n",
    "                columns='loan_status', values= 'int_rate', aggfunc=np.size)\n",
    "tazaPago_x_grado"
   ]
  },
  {
   "cell_type": "code",
   "execution_count": 69,
   "metadata": {},
   "outputs": [
    {
     "data": {
      "text/html": [
       "<div>\n",
       "<style scoped>\n",
       "    .dataframe tbody tr th:only-of-type {\n",
       "        vertical-align: middle;\n",
       "    }\n",
       "\n",
       "    .dataframe tbody tr th {\n",
       "        vertical-align: top;\n",
       "    }\n",
       "\n",
       "    .dataframe thead th {\n",
       "        text-align: right;\n",
       "    }\n",
       "</style>\n",
       "<table border=\"1\" class=\"dataframe\">\n",
       "  <thead>\n",
       "    <tr style=\"text-align: right;\">\n",
       "      <th>loan_status</th>\n",
       "      <th>Charged Off</th>\n",
       "      <th>Fully Paid</th>\n",
       "      <th>payoffRate</th>\n",
       "    </tr>\n",
       "    <tr>\n",
       "      <th>grade</th>\n",
       "      <th></th>\n",
       "      <th></th>\n",
       "      <th></th>\n",
       "    </tr>\n",
       "  </thead>\n",
       "  <tbody>\n",
       "    <tr>\n",
       "      <th>A</th>\n",
       "      <td>304</td>\n",
       "      <td>4571</td>\n",
       "      <td>0.937641</td>\n",
       "    </tr>\n",
       "    <tr>\n",
       "      <th>B</th>\n",
       "      <td>779</td>\n",
       "      <td>5286</td>\n",
       "      <td>0.871558</td>\n",
       "    </tr>\n",
       "    <tr>\n",
       "      <th>C</th>\n",
       "      <td>672</td>\n",
       "      <td>3415</td>\n",
       "      <td>0.835576</td>\n",
       "    </tr>\n",
       "    <tr>\n",
       "      <th>D</th>\n",
       "      <td>579</td>\n",
       "      <td>2169</td>\n",
       "      <td>0.789301</td>\n",
       "    </tr>\n",
       "    <tr>\n",
       "      <th>E</th>\n",
       "      <td>378</td>\n",
       "      <td>1056</td>\n",
       "      <td>0.736402</td>\n",
       "    </tr>\n",
       "    <tr>\n",
       "      <th>F</th>\n",
       "      <td>174</td>\n",
       "      <td>366</td>\n",
       "      <td>0.677778</td>\n",
       "    </tr>\n",
       "    <tr>\n",
       "      <th>G</th>\n",
       "      <td>57</td>\n",
       "      <td>102</td>\n",
       "      <td>0.641509</td>\n",
       "    </tr>\n",
       "  </tbody>\n",
       "</table>\n",
       "</div>"
      ],
      "text/plain": [
       "loan_status  Charged Off  Fully Paid  payoffRate\n",
       "grade                                           \n",
       "A                    304        4571    0.937641\n",
       "B                    779        5286    0.871558\n",
       "C                    672        3415    0.835576\n",
       "D                    579        2169    0.789301\n",
       "E                    378        1056    0.736402\n",
       "F                    174         366    0.677778\n",
       "G                     57         102    0.641509"
      ]
     },
     "execution_count": 69,
     "metadata": {},
     "output_type": "execute_result"
    }
   ],
   "source": [
    "# Agregamos la columna Taza de pago por grado del credito  y   verificamos la taza de pago de los creditos \n",
    "\n",
    "tazaPago_x_grado[\"payoffRate\"] = tazaPago_x_grado[\"Fully Paid\"] / ( tazaPago_x_grado[\"Fully Paid\"] + tazaPago_x_grado[\"Charged Off\"])\n",
    "tazaPago_x_grado"
   ]
  },
  {
   "cell_type": "code",
   "execution_count": null,
   "metadata": {},
   "outputs": [],
   "source": []
  },
  {
   "cell_type": "markdown",
   "metadata": {},
   "source": [
    "### 4. Preparación de datos, modelado y evaluación de modelos  <a id='id4'> </a>\n",
    "\n",
    "La preparación de datos implica la limpieza de los datos, es decir, se ocupa de los valores faltantes y crea nuevas características a través de la ingeniería de características."
   ]
  },
  {
   "cell_type": "markdown",
   "metadata": {},
   "source": [
    "### 4.1 Codificar el estado del prestamo en una nueva columna   <a id='id41'> </a>\n",
    "\n",
    "- El conjunto de datos tiene préstamos iniciados entre 2007 y 2011. \n",
    "- Todos **los préstamos han sido pagados en su totalidad o cancelados**. \n",
    "- Agregar la columna 'repaid' () en prestamos_df codificando el estado del préstamo y mapeando:  \n",
    "\n",
    "**loan_status**:\n",
    "- Charged Off to 0 \n",
    "- Fully Paid to 1.\n"
   ]
  },
  {
   "cell_type": "code",
   "execution_count": 72,
   "metadata": {},
   "outputs": [
    {
     "data": {
      "text/plain": [
       "loan_status\n",
       "Fully Paid     16965\n",
       "Charged Off     2943\n",
       "Name: count, dtype: int64"
      ]
     },
     "execution_count": 72,
     "metadata": {},
     "output_type": "execute_result"
    }
   ],
   "source": [
    "# Verificamos cuantos estan totalmente pagados y cuantos todavian están con cargo\n",
    "\n",
    "prestamos_df.loan_status.value_counts()"
   ]
  },
  {
   "cell_type": "code",
   "execution_count": 73,
   "metadata": {},
   "outputs": [
    {
     "data": {
      "text/plain": [
       "repaid\n",
       "1    16965\n",
       "0     2943\n",
       "Name: count, dtype: int64"
      ]
     },
     "execution_count": 73,
     "metadata": {},
     "output_type": "execute_result"
    }
   ],
   "source": [
    "# Agregamos una columna con valores 0 y 1 a partir de la columna  loan_status, es decir los \n",
    "# que  estan totalmente pagados con un (1) y los que están cancelados en (0)\n",
    "#  cancelados a 0   y pagados a 1\n",
    "\n",
    "# La columna repaid se usara mas adelante como parte del modelo de clasificacion, y servira para predecir\n",
    "# si un prestamos se pagará o no\n",
    "\n",
    "mapping_dict = {'Charged Off':0, 'Fully Paid':1}\n",
    "prestamos_df['repaid'] = prestamos_df.loan_status.map(mapping_dict)\n",
    "\n",
    "prestamos_df.repaid.value_counts()"
   ]
  },
  {
   "cell_type": "code",
   "execution_count": 74,
   "metadata": {},
   "outputs": [
    {
     "data": {
      "text/html": [
       "<div>\n",
       "<style scoped>\n",
       "    .dataframe tbody tr th:only-of-type {\n",
       "        vertical-align: middle;\n",
       "    }\n",
       "\n",
       "    .dataframe tbody tr th {\n",
       "        vertical-align: top;\n",
       "    }\n",
       "\n",
       "    .dataframe thead th {\n",
       "        text-align: right;\n",
       "    }\n",
       "</style>\n",
       "<table border=\"1\" class=\"dataframe\">\n",
       "  <thead>\n",
       "    <tr style=\"text-align: right;\">\n",
       "      <th></th>\n",
       "      <th>loan_amnt</th>\n",
       "      <th>funded_amnt</th>\n",
       "      <th>funded_amnt_inv</th>\n",
       "      <th>term</th>\n",
       "      <th>int_rate</th>\n",
       "      <th>installment</th>\n",
       "      <th>grade</th>\n",
       "      <th>sub_grade</th>\n",
       "      <th>emp_title</th>\n",
       "      <th>emp_length</th>\n",
       "      <th>...</th>\n",
       "      <th>chargeoff_within_12_mths</th>\n",
       "      <th>delinq_amnt</th>\n",
       "      <th>pub_rec_bankruptcies</th>\n",
       "      <th>tax_liens</th>\n",
       "      <th>hardship_flag</th>\n",
       "      <th>disbursement_method</th>\n",
       "      <th>debt_settlement_flag</th>\n",
       "      <th>debt_settlement_flag_date</th>\n",
       "      <th>issue_year</th>\n",
       "      <th>repaid</th>\n",
       "    </tr>\n",
       "  </thead>\n",
       "  <tbody>\n",
       "    <tr>\n",
       "      <th>0</th>\n",
       "      <td>2400</td>\n",
       "      <td>2400</td>\n",
       "      <td>2400.0</td>\n",
       "      <td>36 months</td>\n",
       "      <td>15.96</td>\n",
       "      <td>84.33</td>\n",
       "      <td>C</td>\n",
       "      <td>C5</td>\n",
       "      <td>NaN</td>\n",
       "      <td>10+ years</td>\n",
       "      <td>...</td>\n",
       "      <td>0.0</td>\n",
       "      <td>0.0</td>\n",
       "      <td>0.0</td>\n",
       "      <td>0.0</td>\n",
       "      <td>N</td>\n",
       "      <td>Cash</td>\n",
       "      <td>N</td>\n",
       "      <td>NaN</td>\n",
       "      <td>2011</td>\n",
       "      <td>1</td>\n",
       "    </tr>\n",
       "    <tr>\n",
       "      <th>1</th>\n",
       "      <td>10000</td>\n",
       "      <td>10000</td>\n",
       "      <td>10000.0</td>\n",
       "      <td>36 months</td>\n",
       "      <td>13.49</td>\n",
       "      <td>339.31</td>\n",
       "      <td>C</td>\n",
       "      <td>C1</td>\n",
       "      <td>AIR RESOURCES BOARD</td>\n",
       "      <td>10+ years</td>\n",
       "      <td>...</td>\n",
       "      <td>0.0</td>\n",
       "      <td>0.0</td>\n",
       "      <td>0.0</td>\n",
       "      <td>0.0</td>\n",
       "      <td>N</td>\n",
       "      <td>Cash</td>\n",
       "      <td>N</td>\n",
       "      <td>NaN</td>\n",
       "      <td>2011</td>\n",
       "      <td>1</td>\n",
       "    </tr>\n",
       "    <tr>\n",
       "      <th>2</th>\n",
       "      <td>3000</td>\n",
       "      <td>3000</td>\n",
       "      <td>3000.0</td>\n",
       "      <td>36 months</td>\n",
       "      <td>18.64</td>\n",
       "      <td>109.43</td>\n",
       "      <td>E</td>\n",
       "      <td>E1</td>\n",
       "      <td>MKC Accounting</td>\n",
       "      <td>9 years</td>\n",
       "      <td>...</td>\n",
       "      <td>0.0</td>\n",
       "      <td>0.0</td>\n",
       "      <td>0.0</td>\n",
       "      <td>0.0</td>\n",
       "      <td>N</td>\n",
       "      <td>Cash</td>\n",
       "      <td>N</td>\n",
       "      <td>NaN</td>\n",
       "      <td>2011</td>\n",
       "      <td>1</td>\n",
       "    </tr>\n",
       "    <tr>\n",
       "      <th>3</th>\n",
       "      <td>5600</td>\n",
       "      <td>5600</td>\n",
       "      <td>5600.0</td>\n",
       "      <td>60 months</td>\n",
       "      <td>21.28</td>\n",
       "      <td>152.39</td>\n",
       "      <td>F</td>\n",
       "      <td>F2</td>\n",
       "      <td>NaN</td>\n",
       "      <td>4 years</td>\n",
       "      <td>...</td>\n",
       "      <td>0.0</td>\n",
       "      <td>0.0</td>\n",
       "      <td>0.0</td>\n",
       "      <td>0.0</td>\n",
       "      <td>N</td>\n",
       "      <td>Cash</td>\n",
       "      <td>N</td>\n",
       "      <td>NaN</td>\n",
       "      <td>2011</td>\n",
       "      <td>0</td>\n",
       "    </tr>\n",
       "    <tr>\n",
       "      <th>4</th>\n",
       "      <td>5375</td>\n",
       "      <td>5375</td>\n",
       "      <td>5350.0</td>\n",
       "      <td>60 months</td>\n",
       "      <td>12.69</td>\n",
       "      <td>121.45</td>\n",
       "      <td>B</td>\n",
       "      <td>B5</td>\n",
       "      <td>Starbucks</td>\n",
       "      <td>&lt; 1 year</td>\n",
       "      <td>...</td>\n",
       "      <td>0.0</td>\n",
       "      <td>0.0</td>\n",
       "      <td>0.0</td>\n",
       "      <td>0.0</td>\n",
       "      <td>N</td>\n",
       "      <td>Cash</td>\n",
       "      <td>N</td>\n",
       "      <td>NaN</td>\n",
       "      <td>2011</td>\n",
       "      <td>0</td>\n",
       "    </tr>\n",
       "  </tbody>\n",
       "</table>\n",
       "<p>5 rows × 60 columns</p>\n",
       "</div>"
      ],
      "text/plain": [
       "   loan_amnt  funded_amnt  funded_amnt_inv       term  int_rate  installment  \\\n",
       "0       2400         2400           2400.0  36 months     15.96        84.33   \n",
       "1      10000        10000          10000.0  36 months     13.49       339.31   \n",
       "2       3000         3000           3000.0  36 months     18.64       109.43   \n",
       "3       5600         5600           5600.0  60 months     21.28       152.39   \n",
       "4       5375         5375           5350.0  60 months     12.69       121.45   \n",
       "\n",
       "  grade sub_grade            emp_title emp_length  ...  \\\n",
       "0     C        C5                  NaN  10+ years  ...   \n",
       "1     C        C1  AIR RESOURCES BOARD  10+ years  ...   \n",
       "2     E        E1      MKC Accounting     9 years  ...   \n",
       "3     F        F2                  NaN    4 years  ...   \n",
       "4     B        B5            Starbucks   < 1 year  ...   \n",
       "\n",
       "  chargeoff_within_12_mths  delinq_amnt pub_rec_bankruptcies tax_liens  \\\n",
       "0                      0.0          0.0                  0.0       0.0   \n",
       "1                      0.0          0.0                  0.0       0.0   \n",
       "2                      0.0          0.0                  0.0       0.0   \n",
       "3                      0.0          0.0                  0.0       0.0   \n",
       "4                      0.0          0.0                  0.0       0.0   \n",
       "\n",
       "  hardship_flag disbursement_method debt_settlement_flag  \\\n",
       "0             N                Cash                    N   \n",
       "1             N                Cash                    N   \n",
       "2             N                Cash                    N   \n",
       "3             N                Cash                    N   \n",
       "4             N                Cash                    N   \n",
       "\n",
       "  debt_settlement_flag_date issue_year repaid  \n",
       "0                       NaN       2011      1  \n",
       "1                       NaN       2011      1  \n",
       "2                       NaN       2011      1  \n",
       "3                       NaN       2011      0  \n",
       "4                       NaN       2011      0  \n",
       "\n",
       "[5 rows x 60 columns]"
      ]
     },
     "execution_count": 74,
     "metadata": {},
     "output_type": "execute_result"
    }
   ],
   "source": [
    "# Verifcamos al final la nueva columna \n",
    "\n",
    "prestamos_df.head()"
   ]
  },
  {
   "cell_type": "markdown",
   "metadata": {},
   "source": [
    "### Taza de pago \n",
    "Con la columna de pago recién creada, podemos **calcular la tasa de pago de todos los préstamos en el conjunto de datos** con el valor medio de la columna, que es aproximadamente el 85 %, como se muestra en la siguiente celda de código."
   ]
  },
  {
   "cell_type": "code",
   "execution_count": 76,
   "metadata": {},
   "outputs": [
    {
     "data": {
      "text/plain": [
       "0.8521699819168174"
      ]
     },
     "execution_count": 76,
     "metadata": {},
     "output_type": "execute_result"
    }
   ],
   "source": [
    "prestamos_df.repaid.mean()"
   ]
  },
  {
   "cell_type": "markdown",
   "metadata": {},
   "source": [
    "### 4.2 Codificar el Plazo del préstamo   <a id='id42'> </a>\n",
    "\n",
    "Crear una nueva columna `loan_term_year` en **loan_df**, que tiene un valor entero:\n",
    "- 3 si el plazo del préstamo (term) es '36 meses'  (3 años)\n",
    "- 5 si el plazo del préstamo (term) es '60 meses'.  (5 años)\n",
    "\n",
    "A continuación, calcule la tasa de reembolso de los préstamos con diferente préstamo_término_año.  \n",
    "\n",
    "**Sugerencia:** agrupe por `loan_term_year` y aplique la media de la función agregada en la columna `repaid`."
   ]
  },
  {
   "cell_type": "code",
   "execution_count": 78,
   "metadata": {},
   "outputs": [
    {
     "data": {
      "text/plain": [
       "0    36 months\n",
       "1    36 months\n",
       "2    36 months\n",
       "3    60 months\n",
       "4    60 months\n",
       "Name: term, dtype: object"
      ]
     },
     "execution_count": 78,
     "metadata": {},
     "output_type": "execute_result"
    }
   ],
   "source": [
    "# Verifico como viene el plazo\n",
    "\n",
    "prestamos_df[\"term\"].head()"
   ]
  },
  {
   "cell_type": "code",
   "execution_count": 79,
   "metadata": {},
   "outputs": [
    {
     "data": {
      "text/plain": [
       "loan_term_year\n",
       "3    14852\n",
       "5     5056\n",
       "Name: count, dtype: int64"
      ]
     },
     "execution_count": 79,
     "metadata": {},
     "output_type": "execute_result"
    }
   ],
   "source": [
    "# Creamos una nueva columna con valores entero de acuerdo al plazo del prestamo\n",
    "\n",
    "mapping_dict = {'36 months':3, '60 months':5}\n",
    "prestamos_df['loan_term_year'] = prestamos_df.term.map(mapping_dict)\n",
    "\n",
    "prestamos_df.loan_term_year.value_counts()"
   ]
  },
  {
   "cell_type": "code",
   "execution_count": 80,
   "metadata": {},
   "outputs": [
    {
     "data": {
      "text/plain": [
       "term\n",
       "36 months    14852\n",
       "60 months     5056\n",
       "Name: count, dtype: int64"
      ]
     },
     "execution_count": 80,
     "metadata": {},
     "output_type": "execute_result"
    }
   ],
   "source": [
    "prestamos_df.term.value_counts()"
   ]
  },
  {
   "cell_type": "code",
   "execution_count": 81,
   "metadata": {},
   "outputs": [
    {
     "data": {
      "text/html": [
       "<div>\n",
       "<style scoped>\n",
       "    .dataframe tbody tr th:only-of-type {\n",
       "        vertical-align: middle;\n",
       "    }\n",
       "\n",
       "    .dataframe tbody tr th {\n",
       "        vertical-align: top;\n",
       "    }\n",
       "\n",
       "    .dataframe thead th {\n",
       "        text-align: right;\n",
       "    }\n",
       "</style>\n",
       "<table border=\"1\" class=\"dataframe\">\n",
       "  <thead>\n",
       "    <tr style=\"text-align: right;\">\n",
       "      <th></th>\n",
       "      <th>repaid</th>\n",
       "    </tr>\n",
       "    <tr>\n",
       "      <th>loan_term_year</th>\n",
       "      <th></th>\n",
       "    </tr>\n",
       "  </thead>\n",
       "  <tbody>\n",
       "    <tr>\n",
       "      <th>3</th>\n",
       "      <td>0.883652</td>\n",
       "    </tr>\n",
       "    <tr>\n",
       "      <th>5</th>\n",
       "      <td>0.759691</td>\n",
       "    </tr>\n",
       "  </tbody>\n",
       "</table>\n",
       "</div>"
      ],
      "text/plain": [
       "                  repaid\n",
       "loan_term_year          \n",
       "3               0.883652\n",
       "5               0.759691"
      ]
     },
     "execution_count": 81,
     "metadata": {},
     "output_type": "execute_result"
    }
   ],
   "source": [
    "# calculamos la tasa de reembolso de los préstamos \n",
    "\n",
    "prestamos_df.groupby(\"loan_term_year\").agg( { \"repaid\" : \"mean\" } )"
   ]
  },
  {
   "cell_type": "markdown",
   "metadata": {},
   "source": [
    "###  4.3 Codificar características categóricas   <a id='id43'> </a>\n",
    "\n",
    "Exploramos la relación entre las siguientes **variables categóricas y la taza de pago (variable repaid)**. \n",
    "- purpose\n",
    "- grade\n",
    "- home_ownership\n",
    "- addr_state\n",
    "\n",
    "Luego **codificamos las variables categoricas a numéricas** creando las siguientes columnas nuevas en loan_df.\n",
    "\n",
    "- purpose_code\n",
    "- grade_code\n",
    "- home_ownership_code\n",
    "- addr_state_code\n",
    "\n",
    "Comprobar si faltan valores en las variables recién creadas.\n",
    "\n",
    "Primero, verificamos la tasa de pago de los préstamos con diferentes propósitos y vemos los siguientes resultados\n",
    "- Los préstamos para pequeñas empresas tienen la tasa de pago más baja \n",
    "- los préstamos para automóviles y bodas tienen la tasa de pago más alta. \n",
    "- También contamos el número de cada propósito. \n",
    "- Puede contar cualquier columna en el conjunto de datos, por ejemplo, la columna issue_d. \n",
    "\n"
   ]
  },
  {
   "cell_type": "code",
   "execution_count": 99,
   "metadata": {},
   "outputs": [
    {
     "ename": "IndentationError",
     "evalue": "unexpected indent (2313857041.py, line 11)",
     "output_type": "error",
     "traceback": [
      "\u001b[1;36m  Cell \u001b[1;32mIn[99], line 11\u001b[1;36m\u001b[0m\n\u001b[1;33m    sort_values(by='repaid')\u001b[0m\n\u001b[1;37m    ^\u001b[0m\n\u001b[1;31mIndentationError\u001b[0m\u001b[1;31m:\u001b[0m unexpected indent\n"
     ]
    }
   ],
   "source": [
    "# relación entre el propósito y la tasa de pago\n",
    "\n",
    "# Como resultado podemos ver que\n",
    "     # Los préstamos para pequeñas empresas tienen la tasa de pago  más baja\n",
    "     # En cambio, los préstamos para automóviles y bodas tienen la tasa de pago más alta.\n",
    "\n",
    "# tambien observamos que la mayoría de los préstamos en el conjunto de datos son para consolidación de deuda.\n",
    "\n",
    "\n",
    "prestamos_df.groupby('purpose').agg({'repaid':'mean', 'issue_d':'count'})\n",
    "                    sort_values(by='repaid')"
   ]
  },
  {
   "cell_type": "code",
   "execution_count": 101,
   "metadata": {},
   "outputs": [],
   "source": [
    "# Codificamos las variables categoricas usando la libreria sklearn   usando el metodo LabelEncoder\n",
    "\n",
    "# Codificar las variables categoricas de destino con valores entre 0 y n_classes\n",
    "\n",
    "from sklearn.preprocessing import LabelEncoder\n",
    "\n",
    "le = LabelEncoder()\n",
    "prestamos_df['purpose_code'] = le.fit_transform(prestamos_df.purpose)"
   ]
  },
  {
   "cell_type": "code",
   "execution_count": 102,
   "metadata": {},
   "outputs": [
    {
     "data": {
      "text/plain": [
       "purpose_code\n",
       "2     9389\n",
       "1     2696\n",
       "9     2060\n",
       "4     1330\n",
       "6     1048\n",
       "11     905\n",
       "0      687\n",
       "13     539\n",
       "7      350\n",
       "8      317\n",
       "12     199\n",
       "5      176\n",
       "3      161\n",
       "10      51\n",
       "Name: count, dtype: int64"
      ]
     },
     "execution_count": 102,
     "metadata": {},
     "output_type": "execute_result"
    }
   ],
   "source": [
    "prestamos_df['purpose_code'].value_counts()"
   ]
  },
  {
   "cell_type": "markdown",
   "metadata": {},
   "source": [
    "#### Análisis de relación entre el estatus de la propiedad de la vivienda y la tasa de pago"
   ]
  },
  {
   "cell_type": "code",
   "execution_count": 106,
   "metadata": {},
   "outputs": [
    {
     "data": {
      "text/html": [
       "<div>\n",
       "<style scoped>\n",
       "    .dataframe tbody tr th:only-of-type {\n",
       "        vertical-align: middle;\n",
       "    }\n",
       "\n",
       "    .dataframe tbody tr th {\n",
       "        vertical-align: top;\n",
       "    }\n",
       "\n",
       "    .dataframe thead th {\n",
       "        text-align: right;\n",
       "    }\n",
       "</style>\n",
       "<table border=\"1\" class=\"dataframe\">\n",
       "  <thead>\n",
       "    <tr style=\"text-align: right;\">\n",
       "      <th></th>\n",
       "      <th>repaid</th>\n",
       "      <th>issue_d</th>\n",
       "    </tr>\n",
       "    <tr>\n",
       "      <th>home_ownership</th>\n",
       "      <th></th>\n",
       "      <th></th>\n",
       "    </tr>\n",
       "  </thead>\n",
       "  <tbody>\n",
       "    <tr>\n",
       "      <th>OTHER</th>\n",
       "      <td>0.818182</td>\n",
       "      <td>44</td>\n",
       "    </tr>\n",
       "    <tr>\n",
       "      <th>OWN</th>\n",
       "      <td>0.841527</td>\n",
       "      <td>1546</td>\n",
       "    </tr>\n",
       "    <tr>\n",
       "      <th>RENT</th>\n",
       "      <td>0.847620</td>\n",
       "      <td>10966</td>\n",
       "    </tr>\n",
       "    <tr>\n",
       "      <th>MORTGAGE</th>\n",
       "      <td>0.861379</td>\n",
       "      <td>7351</td>\n",
       "    </tr>\n",
       "    <tr>\n",
       "      <th>NONE</th>\n",
       "      <td>1.000000</td>\n",
       "      <td>1</td>\n",
       "    </tr>\n",
       "  </tbody>\n",
       "</table>\n",
       "</div>"
      ],
      "text/plain": [
       "                  repaid  issue_d\n",
       "home_ownership                   \n",
       "OTHER           0.818182       44\n",
       "OWN             0.841527     1546\n",
       "RENT            0.847620    10966\n",
       "MORTGAGE        0.861379     7351\n",
       "NONE            1.000000        1"
      ]
     },
     "execution_count": 106,
     "metadata": {},
     "output_type": "execute_result"
    }
   ],
   "source": [
    "# relación entre el estatus de la propiedad de la vivienda y la tasa de pago\n",
    "\n",
    "# Como resultado podemos ver que:\n",
    "        #La mayoria de los deudores viven de renta o tienen la casa  hipotecada\n",
    "    \n",
    "# MORTGAGE ==  HIPOTECA\n",
    "\n",
    "prestamos_df.groupby('home_ownership').agg({'repaid':'mean', 'issue_d':'count'}).sort_values(by='repaid')"
   ]
  },
  {
   "cell_type": "code",
   "execution_count": 108,
   "metadata": {},
   "outputs": [
    {
     "data": {
      "text/plain": [
       "home_ownership\n",
       "RENT        10966\n",
       "MORTGAGE     7351\n",
       "OWN          1546\n",
       "OTHER          44\n",
       "NONE            1\n",
       "Name: count, dtype: int64"
      ]
     },
     "execution_count": 108,
     "metadata": {},
     "output_type": "execute_result"
    }
   ],
   "source": [
    "prestamos_df[\"home_ownership\"].value_counts()"
   ]
  },
  {
   "cell_type": "code",
   "execution_count": 110,
   "metadata": {},
   "outputs": [],
   "source": [
    "le = LabelEncoder()\n",
    "prestamos_df['home_ownership_code'] = le.fit_transform(prestamos_df.home_ownership)"
   ]
  },
  {
   "cell_type": "code",
   "execution_count": 112,
   "metadata": {},
   "outputs": [
    {
     "data": {
      "text/plain": [
       "home_ownership_code\n",
       "4    10966\n",
       "0     7351\n",
       "3     1546\n",
       "2       44\n",
       "1        1\n",
       "Name: count, dtype: int64"
      ]
     },
     "execution_count": 112,
     "metadata": {},
     "output_type": "execute_result"
    }
   ],
   "source": [
    "prestamos_df['home_ownership_code'].value_counts()"
   ]
  },
  {
   "cell_type": "markdown",
   "metadata": {},
   "source": [
    "#### Análisis de relación entre la calificacion del riesgo del credito  y la tasa de pago"
   ]
  },
  {
   "cell_type": "code",
   "execution_count": 115,
   "metadata": {},
   "outputs": [
    {
     "data": {
      "text/html": [
       "<div>\n",
       "<style scoped>\n",
       "    .dataframe tbody tr th:only-of-type {\n",
       "        vertical-align: middle;\n",
       "    }\n",
       "\n",
       "    .dataframe tbody tr th {\n",
       "        vertical-align: top;\n",
       "    }\n",
       "\n",
       "    .dataframe thead th {\n",
       "        text-align: right;\n",
       "    }\n",
       "</style>\n",
       "<table border=\"1\" class=\"dataframe\">\n",
       "  <thead>\n",
       "    <tr style=\"text-align: right;\">\n",
       "      <th></th>\n",
       "      <th>repaid</th>\n",
       "      <th>issue_d</th>\n",
       "    </tr>\n",
       "    <tr>\n",
       "      <th>grade</th>\n",
       "      <th></th>\n",
       "      <th></th>\n",
       "    </tr>\n",
       "  </thead>\n",
       "  <tbody>\n",
       "    <tr>\n",
       "      <th>G</th>\n",
       "      <td>0.641509</td>\n",
       "      <td>159</td>\n",
       "    </tr>\n",
       "    <tr>\n",
       "      <th>F</th>\n",
       "      <td>0.677778</td>\n",
       "      <td>540</td>\n",
       "    </tr>\n",
       "    <tr>\n",
       "      <th>E</th>\n",
       "      <td>0.736402</td>\n",
       "      <td>1434</td>\n",
       "    </tr>\n",
       "    <tr>\n",
       "      <th>D</th>\n",
       "      <td>0.789301</td>\n",
       "      <td>2748</td>\n",
       "    </tr>\n",
       "    <tr>\n",
       "      <th>C</th>\n",
       "      <td>0.835576</td>\n",
       "      <td>4087</td>\n",
       "    </tr>\n",
       "    <tr>\n",
       "      <th>B</th>\n",
       "      <td>0.871558</td>\n",
       "      <td>6065</td>\n",
       "    </tr>\n",
       "    <tr>\n",
       "      <th>A</th>\n",
       "      <td>0.937641</td>\n",
       "      <td>4875</td>\n",
       "    </tr>\n",
       "  </tbody>\n",
       "</table>\n",
       "</div>"
      ],
      "text/plain": [
       "         repaid  issue_d\n",
       "grade                   \n",
       "G      0.641509      159\n",
       "F      0.677778      540\n",
       "E      0.736402     1434\n",
       "D      0.789301     2748\n",
       "C      0.835576     4087\n",
       "B      0.871558     6065\n",
       "A      0.937641     4875"
      ]
     },
     "execution_count": 115,
     "metadata": {},
     "output_type": "execute_result"
    }
   ],
   "source": [
    "# relación entre el estatus de la calificacion del riesgo del credito  y la tasa de pago\n",
    "\n",
    "# Como resultado podemos ver que \n",
    "      #  los prestamos con clasificacion A (los de menor riesgo) tienen la mayor taza de pago\n",
    "      # mientras que los clasificados como G (Mayor riesgo) tienen la menor taza de pago\n",
    "#  Hay mas prestamos clasificados como B y, enseguida A y C\n",
    "\n",
    "prestamos_df.groupby('grade').agg({'repaid':'mean', 'issue_d':'count'}).sort_values(by='repaid')"
   ]
  },
  {
   "cell_type": "code",
   "execution_count": 117,
   "metadata": {},
   "outputs": [],
   "source": [
    "le = LabelEncoder()\n",
    "prestamos_df['grade_code'] = le.fit_transform(prestamos_df.grade)"
   ]
  },
  {
   "cell_type": "code",
   "execution_count": 119,
   "metadata": {},
   "outputs": [
    {
     "data": {
      "text/plain": [
       "grade_code\n",
       "1    6065\n",
       "0    4875\n",
       "2    4087\n",
       "3    2748\n",
       "4    1434\n",
       "5     540\n",
       "6     159\n",
       "Name: count, dtype: int64"
      ]
     },
     "execution_count": 119,
     "metadata": {},
     "output_type": "execute_result"
    }
   ],
   "source": [
    "prestamos_df['grade_code'].value_counts()"
   ]
  },
  {
   "cell_type": "markdown",
   "metadata": {},
   "source": [
    "#### Análisis de relación entre el estado de residencia del deudor   y la tasa de pago"
   ]
  },
  {
   "cell_type": "code",
   "execution_count": 122,
   "metadata": {},
   "outputs": [
    {
     "data": {
      "text/html": [
       "<div>\n",
       "<style scoped>\n",
       "    .dataframe tbody tr th:only-of-type {\n",
       "        vertical-align: middle;\n",
       "    }\n",
       "\n",
       "    .dataframe tbody tr th {\n",
       "        vertical-align: top;\n",
       "    }\n",
       "\n",
       "    .dataframe thead th {\n",
       "        text-align: right;\n",
       "    }\n",
       "</style>\n",
       "<table border=\"1\" class=\"dataframe\">\n",
       "  <thead>\n",
       "    <tr style=\"text-align: right;\">\n",
       "      <th></th>\n",
       "      <th>repaid</th>\n",
       "      <th>issue_d</th>\n",
       "    </tr>\n",
       "    <tr>\n",
       "      <th>addr_state</th>\n",
       "      <th></th>\n",
       "      <th></th>\n",
       "    </tr>\n",
       "  </thead>\n",
       "  <tbody>\n",
       "    <tr>\n",
       "      <th>FL</th>\n",
       "      <td>0.822772</td>\n",
       "      <td>2872</td>\n",
       "    </tr>\n",
       "    <tr>\n",
       "      <th>CA</th>\n",
       "      <td>0.840816</td>\n",
       "      <td>7105</td>\n",
       "    </tr>\n",
       "    <tr>\n",
       "      <th>NJ</th>\n",
       "      <td>0.847978</td>\n",
       "      <td>1855</td>\n",
       "    </tr>\n",
       "    <tr>\n",
       "      <th>NY</th>\n",
       "      <td>0.868745</td>\n",
       "      <td>3817</td>\n",
       "    </tr>\n",
       "    <tr>\n",
       "      <th>IL</th>\n",
       "      <td>0.870164</td>\n",
       "      <td>1525</td>\n",
       "    </tr>\n",
       "    <tr>\n",
       "      <th>TX</th>\n",
       "      <td>0.882224</td>\n",
       "      <td>2734</td>\n",
       "    </tr>\n",
       "  </tbody>\n",
       "</table>\n",
       "</div>"
      ],
      "text/plain": [
       "              repaid  issue_d\n",
       "addr_state                   \n",
       "FL          0.822772     2872\n",
       "CA          0.840816     7105\n",
       "NJ          0.847978     1855\n",
       "NY          0.868745     3817\n",
       "IL          0.870164     1525\n",
       "TX          0.882224     2734"
      ]
     },
     "execution_count": 122,
     "metadata": {},
     "output_type": "execute_result"
    }
   ],
   "source": [
    "# relación entre el estado de residencia del deudor  y la tasa de pago\n",
    "\n",
    "# Como resultado podemos ver que california tiene el mayor numero de prestamos, mientras que illinois tiene el\n",
    "# menor numero de prestamos, además, Texas tiene la mayor taza de pago, y florida tiene la menor taza de pago\n",
    "\n",
    "prestamos_df.groupby('addr_state').agg({'repaid':'mean', 'issue_d':'count'}).sort_values(by='repaid')"
   ]
  },
  {
   "cell_type": "code",
   "execution_count": 124,
   "metadata": {},
   "outputs": [],
   "source": [
    "le = LabelEncoder()\n",
    "prestamos_df['addr_state_code'] = le.fit_transform(prestamos_df.addr_state)"
   ]
  },
  {
   "cell_type": "code",
   "execution_count": 126,
   "metadata": {},
   "outputs": [
    {
     "data": {
      "text/plain": [
       "addr_state_code\n",
       "0    7105\n",
       "4    3817\n",
       "1    2872\n",
       "5    2734\n",
       "3    1855\n",
       "2    1525\n",
       "Name: count, dtype: int64"
      ]
     },
     "execution_count": 126,
     "metadata": {},
     "output_type": "execute_result"
    }
   ],
   "source": [
    "prestamos_df['addr_state_code'].value_counts()"
   ]
  },
  {
   "cell_type": "code",
   "execution_count": 128,
   "metadata": {},
   "outputs": [
    {
     "data": {
      "text/html": [
       "<div>\n",
       "<style scoped>\n",
       "    .dataframe tbody tr th:only-of-type {\n",
       "        vertical-align: middle;\n",
       "    }\n",
       "\n",
       "    .dataframe tbody tr th {\n",
       "        vertical-align: top;\n",
       "    }\n",
       "\n",
       "    .dataframe thead th {\n",
       "        text-align: right;\n",
       "    }\n",
       "</style>\n",
       "<table border=\"1\" class=\"dataframe\">\n",
       "  <thead>\n",
       "    <tr style=\"text-align: right;\">\n",
       "      <th></th>\n",
       "      <th>loan_amnt</th>\n",
       "      <th>funded_amnt</th>\n",
       "      <th>funded_amnt_inv</th>\n",
       "      <th>term</th>\n",
       "      <th>int_rate</th>\n",
       "      <th>installment</th>\n",
       "      <th>grade</th>\n",
       "      <th>sub_grade</th>\n",
       "      <th>emp_title</th>\n",
       "      <th>emp_length</th>\n",
       "      <th>...</th>\n",
       "      <th>disbursement_method</th>\n",
       "      <th>debt_settlement_flag</th>\n",
       "      <th>debt_settlement_flag_date</th>\n",
       "      <th>issue_year</th>\n",
       "      <th>repaid</th>\n",
       "      <th>loan_term_year</th>\n",
       "      <th>purpose_code</th>\n",
       "      <th>home_ownership_code</th>\n",
       "      <th>grade_code</th>\n",
       "      <th>addr_state_code</th>\n",
       "    </tr>\n",
       "  </thead>\n",
       "  <tbody>\n",
       "    <tr>\n",
       "      <th>0</th>\n",
       "      <td>2400</td>\n",
       "      <td>2400</td>\n",
       "      <td>2400.0</td>\n",
       "      <td>36 months</td>\n",
       "      <td>15.96</td>\n",
       "      <td>84.33</td>\n",
       "      <td>C</td>\n",
       "      <td>C5</td>\n",
       "      <td>NaN</td>\n",
       "      <td>10+ years</td>\n",
       "      <td>...</td>\n",
       "      <td>Cash</td>\n",
       "      <td>N</td>\n",
       "      <td>NaN</td>\n",
       "      <td>2011</td>\n",
       "      <td>1</td>\n",
       "      <td>3</td>\n",
       "      <td>11</td>\n",
       "      <td>4</td>\n",
       "      <td>2</td>\n",
       "      <td>2</td>\n",
       "    </tr>\n",
       "    <tr>\n",
       "      <th>1</th>\n",
       "      <td>10000</td>\n",
       "      <td>10000</td>\n",
       "      <td>10000.0</td>\n",
       "      <td>36 months</td>\n",
       "      <td>13.49</td>\n",
       "      <td>339.31</td>\n",
       "      <td>C</td>\n",
       "      <td>C1</td>\n",
       "      <td>AIR RESOURCES BOARD</td>\n",
       "      <td>10+ years</td>\n",
       "      <td>...</td>\n",
       "      <td>Cash</td>\n",
       "      <td>N</td>\n",
       "      <td>NaN</td>\n",
       "      <td>2011</td>\n",
       "      <td>1</td>\n",
       "      <td>3</td>\n",
       "      <td>9</td>\n",
       "      <td>4</td>\n",
       "      <td>2</td>\n",
       "      <td>0</td>\n",
       "    </tr>\n",
       "    <tr>\n",
       "      <th>2</th>\n",
       "      <td>3000</td>\n",
       "      <td>3000</td>\n",
       "      <td>3000.0</td>\n",
       "      <td>36 months</td>\n",
       "      <td>18.64</td>\n",
       "      <td>109.43</td>\n",
       "      <td>E</td>\n",
       "      <td>E1</td>\n",
       "      <td>MKC Accounting</td>\n",
       "      <td>9 years</td>\n",
       "      <td>...</td>\n",
       "      <td>Cash</td>\n",
       "      <td>N</td>\n",
       "      <td>NaN</td>\n",
       "      <td>2011</td>\n",
       "      <td>1</td>\n",
       "      <td>3</td>\n",
       "      <td>0</td>\n",
       "      <td>4</td>\n",
       "      <td>4</td>\n",
       "      <td>0</td>\n",
       "    </tr>\n",
       "    <tr>\n",
       "      <th>3</th>\n",
       "      <td>5600</td>\n",
       "      <td>5600</td>\n",
       "      <td>5600.0</td>\n",
       "      <td>60 months</td>\n",
       "      <td>21.28</td>\n",
       "      <td>152.39</td>\n",
       "      <td>F</td>\n",
       "      <td>F2</td>\n",
       "      <td>NaN</td>\n",
       "      <td>4 years</td>\n",
       "      <td>...</td>\n",
       "      <td>Cash</td>\n",
       "      <td>N</td>\n",
       "      <td>NaN</td>\n",
       "      <td>2011</td>\n",
       "      <td>0</td>\n",
       "      <td>5</td>\n",
       "      <td>11</td>\n",
       "      <td>3</td>\n",
       "      <td>5</td>\n",
       "      <td>0</td>\n",
       "    </tr>\n",
       "    <tr>\n",
       "      <th>4</th>\n",
       "      <td>5375</td>\n",
       "      <td>5375</td>\n",
       "      <td>5350.0</td>\n",
       "      <td>60 months</td>\n",
       "      <td>12.69</td>\n",
       "      <td>121.45</td>\n",
       "      <td>B</td>\n",
       "      <td>B5</td>\n",
       "      <td>Starbucks</td>\n",
       "      <td>&lt; 1 year</td>\n",
       "      <td>...</td>\n",
       "      <td>Cash</td>\n",
       "      <td>N</td>\n",
       "      <td>NaN</td>\n",
       "      <td>2011</td>\n",
       "      <td>0</td>\n",
       "      <td>5</td>\n",
       "      <td>9</td>\n",
       "      <td>4</td>\n",
       "      <td>1</td>\n",
       "      <td>5</td>\n",
       "    </tr>\n",
       "  </tbody>\n",
       "</table>\n",
       "<p>5 rows × 65 columns</p>\n",
       "</div>"
      ],
      "text/plain": [
       "   loan_amnt  funded_amnt  funded_amnt_inv       term  int_rate  installment  \\\n",
       "0       2400         2400           2400.0  36 months     15.96        84.33   \n",
       "1      10000        10000          10000.0  36 months     13.49       339.31   \n",
       "2       3000         3000           3000.0  36 months     18.64       109.43   \n",
       "3       5600         5600           5600.0  60 months     21.28       152.39   \n",
       "4       5375         5375           5350.0  60 months     12.69       121.45   \n",
       "\n",
       "  grade sub_grade            emp_title emp_length  ... disbursement_method  \\\n",
       "0     C        C5                  NaN  10+ years  ...                Cash   \n",
       "1     C        C1  AIR RESOURCES BOARD  10+ years  ...                Cash   \n",
       "2     E        E1      MKC Accounting     9 years  ...                Cash   \n",
       "3     F        F2                  NaN    4 years  ...                Cash   \n",
       "4     B        B5            Starbucks   < 1 year  ...                Cash   \n",
       "\n",
       "   debt_settlement_flag debt_settlement_flag_date issue_year repaid  \\\n",
       "0                     N                       NaN       2011      1   \n",
       "1                     N                       NaN       2011      1   \n",
       "2                     N                       NaN       2011      1   \n",
       "3                     N                       NaN       2011      0   \n",
       "4                     N                       NaN       2011      0   \n",
       "\n",
       "  loan_term_year purpose_code home_ownership_code grade_code addr_state_code  \n",
       "0              3           11                   4          2               2  \n",
       "1              3            9                   4          2               0  \n",
       "2              3            0                   4          4               0  \n",
       "3              5           11                   3          5               0  \n",
       "4              5            9                   4          1               5  \n",
       "\n",
       "[5 rows x 65 columns]"
      ]
     },
     "execution_count": 128,
     "metadata": {},
     "output_type": "execute_result"
    }
   ],
   "source": [
    "# Verificamos los campos agregados, mostrando los primeros 10 registros\n",
    "\n",
    "prestamos_df.head()"
   ]
  },
  {
   "cell_type": "code",
   "execution_count": null,
   "metadata": {},
   "outputs": [],
   "source": []
  },
  {
   "cell_type": "markdown",
   "metadata": {},
   "source": [
    "### 4.4 Manejar Valores perdidos   <a id='id44'> </a>\n",
    "\n",
    "- Algunas de las variables que utilizaremos para realizar la prediccion tiene valores nulos, por lo tanto, es enecesario llenar con datos los valores nulos. Se tiene que decidir cual sera la opcion para rellenar los valores nulos.\n",
    "\n",
    "\n",
    "- Rellenar los valores que faltan en `revol_util` con el valor medio de la columna en prestamos_df. \n",
    "- Se decide reemplazar los valores faltantes con la media porque es una variable de tipo continua y para no generar un sesgo en la informacion\n",
    "- Rellenar los valores que faltan en `pub_rec_bankruptcies` con 0 (Número de quiebras de registros públicos) en prestamos_df. esta **es una variable categorica y rellenamos con 0 por ser el valor de la  moda**\n",
    "\n",
    "Después de completar los valores faltantes, verificamos de nuevo prestamos_df para asegurarnos de que no haya valores faltantes en las dos columnas. \n",
    "- Si aún faltan valores, es probable que no se utilizó la función fillna() de la manera correcta. \n",
    "- fillna() de forma predeterminada devuelve una columna con los valores faltantes completados, por lo que debe volver a asignar la columna completa a la columna original o establecer `inplace=True` en fillna(). \n",
    "- Si establece `inplace=True` en fillna(), no asigne el valor devuelto a la columna original, ya que la función modificará directamente la función de loan_df en su lugar y no devolverá nada."
   ]
  },
  {
   "cell_type": "code",
   "execution_count": 132,
   "metadata": {},
   "outputs": [
    {
     "name": "stdout",
     "output_type": "stream",
     "text": [
      "<class 'pandas.core.frame.DataFrame'>\n",
      "RangeIndex: 19908 entries, 0 to 19907\n",
      "Data columns (total 65 columns):\n",
      " #   Column                       Non-Null Count  Dtype         \n",
      "---  ------                       --------------  -----         \n",
      " 0   loan_amnt                    19908 non-null  int64         \n",
      " 1   funded_amnt                  19908 non-null  int64         \n",
      " 2   funded_amnt_inv              19908 non-null  float64       \n",
      " 3   term                         19908 non-null  object        \n",
      " 4   int_rate                     19908 non-null  float64       \n",
      " 5   installment                  19908 non-null  float64       \n",
      " 6   grade                        19908 non-null  object        \n",
      " 7   sub_grade                    19908 non-null  object        \n",
      " 8   emp_title                    18723 non-null  object        \n",
      " 9   emp_length                   19409 non-null  object        \n",
      " 10  home_ownership               19908 non-null  object        \n",
      " 11  annual_inc                   19908 non-null  float64       \n",
      " 12  verification_status          19908 non-null  object        \n",
      " 13  issue_d                      19908 non-null  datetime64[ns]\n",
      " 14  loan_status                  19908 non-null  object        \n",
      " 15  pymnt_plan                   19908 non-null  object        \n",
      " 16  purpose                      19908 non-null  object        \n",
      " 17  title                        19903 non-null  object        \n",
      " 18  zip_code                     19908 non-null  object        \n",
      " 19  addr_state                   19908 non-null  object        \n",
      " 20  dti                          19908 non-null  float64       \n",
      " 21  delinq_2yrs                  19908 non-null  float64       \n",
      " 22  earliest_cr_line             19908 non-null  object        \n",
      " 23  inq_last_6mths               19908 non-null  float64       \n",
      " 24  mths_since_last_delinq       6998 non-null   float64       \n",
      " 25  mths_since_last_record       1209 non-null   float64       \n",
      " 26  open_acc                     19908 non-null  float64       \n",
      " 27  pub_rec                      19908 non-null  float64       \n",
      " 28  revol_bal                    19908 non-null  int64         \n",
      " 29  revol_util                   19889 non-null  float64       \n",
      " 30  total_acc                    19908 non-null  float64       \n",
      " 31  initial_list_status          19908 non-null  object        \n",
      " 32  out_prncp                    19908 non-null  float64       \n",
      " 33  out_prncp_inv                19908 non-null  float64       \n",
      " 34  total_pymnt                  19908 non-null  float64       \n",
      " 35  total_pymnt_inv              19908 non-null  float64       \n",
      " 36  total_rec_prncp              19908 non-null  float64       \n",
      " 37  total_rec_int                19908 non-null  float64       \n",
      " 38  total_rec_late_fee           19908 non-null  float64       \n",
      " 39  recoveries                   19908 non-null  float64       \n",
      " 40  collection_recovery_fee      19908 non-null  float64       \n",
      " 41  last_pymnt_d                 19865 non-null  object        \n",
      " 42  last_pymnt_amnt              19908 non-null  float64       \n",
      " 43  next_pymnt_d                 0 non-null      float64       \n",
      " 44  last_credit_pull_d           19906 non-null  object        \n",
      " 45  collections_12_mths_ex_med   19893 non-null  float64       \n",
      " 46  mths_since_last_major_derog  0 non-null      float64       \n",
      " 47  policy_code                  19908 non-null  int64         \n",
      " 48  application_type             19908 non-null  object        \n",
      " 49  acc_now_delinq               19908 non-null  float64       \n",
      " 50  chargeoff_within_12_mths     19893 non-null  float64       \n",
      " 51  delinq_amnt                  19908 non-null  float64       \n",
      " 52  pub_rec_bankruptcies         19595 non-null  float64       \n",
      " 53  tax_liens                    19898 non-null  float64       \n",
      " 54  hardship_flag                19908 non-null  object        \n",
      " 55  disbursement_method          19908 non-null  object        \n",
      " 56  debt_settlement_flag         19908 non-null  object        \n",
      " 57  debt_settlement_flag_date    82 non-null     object        \n",
      " 58  issue_year                   19908 non-null  int32         \n",
      " 59  repaid                       19908 non-null  int64         \n",
      " 60  loan_term_year               19908 non-null  int64         \n",
      " 61  purpose_code                 19908 non-null  int32         \n",
      " 62  home_ownership_code          19908 non-null  int32         \n",
      " 63  grade_code                   19908 non-null  int32         \n",
      " 64  addr_state_code              19908 non-null  int32         \n",
      "dtypes: datetime64[ns](1), float64(31), int32(5), int64(6), object(22)\n",
      "memory usage: 9.5+ MB\n"
     ]
    }
   ],
   "source": [
    "# Verificamos la columna 29 revol_util que tiene 19889 mientras que en el dataset son 19908 , por lo tanto\n",
    "# 19,9098 - 19,889 = 19 registros con valores nulos\n",
    "\n",
    "prestamos_df.info()"
   ]
  },
  {
   "cell_type": "code",
   "execution_count": 134,
   "metadata": {},
   "outputs": [
    {
     "data": {
      "text/plain": [
       "19"
      ]
     },
     "execution_count": 134,
     "metadata": {},
     "output_type": "execute_result"
    }
   ],
   "source": [
    "# mas facil si verificamos con la funcion isnull() \n",
    "\n",
    "# Contar valores nulos de la columna revol_util\n",
    "\n",
    "# revol_util  significa:  \n",
    "# Tasa de utilización de la línea renovable, o la cantidad de crédito que el prestatario \n",
    "# está utilizando en relación con todo el crédito renovable disponible\n",
    "\n",
    "\n",
    "prestamos_df[\"revol_util\"].isnull().sum()"
   ]
  },
  {
   "cell_type": "code",
   "execution_count": 136,
   "metadata": {},
   "outputs": [
    {
     "data": {
      "text/plain": [
       "revol_util\n",
       "0.00     455\n",
       "0.20      38\n",
       "78.70     34\n",
       "32.00     34\n",
       "57.40     33\n",
       "        ... \n",
       "21.72      1\n",
       "2.64       1\n",
       "81.31      1\n",
       "43.61      1\n",
       "0.04       1\n",
       "Name: count, Length: 1052, dtype: int64"
      ]
     },
     "execution_count": 136,
     "metadata": {},
     "output_type": "execute_result"
    }
   ],
   "source": [
    "# Verificamos que valores tiene la columna revol util\n",
    "# revol util ==\n",
    "#  Tasa de utilización de la línea renovable, o la cantidad de crédito que el prestatario \n",
    "#  está utilizando en relación con todo el crédito renovabl\n",
    "\n",
    "prestamos_df['revol_util'].value_counts()"
   ]
  },
  {
   "cell_type": "code",
   "execution_count": 140,
   "metadata": {},
   "outputs": [
    {
     "name": "stdout",
     "output_type": "stream",
     "text": [
      "Promedio de revol_util: 49.42496606164211\n"
     ]
    }
   ],
   "source": [
    "# Calculamos el promedio de la columna  revol_util\n",
    "\n",
    "avg_revol_util = prestamos_df['revol_util'].astype('float').mean(axis=0)\n",
    "print(\"Promedio de revol_util:\", avg_revol_util)"
   ]
  },
  {
   "cell_type": "code",
   "execution_count": 142,
   "metadata": {},
   "outputs": [],
   "source": [
    "# Asiganmos el valor calculado del promedio a los valores faltantes\n",
    "\n",
    "prestamos_df[\"revol_util\"].replace(np.nan, avg_revol_util, inplace=True)"
   ]
  },
  {
   "cell_type": "code",
   "execution_count": 144,
   "metadata": {},
   "outputs": [
    {
     "data": {
      "text/plain": [
       "0"
      ]
     },
     "execution_count": 144,
     "metadata": {},
     "output_type": "execute_result"
    }
   ],
   "source": [
    "# Volvemos a contabilizar los valores nulos en la columna revol_util\n",
    "\n",
    "prestamos_df[\"revol_util\"].isnull().sum()"
   ]
  },
  {
   "cell_type": "markdown",
   "metadata": {},
   "source": [
    "####  Hacemos el mismo proceso con la columna  pub_rec_bankruptcies\n",
    "    \n",
    "-  Número de quiebras de registros públicos"
   ]
  },
  {
   "cell_type": "code",
   "execution_count": 147,
   "metadata": {},
   "outputs": [
    {
     "data": {
      "text/plain": [
       "pub_rec_bankruptcies\n",
       "0.0    18852\n",
       "1.0      742\n",
       "2.0        1\n",
       "Name: count, dtype: int64"
      ]
     },
     "execution_count": 147,
     "metadata": {},
     "output_type": "execute_result"
    }
   ],
   "source": [
    "# # Verificamos que valores tiene la columna\n",
    "\n",
    "#  es una variable categorica y decdimos  rellenar con 0 por ser el valor de la  moda**\n",
    "\n",
    "prestamos_df['pub_rec_bankruptcies'].value_counts()"
   ]
  },
  {
   "cell_type": "code",
   "execution_count": 149,
   "metadata": {},
   "outputs": [
    {
     "data": {
      "text/plain": [
       "313"
      ]
     },
     "execution_count": 149,
     "metadata": {},
     "output_type": "execute_result"
    }
   ],
   "source": [
    "# Contamos los valores nulos de la columna pub_rec_bankruptcies\n",
    "\n",
    "prestamos_df[\"pub_rec_bankruptcies\"].isnull().sum()"
   ]
  },
  {
   "cell_type": "code",
   "execution_count": 151,
   "metadata": {},
   "outputs": [],
   "source": [
    "# Reemplazamos con cero los valores faltantes\n",
    "\n",
    "prestamos_df[\"pub_rec_bankruptcies\"].replace(np.nan, 0, inplace=True)"
   ]
  },
  {
   "cell_type": "code",
   "execution_count": 153,
   "metadata": {},
   "outputs": [
    {
     "data": {
      "text/plain": [
       "0"
      ]
     },
     "execution_count": 153,
     "metadata": {},
     "output_type": "execute_result"
    }
   ],
   "source": [
    "# Volvemos a Contar los valores nulos de la columna pub_rec_bankruptcies\n",
    "\n",
    "prestamos_df[\"pub_rec_bankruptcies\"].isnull().sum()"
   ]
  },
  {
   "cell_type": "code",
   "execution_count": null,
   "metadata": {},
   "outputs": [],
   "source": []
  },
  {
   "cell_type": "markdown",
   "metadata": {},
   "source": [
    "## 5. Preparación del Modelo  <a id='id5'> </a>\n",
    "\n",
    "- Construir un modelo de clasificación para **predecir si un préstamo se pagará en su totalidad**. \n",
    "- La columna repaid ('cancelado') será la etiqueta. \n",
    "- **El propósito del modelo es identificar los préstamos que probablemente se pagarán en su totalidad.**\n",
    "\n",
    "Completaremos los siguientes pasos:\n",
    "\n",
    "- **Identificar las columnas** que necesitamos para el modelado y los próximos pasos.\n",
    "- Crear un **DataFrame** df limpio **solo con las columnas necesarias**.\n",
    "- Identificar las columnas necesarias para entrenar el modelo de clasificación.\n",
    "- Crear un **conjunto de pruebas y entrenamiento** para el modelo de clasificación.\n",
    "- Crear una etiqueta de entrenamiento y prueba para el modelo de clasificación.\n",
    "- **Entrenar el modelo de clasificación**.\n",
    "- **Predecir con el modelo de clasificación**.\n",
    "- **Evaluar el modelo de clasificación**.  \n",
    "\n",
    "- Realizaremos un modelo con **LogisticRegression**.\n",
    "-  Realizaremos un modelo con **RandomForestClassifier**. \n",
    "\n"
   ]
  },
  {
   "cell_type": "markdown",
   "metadata": {},
   "source": [
    "### 5.1 Selección de Variables predictoras   <a id='id51'> </a>\n",
    "\n",
    "Crearemos un DataFrame `df` limpio que mantiene las siguientes columnas en el DataFrame original `prestamos_df`.\n",
    "\n",
    "**Para la seleccion de caracteristicas que se utilizarán para el modelo, la mejor opción es comprender los datos, y comprender las reglas del negocio**\n",
    "\n",
    "Selecionamos las siguientes variables (columnas)\n",
    "\n",
    "- **funded_amnt**             ( monto financiado)  La cantidad total comprometida con ese préstamo en ese momento.\n",
    "- **loan_term_year**          ( Plazo del credito )\n",
    "- **int_rate**                ( taza de interes )\n",
    "- **grade_code**              ( codigo de la calificacion del crédito )\n",
    "- **purpose_code**            ( codigo del proposito)\n",
    "- **addr_state_code**         ( codigo de la ciudad)\n",
    "- **home_ownership_code**     ( codigo situacion casa)\n",
    "- **annual_inc**              ( ingresos anuales)\n",
    "- **dti**                     ( Una relación calculada utilizando los pagos de deuda mensuales totales del prestatario )\n",
    "- **revol_util**              ( cantidad de crédito que el prestatario está utilizando en relación con todo el crédito  )\n",
    "- **pub_rec_bankruptcies**    ( Número de quiebras de registros públicos )\n",
    "- **repaid**\n",
    "- **total_pymnt**\n",
    "\n",
    "\n",
    "Entre todas las columnas mantenidas,  **la etiqueta `repaid` será la elegida para el modelo de clasificación**.\n",
    "\n",
    "Otras características se utilizarán para entrenar el modelo de clasificación.\n",
    "\n",
    "- Solo las **características que están disponibles antes de que se inicie el préstamo pueden usarse en la clasificación**. \n",
    "- Las características como **recoveries** (recuperaciones o cargo posterior a la recuperación bruta), **total_rec_prncp** (Principal recibido a la fecha), que solo están disponibles después de que se cierra el préstamo, no deben incluirse en las funciones de entrenamiento. \n",
    "- Si la clasificación logra una tasa de precisión cercana al 100%, es probable que incluya características que solo estarán disponibles después de que se cierre el préstamo.\n",
    "\n"
   ]
  },
  {
   "cell_type": "code",
   "execution_count": 158,
   "metadata": {},
   "outputs": [],
   "source": [
    "# columnas necesarias para entrenar el modelo de clasificacion\n",
    "columns = ['funded_amnt', 'loan_term_year', 'int_rate', 'grade_code', 'purpose_code', \n",
    "                'addr_state_code', 'home_ownership_code', 'annual_inc', 'dti', 'revol_util', \n",
    "                'pub_rec_bankruptcies', 'repaid', 'total_pymnt']"
   ]
  },
  {
   "cell_type": "code",
   "execution_count": 160,
   "metadata": {},
   "outputs": [],
   "source": [
    "# Crear DataFrame\n",
    "df = prestamos_df[columns].copy()"
   ]
  },
  {
   "cell_type": "code",
   "execution_count": 162,
   "metadata": {},
   "outputs": [
    {
     "data": {
      "text/html": [
       "<div>\n",
       "<style scoped>\n",
       "    .dataframe tbody tr th:only-of-type {\n",
       "        vertical-align: middle;\n",
       "    }\n",
       "\n",
       "    .dataframe tbody tr th {\n",
       "        vertical-align: top;\n",
       "    }\n",
       "\n",
       "    .dataframe thead th {\n",
       "        text-align: right;\n",
       "    }\n",
       "</style>\n",
       "<table border=\"1\" class=\"dataframe\">\n",
       "  <thead>\n",
       "    <tr style=\"text-align: right;\">\n",
       "      <th></th>\n",
       "      <th>funded_amnt</th>\n",
       "      <th>loan_term_year</th>\n",
       "      <th>int_rate</th>\n",
       "      <th>grade_code</th>\n",
       "      <th>purpose_code</th>\n",
       "      <th>addr_state_code</th>\n",
       "      <th>home_ownership_code</th>\n",
       "      <th>annual_inc</th>\n",
       "      <th>dti</th>\n",
       "      <th>revol_util</th>\n",
       "      <th>pub_rec_bankruptcies</th>\n",
       "      <th>repaid</th>\n",
       "      <th>total_pymnt</th>\n",
       "    </tr>\n",
       "  </thead>\n",
       "  <tbody>\n",
       "    <tr>\n",
       "      <th>0</th>\n",
       "      <td>2400</td>\n",
       "      <td>3</td>\n",
       "      <td>15.96</td>\n",
       "      <td>2</td>\n",
       "      <td>11</td>\n",
       "      <td>2</td>\n",
       "      <td>4</td>\n",
       "      <td>12252.0</td>\n",
       "      <td>8.72</td>\n",
       "      <td>98.5</td>\n",
       "      <td>0.0</td>\n",
       "      <td>1</td>\n",
       "      <td>3005.666844</td>\n",
       "    </tr>\n",
       "    <tr>\n",
       "      <th>1</th>\n",
       "      <td>10000</td>\n",
       "      <td>3</td>\n",
       "      <td>13.49</td>\n",
       "      <td>2</td>\n",
       "      <td>9</td>\n",
       "      <td>0</td>\n",
       "      <td>4</td>\n",
       "      <td>49200.0</td>\n",
       "      <td>20.00</td>\n",
       "      <td>21.0</td>\n",
       "      <td>0.0</td>\n",
       "      <td>1</td>\n",
       "      <td>12231.890000</td>\n",
       "    </tr>\n",
       "    <tr>\n",
       "      <th>2</th>\n",
       "      <td>3000</td>\n",
       "      <td>3</td>\n",
       "      <td>18.64</td>\n",
       "      <td>4</td>\n",
       "      <td>0</td>\n",
       "      <td>0</td>\n",
       "      <td>4</td>\n",
       "      <td>48000.0</td>\n",
       "      <td>5.35</td>\n",
       "      <td>87.5</td>\n",
       "      <td>0.0</td>\n",
       "      <td>1</td>\n",
       "      <td>3939.135294</td>\n",
       "    </tr>\n",
       "    <tr>\n",
       "      <th>3</th>\n",
       "      <td>5600</td>\n",
       "      <td>5</td>\n",
       "      <td>21.28</td>\n",
       "      <td>5</td>\n",
       "      <td>11</td>\n",
       "      <td>0</td>\n",
       "      <td>3</td>\n",
       "      <td>40000.0</td>\n",
       "      <td>5.55</td>\n",
       "      <td>32.6</td>\n",
       "      <td>0.0</td>\n",
       "      <td>0</td>\n",
       "      <td>647.500000</td>\n",
       "    </tr>\n",
       "    <tr>\n",
       "      <th>4</th>\n",
       "      <td>5375</td>\n",
       "      <td>5</td>\n",
       "      <td>12.69</td>\n",
       "      <td>1</td>\n",
       "      <td>9</td>\n",
       "      <td>5</td>\n",
       "      <td>4</td>\n",
       "      <td>15000.0</td>\n",
       "      <td>18.08</td>\n",
       "      <td>36.5</td>\n",
       "      <td>0.0</td>\n",
       "      <td>0</td>\n",
       "      <td>1484.590000</td>\n",
       "    </tr>\n",
       "  </tbody>\n",
       "</table>\n",
       "</div>"
      ],
      "text/plain": [
       "   funded_amnt  loan_term_year  int_rate  grade_code  purpose_code  \\\n",
       "0         2400               3     15.96           2            11   \n",
       "1        10000               3     13.49           2             9   \n",
       "2         3000               3     18.64           4             0   \n",
       "3         5600               5     21.28           5            11   \n",
       "4         5375               5     12.69           1             9   \n",
       "\n",
       "   addr_state_code  home_ownership_code  annual_inc    dti  revol_util  \\\n",
       "0                2                    4     12252.0   8.72        98.5   \n",
       "1                0                    4     49200.0  20.00        21.0   \n",
       "2                0                    4     48000.0   5.35        87.5   \n",
       "3                0                    3     40000.0   5.55        32.6   \n",
       "4                5                    4     15000.0  18.08        36.5   \n",
       "\n",
       "   pub_rec_bankruptcies  repaid   total_pymnt  \n",
       "0                   0.0       1   3005.666844  \n",
       "1                   0.0       1  12231.890000  \n",
       "2                   0.0       1   3939.135294  \n",
       "3                   0.0       0    647.500000  \n",
       "4                   0.0       0   1484.590000  "
      ]
     },
     "execution_count": 162,
     "metadata": {},
     "output_type": "execute_result"
    }
   ],
   "source": [
    "df.head()"
   ]
  },
  {
   "cell_type": "code",
   "execution_count": 164,
   "metadata": {},
   "outputs": [],
   "source": [
    "df.to_csv(\"prestamos.csv\")"
   ]
  },
  {
   "cell_type": "code",
   "execution_count": 166,
   "metadata": {
    "scrolled": true
   },
   "outputs": [
    {
     "name": "stdout",
     "output_type": "stream",
     "text": [
      "<class 'pandas.core.frame.DataFrame'>\n",
      "RangeIndex: 19908 entries, 0 to 19907\n",
      "Data columns (total 13 columns):\n",
      " #   Column                Non-Null Count  Dtype  \n",
      "---  ------                --------------  -----  \n",
      " 0   funded_amnt           19908 non-null  int64  \n",
      " 1   loan_term_year        19908 non-null  int64  \n",
      " 2   int_rate              19908 non-null  float64\n",
      " 3   grade_code            19908 non-null  int32  \n",
      " 4   purpose_code          19908 non-null  int32  \n",
      " 5   addr_state_code       19908 non-null  int32  \n",
      " 6   home_ownership_code   19908 non-null  int32  \n",
      " 7   annual_inc            19908 non-null  float64\n",
      " 8   dti                   19908 non-null  float64\n",
      " 9   revol_util            19908 non-null  float64\n",
      " 10  pub_rec_bankruptcies  19908 non-null  float64\n",
      " 11  repaid                19908 non-null  int64  \n",
      " 12  total_pymnt           19908 non-null  float64\n",
      "dtypes: float64(6), int32(4), int64(3)\n",
      "memory usage: 1.7 MB\n"
     ]
    }
   ],
   "source": [
    "df.info()"
   ]
  },
  {
   "cell_type": "markdown",
   "metadata": {},
   "source": [
    "### 5.2 Dividir el dataframe en datos para entrenar y probar   <a id='id52'> </a>\n",
    "\n",
    "- Dividir el DataFrame limpio `df` en `df_train` y `df_test`.\n",
    "- Crear características de entrenamiento y prueba, `X_train` y `X_test`.\n",
    "- Crear etiquetas de entrenamiento y prueba, `y_train` y `y_test`.\n",
    "\n",
    "Utilizaremos las siguientes características para el modelo de clasificación:\n",
    "\n",
    "- **funded_amnt**             (monto financiado)  La cantidad total comprometida con ese préstamo en ese momento.\n",
    "- **int_rate**            (taza de interés)\n",
    "- **grade_code**            (codigo de la calificación de riesgo)\n",
    "- **purpose_code**            (codigo del proposito)\n",
    "- **addr_state_code**         (codigo de la ciudad)\n",
    "- **home_ownership_code**     ( codigo situacion casa)\n",
    "- **annual_inc**              (ingresos anuales)\n",
    "- **dti**                     (Una relación calculada utilizando los pagos de deuda mensuales totales del prestatario )\n",
    "- **revol_util**              (cantidad de crédito que el prestatario está utilizando en relación con todo el crédito  )\n",
    "- **pub_rec_bankruptcies**    ( Número de quiebras de registros públicos )\n"
   ]
  },
  {
   "cell_type": "code",
   "execution_count": 169,
   "metadata": {},
   "outputs": [],
   "source": [
    "from sklearn.model_selection import train_test_split\n",
    "\n",
    "# columnas necesarias para entrenar el modelo de clasificacion, no ponemos la de pago y total pago\n",
    "model_columns = ['funded_amnt', \"int_rate\", \"grade_code\", 'purpose_code', 'addr_state_code',\n",
    "                 'home_ownership_code', 'annual_inc', 'dti', 'revol_util', \n",
    "                 'pub_rec_bankruptcies']\n",
    "\n",
    "# Dividimos el dataFrame df en df_train y df_test. \n",
    "# 60% para dataset e entrenamient, y 40% para dataset de prueba\n",
    "\n",
    "df_train, df_test = train_test_split(df, test_size=0.4, random_state=23)\n",
    "\n",
    "#  No podemos usar df_train y df_test directamente en la clasificación, por lo tanto, \n",
    "#  Definiremos X_train y X_test fuera de df_train, manteniendo sólo las \n",
    "#  columnas del modelo. \n",
    "\n",
    "X_train = df_train[model_columns]\n",
    "X_test = df_test[model_columns]\n",
    "\n",
    "#  A continuación, definimos y_train y y_test con la columna de **repaid**, es decir\n",
    "#  la variable objetivo (Valor a predecir)\n",
    "\n",
    "y_train = df_train.repaid\n",
    "y_test = df_test.repaid"
   ]
  },
  {
   "cell_type": "code",
   "execution_count": 170,
   "metadata": {},
   "outputs": [
    {
     "data": {
      "text/plain": [
       "(11944, 10)"
      ]
     },
     "execution_count": 170,
     "metadata": {},
     "output_type": "execute_result"
    }
   ],
   "source": [
    "# verificamos la cantidad de registros asignados al dataframe de entrenamiento\n",
    "X_train.shape"
   ]
  },
  {
   "cell_type": "code",
   "execution_count": 173,
   "metadata": {},
   "outputs": [
    {
     "data": {
      "text/plain": [
       "(7964, 10)"
      ]
     },
     "execution_count": 173,
     "metadata": {},
     "output_type": "execute_result"
    }
   ],
   "source": [
    "# verificamos la cantidad de registros asignados al dataframe de prueba\n",
    "X_test.shape"
   ]
  },
  {
   "cell_type": "code",
   "execution_count": null,
   "metadata": {},
   "outputs": [],
   "source": []
  },
  {
   "cell_type": "markdown",
   "metadata": {},
   "source": [
    "## 6. Regresión logística  <a id='id6'> </a>\n",
    "\n",
    "- La regresión logística toma un conjunto de variables de entrada, las características (variables) , y estima un valor objetivo.\n",
    "- La regresión logística es similar a la regresión lineal, la diferencia consiste en que **el modelo de regresión logística además calcula una suma ponderada de la entrada características xi y el término de interceptación b**, pero ejecuta este resultado a través de una función no lineal f,  para producir la salida **yhat** (predicción).\n",
    "- El efecto de aplicar la función logística es comprimir la salida de la función lineal para que se limite a un rango entre 0 y 1.\n",
    "- La salida de la fórmula de regresión logística, puede interpretarse como **la probabilidad de que la instancia de datos de entrada pertenezca a la clase positiva, dadas sus características de entrada**.\n",
    "\n"
   ]
  },
  {
   "cell_type": "markdown",
   "metadata": {},
   "source": [
    "### 6.1 Regresión logística sin balanceo de clases   <a id='id61'> </a>\n",
    "\n",
    "- Construir un modelo de regresión logística con el atributo **class_weight** predeterminado. \n",
    "- Entrenar y evaluar el modelo.\n"
   ]
  },
  {
   "cell_type": "code",
   "execution_count": 178,
   "metadata": {},
   "outputs": [
    {
     "data": {
      "text/html": [
       "<style>#sk-container-id-1 {color: black;}#sk-container-id-1 pre{padding: 0;}#sk-container-id-1 div.sk-toggleable {background-color: white;}#sk-container-id-1 label.sk-toggleable__label {cursor: pointer;display: block;width: 100%;margin-bottom: 0;padding: 0.3em;box-sizing: border-box;text-align: center;}#sk-container-id-1 label.sk-toggleable__label-arrow:before {content: \"▸\";float: left;margin-right: 0.25em;color: #696969;}#sk-container-id-1 label.sk-toggleable__label-arrow:hover:before {color: black;}#sk-container-id-1 div.sk-estimator:hover label.sk-toggleable__label-arrow:before {color: black;}#sk-container-id-1 div.sk-toggleable__content {max-height: 0;max-width: 0;overflow: hidden;text-align: left;background-color: #f0f8ff;}#sk-container-id-1 div.sk-toggleable__content pre {margin: 0.2em;color: black;border-radius: 0.25em;background-color: #f0f8ff;}#sk-container-id-1 input.sk-toggleable__control:checked~div.sk-toggleable__content {max-height: 200px;max-width: 100%;overflow: auto;}#sk-container-id-1 input.sk-toggleable__control:checked~label.sk-toggleable__label-arrow:before {content: \"▾\";}#sk-container-id-1 div.sk-estimator input.sk-toggleable__control:checked~label.sk-toggleable__label {background-color: #d4ebff;}#sk-container-id-1 div.sk-label input.sk-toggleable__control:checked~label.sk-toggleable__label {background-color: #d4ebff;}#sk-container-id-1 input.sk-hidden--visually {border: 0;clip: rect(1px 1px 1px 1px);clip: rect(1px, 1px, 1px, 1px);height: 1px;margin: -1px;overflow: hidden;padding: 0;position: absolute;width: 1px;}#sk-container-id-1 div.sk-estimator {font-family: monospace;background-color: #f0f8ff;border: 1px dotted black;border-radius: 0.25em;box-sizing: border-box;margin-bottom: 0.5em;}#sk-container-id-1 div.sk-estimator:hover {background-color: #d4ebff;}#sk-container-id-1 div.sk-parallel-item::after {content: \"\";width: 100%;border-bottom: 1px solid gray;flex-grow: 1;}#sk-container-id-1 div.sk-label:hover label.sk-toggleable__label {background-color: #d4ebff;}#sk-container-id-1 div.sk-serial::before {content: \"\";position: absolute;border-left: 1px solid gray;box-sizing: border-box;top: 0;bottom: 0;left: 50%;z-index: 0;}#sk-container-id-1 div.sk-serial {display: flex;flex-direction: column;align-items: center;background-color: white;padding-right: 0.2em;padding-left: 0.2em;position: relative;}#sk-container-id-1 div.sk-item {position: relative;z-index: 1;}#sk-container-id-1 div.sk-parallel {display: flex;align-items: stretch;justify-content: center;background-color: white;position: relative;}#sk-container-id-1 div.sk-item::before, #sk-container-id-1 div.sk-parallel-item::before {content: \"\";position: absolute;border-left: 1px solid gray;box-sizing: border-box;top: 0;bottom: 0;left: 50%;z-index: -1;}#sk-container-id-1 div.sk-parallel-item {display: flex;flex-direction: column;z-index: 1;position: relative;background-color: white;}#sk-container-id-1 div.sk-parallel-item:first-child::after {align-self: flex-end;width: 50%;}#sk-container-id-1 div.sk-parallel-item:last-child::after {align-self: flex-start;width: 50%;}#sk-container-id-1 div.sk-parallel-item:only-child::after {width: 0;}#sk-container-id-1 div.sk-dashed-wrapped {border: 1px dashed gray;margin: 0 0.4em 0.5em 0.4em;box-sizing: border-box;padding-bottom: 0.4em;background-color: white;}#sk-container-id-1 div.sk-label label {font-family: monospace;font-weight: bold;display: inline-block;line-height: 1.2em;}#sk-container-id-1 div.sk-label-container {text-align: center;}#sk-container-id-1 div.sk-container {/* jupyter's `normalize.less` sets `[hidden] { display: none; }` but bootstrap.min.css set `[hidden] { display: none !important; }` so we also need the `!important` here to be able to override the default hidden behavior on the sphinx rendered scikit-learn.org. See: https://github.com/scikit-learn/scikit-learn/issues/21755 */display: inline-block !important;position: relative;}#sk-container-id-1 div.sk-text-repr-fallback {display: none;}</style><div id=\"sk-container-id-1\" class=\"sk-top-container\"><div class=\"sk-text-repr-fallback\"><pre>LogisticRegression(random_state=0)</pre><b>In a Jupyter environment, please rerun this cell to show the HTML representation or trust the notebook. <br />On GitHub, the HTML representation is unable to render, please try loading this page with nbviewer.org.</b></div><div class=\"sk-container\" hidden><div class=\"sk-item\"><div class=\"sk-estimator sk-toggleable\"><input class=\"sk-toggleable__control sk-hidden--visually\" id=\"sk-estimator-id-1\" type=\"checkbox\" checked><label for=\"sk-estimator-id-1\" class=\"sk-toggleable__label sk-toggleable__label-arrow\">LogisticRegression</label><div class=\"sk-toggleable__content\"><pre>LogisticRegression(random_state=0)</pre></div></div></div></div></div>"
      ],
      "text/plain": [
       "LogisticRegression(random_state=0)"
      ]
     },
     "execution_count": 178,
     "metadata": {},
     "output_type": "execute_result"
    }
   ],
   "source": [
    "from sklearn.linear_model import LogisticRegression\n",
    "\n",
    "# Creamoos el clasificador de regresion logistica\n",
    "clf1 = LogisticRegression(random_state=0)\n",
    "\n",
    "# Entrenamos el clasificador\n",
    "clf1.fit(X_train, y_train)\n"
   ]
  },
  {
   "cell_type": "code",
   "execution_count": 179,
   "metadata": {},
   "outputs": [
    {
     "data": {
      "text/plain": [
       "0.8528968519758875"
      ]
     },
     "execution_count": 179,
     "metadata": {},
     "output_type": "execute_result"
    }
   ],
   "source": [
    "# verificamos la precisión del modelo\n",
    "clf1.score(X_train, y_train)"
   ]
  },
  {
   "cell_type": "code",
   "execution_count": 182,
   "metadata": {},
   "outputs": [
    {
     "name": "stdout",
     "output_type": "stream",
     "text": [
      "Exactitud del modelo de entrenamiento: 85.28968519758875\n"
     ]
    }
   ],
   "source": [
    "# Mostrar la precisión de manera mas amigable\n",
    "\n",
    "print(\"Exactitud del modelo de entrenamiento:\", clf1.score(X_train, y_train) * 100 )"
   ]
  },
  {
   "cell_type": "code",
   "execution_count": 184,
   "metadata": {},
   "outputs": [
    {
     "name": "stdout",
     "output_type": "stream",
     "text": [
      "Valor de Intercept: [0.00520923]\n"
     ]
    }
   ],
   "source": [
    "# Valor del intercept \n",
    "print(\"Valor de Intercept:\", clf1.intercept_)"
   ]
  },
  {
   "cell_type": "code",
   "execution_count": 186,
   "metadata": {},
   "outputs": [
    {
     "data": {
      "text/plain": [
       "array([[-1.46185974e-05,  1.28220276e-02, -9.90929753e-03,\n",
       "         1.66153089e-02,  1.46127422e-02,  1.84571648e-02,\n",
       "         1.44723991e-05,  5.71274297e-02, -3.30225360e-03,\n",
       "        -1.41998698e-04]])"
      ]
     },
     "execution_count": 186,
     "metadata": {},
     "output_type": "execute_result"
    }
   ],
   "source": [
    "# Mostramos los coeficientes ( Uno por cada variable predictora)\n",
    "clf1.coef_"
   ]
  },
  {
   "cell_type": "code",
   "execution_count": 188,
   "metadata": {
    "scrolled": true
   },
   "outputs": [
    {
     "name": "stdout",
     "output_type": "stream",
     "text": [
      "Valores de Coeficientes: [('funded_amnt', -1.4618597390769427e-05), ('int_rate', 0.012822027551298569), ('grade_code', -0.009909297533925982), ('purpose_code', 0.016615308929020477), ('addr_state_code', 0.014612742166187295), ('home_ownership_code', 0.01845716484089134), ('annual_inc', 1.4472399097446871e-05), ('dti', 0.05712742968411012), ('revol_util', -0.0033022535982218737), ('pub_rec_bankruptcies', -0.00014199869794982603)]\n"
     ]
    }
   ],
   "source": [
    "# Mostrar los coeficientes de forma mas amigable\n",
    "\n",
    "print(\"Valores de Coeficientes:\", list(zip(X_train.columns, clf1.coef_.flatten(), )))\n"
   ]
  },
  {
   "cell_type": "markdown",
   "metadata": {},
   "source": [
    "#### Hacer la predicción con los datos de prueba"
   ]
  },
  {
   "cell_type": "code",
   "execution_count": 191,
   "metadata": {},
   "outputs": [
    {
     "data": {
      "text/plain": [
       "array([1, 1, 1, ..., 1, 1, 1], dtype=int64)"
      ]
     },
     "execution_count": 191,
     "metadata": {},
     "output_type": "execute_result"
    }
   ],
   "source": [
    "yhat1 =  clf1.predict(X_test)\n",
    "yhat1"
   ]
  },
  {
   "cell_type": "code",
   "execution_count": 193,
   "metadata": {},
   "outputs": [
    {
     "name": "stdout",
     "output_type": "stream",
     "text": [
      "Verificar la Exactitud del modelo de prueba: 85.10798593671521\n"
     ]
    }
   ],
   "source": [
    "print(\"Verificar la Exactitud del modelo de prueba:\", clf1.score(X_test, y_test) * 100 )"
   ]
  },
  {
   "cell_type": "markdown",
   "metadata": {},
   "source": [
    "#### Realizar una prediccion manual, es decir, pasar los datos directamente\n",
    "\n",
    "- A manera de orientación de que valores pasar al modelo, podemos verificar los valores de los 3 primeros registros del conjunto de datos de entrenamiento."
   ]
  },
  {
   "cell_type": "code",
   "execution_count": 196,
   "metadata": {},
   "outputs": [
    {
     "data": {
      "text/html": [
       "<div>\n",
       "<style scoped>\n",
       "    .dataframe tbody tr th:only-of-type {\n",
       "        vertical-align: middle;\n",
       "    }\n",
       "\n",
       "    .dataframe tbody tr th {\n",
       "        vertical-align: top;\n",
       "    }\n",
       "\n",
       "    .dataframe thead th {\n",
       "        text-align: right;\n",
       "    }\n",
       "</style>\n",
       "<table border=\"1\" class=\"dataframe\">\n",
       "  <thead>\n",
       "    <tr style=\"text-align: right;\">\n",
       "      <th></th>\n",
       "      <th>funded_amnt</th>\n",
       "      <th>int_rate</th>\n",
       "      <th>grade_code</th>\n",
       "      <th>purpose_code</th>\n",
       "      <th>addr_state_code</th>\n",
       "      <th>home_ownership_code</th>\n",
       "      <th>annual_inc</th>\n",
       "      <th>dti</th>\n",
       "      <th>revol_util</th>\n",
       "      <th>pub_rec_bankruptcies</th>\n",
       "    </tr>\n",
       "  </thead>\n",
       "  <tbody>\n",
       "    <tr>\n",
       "      <th>1907</th>\n",
       "      <td>3500</td>\n",
       "      <td>13.49</td>\n",
       "      <td>2</td>\n",
       "      <td>2</td>\n",
       "      <td>1</td>\n",
       "      <td>4</td>\n",
       "      <td>65000.0</td>\n",
       "      <td>22.15</td>\n",
       "      <td>83.1</td>\n",
       "      <td>0.0</td>\n",
       "    </tr>\n",
       "    <tr>\n",
       "      <th>14346</th>\n",
       "      <td>6000</td>\n",
       "      <td>10.38</td>\n",
       "      <td>1</td>\n",
       "      <td>9</td>\n",
       "      <td>2</td>\n",
       "      <td>4</td>\n",
       "      <td>50000.0</td>\n",
       "      <td>12.05</td>\n",
       "      <td>5.4</td>\n",
       "      <td>0.0</td>\n",
       "    </tr>\n",
       "    <tr>\n",
       "      <th>6543</th>\n",
       "      <td>5000</td>\n",
       "      <td>13.99</td>\n",
       "      <td>2</td>\n",
       "      <td>13</td>\n",
       "      <td>1</td>\n",
       "      <td>0</td>\n",
       "      <td>48000.0</td>\n",
       "      <td>1.15</td>\n",
       "      <td>60.8</td>\n",
       "      <td>0.0</td>\n",
       "    </tr>\n",
       "  </tbody>\n",
       "</table>\n",
       "</div>"
      ],
      "text/plain": [
       "       funded_amnt  int_rate  grade_code  purpose_code  addr_state_code  \\\n",
       "1907          3500     13.49           2             2                1   \n",
       "14346         6000     10.38           1             9                2   \n",
       "6543          5000     13.99           2            13                1   \n",
       "\n",
       "       home_ownership_code  annual_inc    dti  revol_util  \\\n",
       "1907                     4     65000.0  22.15        83.1   \n",
       "14346                    4     50000.0  12.05         5.4   \n",
       "6543                     0     48000.0   1.15        60.8   \n",
       "\n",
       "       pub_rec_bankruptcies  \n",
       "1907                    0.0  \n",
       "14346                   0.0  \n",
       "6543                    0.0  "
      ]
     },
     "execution_count": 196,
     "metadata": {},
     "output_type": "execute_result"
    }
   ],
   "source": [
    "X_train.head(3)"
   ]
  },
  {
   "cell_type": "code",
   "execution_count": 198,
   "metadata": {},
   "outputs": [
    {
     "name": "stderr",
     "output_type": "stream",
     "text": [
      "C:\\Anaconda\\Lib\\site-packages\\sklearn\\base.py:464: UserWarning: X does not have valid feature names, but LogisticRegression was fitted with feature names\n",
      "  warnings.warn(\n"
     ]
    }
   ],
   "source": [
    "# Debemos proporcionar 10 valores (variables predictoras)\n",
    "\n",
    "yhat_predmanual =  clf1.predict( [[5000, 15.5 , 5, 3, 4, 4, 30000, 12, 12, 0 ]] )"
   ]
  },
  {
   "cell_type": "code",
   "execution_count": 200,
   "metadata": {},
   "outputs": [
    {
     "data": {
      "text/plain": [
       "array([1], dtype=int64)"
      ]
     },
     "execution_count": 200,
     "metadata": {},
     "output_type": "execute_result"
    }
   ],
   "source": [
    "# Resultado de la  prediccion manual\n",
    "# El resultado es 1,  es decir, que el prestamo si se paga\n",
    "yhat_predmanual"
   ]
  },
  {
   "cell_type": "code",
   "execution_count": null,
   "metadata": {},
   "outputs": [],
   "source": []
  },
  {
   "cell_type": "markdown",
   "metadata": {},
   "source": [
    "### 6.2 Regresión logística con peso de clase balanceado     <a id='id62'> </a>\n",
    "\n",
    "- Debido a que tenemos un **conjunto de datos desbalanceado**, originado porque el 85% de los datos tienen el estatus de pagado, mientras que, el restante 15% tiene el estatus de cancelado.  \n",
    "- Podemos especificar al **clasificador que use un peso de clases equilibrado** con el método **class_weight='balanced'**.\n",
    "\n",
    "- Construir un modelo de regresión logística con **class_weight='balanced'**. \n",
    "- Entrenar y evaluar el modelo.\n",
    "\n",
    "- Utilizar las mismas caracteristicas que el primer modelo LogisticRegression.  \n",
    "  \n",
    "Cómo cambia la puntuación de precisión?\n"
   ]
  },
  {
   "cell_type": "code",
   "execution_count": 204,
   "metadata": {},
   "outputs": [
    {
     "data": {
      "text/html": [
       "<style>#sk-container-id-2 {color: black;}#sk-container-id-2 pre{padding: 0;}#sk-container-id-2 div.sk-toggleable {background-color: white;}#sk-container-id-2 label.sk-toggleable__label {cursor: pointer;display: block;width: 100%;margin-bottom: 0;padding: 0.3em;box-sizing: border-box;text-align: center;}#sk-container-id-2 label.sk-toggleable__label-arrow:before {content: \"▸\";float: left;margin-right: 0.25em;color: #696969;}#sk-container-id-2 label.sk-toggleable__label-arrow:hover:before {color: black;}#sk-container-id-2 div.sk-estimator:hover label.sk-toggleable__label-arrow:before {color: black;}#sk-container-id-2 div.sk-toggleable__content {max-height: 0;max-width: 0;overflow: hidden;text-align: left;background-color: #f0f8ff;}#sk-container-id-2 div.sk-toggleable__content pre {margin: 0.2em;color: black;border-radius: 0.25em;background-color: #f0f8ff;}#sk-container-id-2 input.sk-toggleable__control:checked~div.sk-toggleable__content {max-height: 200px;max-width: 100%;overflow: auto;}#sk-container-id-2 input.sk-toggleable__control:checked~label.sk-toggleable__label-arrow:before {content: \"▾\";}#sk-container-id-2 div.sk-estimator input.sk-toggleable__control:checked~label.sk-toggleable__label {background-color: #d4ebff;}#sk-container-id-2 div.sk-label input.sk-toggleable__control:checked~label.sk-toggleable__label {background-color: #d4ebff;}#sk-container-id-2 input.sk-hidden--visually {border: 0;clip: rect(1px 1px 1px 1px);clip: rect(1px, 1px, 1px, 1px);height: 1px;margin: -1px;overflow: hidden;padding: 0;position: absolute;width: 1px;}#sk-container-id-2 div.sk-estimator {font-family: monospace;background-color: #f0f8ff;border: 1px dotted black;border-radius: 0.25em;box-sizing: border-box;margin-bottom: 0.5em;}#sk-container-id-2 div.sk-estimator:hover {background-color: #d4ebff;}#sk-container-id-2 div.sk-parallel-item::after {content: \"\";width: 100%;border-bottom: 1px solid gray;flex-grow: 1;}#sk-container-id-2 div.sk-label:hover label.sk-toggleable__label {background-color: #d4ebff;}#sk-container-id-2 div.sk-serial::before {content: \"\";position: absolute;border-left: 1px solid gray;box-sizing: border-box;top: 0;bottom: 0;left: 50%;z-index: 0;}#sk-container-id-2 div.sk-serial {display: flex;flex-direction: column;align-items: center;background-color: white;padding-right: 0.2em;padding-left: 0.2em;position: relative;}#sk-container-id-2 div.sk-item {position: relative;z-index: 1;}#sk-container-id-2 div.sk-parallel {display: flex;align-items: stretch;justify-content: center;background-color: white;position: relative;}#sk-container-id-2 div.sk-item::before, #sk-container-id-2 div.sk-parallel-item::before {content: \"\";position: absolute;border-left: 1px solid gray;box-sizing: border-box;top: 0;bottom: 0;left: 50%;z-index: -1;}#sk-container-id-2 div.sk-parallel-item {display: flex;flex-direction: column;z-index: 1;position: relative;background-color: white;}#sk-container-id-2 div.sk-parallel-item:first-child::after {align-self: flex-end;width: 50%;}#sk-container-id-2 div.sk-parallel-item:last-child::after {align-self: flex-start;width: 50%;}#sk-container-id-2 div.sk-parallel-item:only-child::after {width: 0;}#sk-container-id-2 div.sk-dashed-wrapped {border: 1px dashed gray;margin: 0 0.4em 0.5em 0.4em;box-sizing: border-box;padding-bottom: 0.4em;background-color: white;}#sk-container-id-2 div.sk-label label {font-family: monospace;font-weight: bold;display: inline-block;line-height: 1.2em;}#sk-container-id-2 div.sk-label-container {text-align: center;}#sk-container-id-2 div.sk-container {/* jupyter's `normalize.less` sets `[hidden] { display: none; }` but bootstrap.min.css set `[hidden] { display: none !important; }` so we also need the `!important` here to be able to override the default hidden behavior on the sphinx rendered scikit-learn.org. See: https://github.com/scikit-learn/scikit-learn/issues/21755 */display: inline-block !important;position: relative;}#sk-container-id-2 div.sk-text-repr-fallback {display: none;}</style><div id=\"sk-container-id-2\" class=\"sk-top-container\"><div class=\"sk-text-repr-fallback\"><pre>LogisticRegression(class_weight=&#x27;balanced&#x27;, random_state=0)</pre><b>In a Jupyter environment, please rerun this cell to show the HTML representation or trust the notebook. <br />On GitHub, the HTML representation is unable to render, please try loading this page with nbviewer.org.</b></div><div class=\"sk-container\" hidden><div class=\"sk-item\"><div class=\"sk-estimator sk-toggleable\"><input class=\"sk-toggleable__control sk-hidden--visually\" id=\"sk-estimator-id-2\" type=\"checkbox\" checked><label for=\"sk-estimator-id-2\" class=\"sk-toggleable__label sk-toggleable__label-arrow\">LogisticRegression</label><div class=\"sk-toggleable__content\"><pre>LogisticRegression(class_weight=&#x27;balanced&#x27;, random_state=0)</pre></div></div></div></div></div>"
      ],
      "text/plain": [
       "LogisticRegression(class_weight='balanced', random_state=0)"
      ]
     },
     "execution_count": 204,
     "metadata": {},
     "output_type": "execute_result"
    }
   ],
   "source": [
    "# Crear segundo clasificador con balanceo de clases\n",
    "clf2 = LogisticRegression(random_state=0, class_weight=\"balanced\")\n",
    "\n",
    "# Entrenar el nuevo clasificador \n",
    "clf2.fit(X_train, y_train)"
   ]
  },
  {
   "cell_type": "code",
   "execution_count": 206,
   "metadata": {},
   "outputs": [
    {
     "name": "stdout",
     "output_type": "stream",
     "text": [
      "Exactitud del modelo de entrenamiento: 0.4664266577361018\n"
     ]
    }
   ],
   "source": [
    "\n",
    "print(\"Exactitud del modelo de entrenamiento:\", clf2.score(X_train, y_train))"
   ]
  },
  {
   "cell_type": "code",
   "execution_count": 208,
   "metadata": {},
   "outputs": [
    {
     "data": {
      "text/plain": [
       "array([1, 0, 1, ..., 0, 0, 0], dtype=int64)"
      ]
     },
     "execution_count": 208,
     "metadata": {},
     "output_type": "execute_result"
    }
   ],
   "source": [
    "# hacer la prediccion de prueba\n",
    "\n",
    "yhat2 =  clf2.predict(X_test)\n",
    "yhat2"
   ]
  },
  {
   "cell_type": "code",
   "execution_count": 210,
   "metadata": {},
   "outputs": [
    {
     "name": "stdout",
     "output_type": "stream",
     "text": [
      "Exactitud del modelo de prueba: 0.479156202913109\n"
     ]
    }
   ],
   "source": [
    "print(\"Exactitud del modelo de prueba:\", clf2.score(X_test, y_test))"
   ]
  },
  {
   "cell_type": "markdown",
   "metadata": {},
   "source": [
    "#### Observaciones\n",
    "\n",
    "- Como resultado, la precisión del segundo clasificador disminuye, aunque podemos verificar que paso exactamente con la clasificación.\n",
    "- Podemos usar métodos más sofisticados para evaluar el funcionamiento del clasificador.\n",
    "- En el siguiente tema veremos lo que es la matriz de confusión"
   ]
  },
  {
   "cell_type": "code",
   "execution_count": null,
   "metadata": {},
   "outputs": [],
   "source": []
  },
  {
   "cell_type": "markdown",
   "metadata": {},
   "source": [
    "##  7. Evaluacion del modelo - Matriz de confusión  <a id='id7'> </a>\n",
    "\n",
    "- Una vez que un modelo es entrenado, la **evaluación** del mismo, **proporciona retroalimentación crítica sobre las características de rendimiento del modelo entrenado**.\n",
    "- Ayuda a comprender **qué instancias de datos** se están clasificando o **prediciendo incorrectamente**.\n",
    "- Permite **valorar que tan \"bueno\" es un modelo de clasificación** basado en aprendizaje automático. \n",
    "- Muestra los tipos de predicciones correctas e incorrectas que realiza el clasificador.\n",
    "- La **diagonal principal contiene la suma de todas las predicciones correctas**.\n",
    "- La **diagonal secundaria refleja los errores del clasificador**: los falsos positivos y los falsos negativos.\n",
    "\n",
    "#### Matriz de confusión\n",
    "| Negativo (N) | Positivo (P) |\n",
    "| --------|---------|\n",
    "|    TN |    FP   |\n",
    "|   FN |  TP |\n"
   ]
  },
  {
   "cell_type": "markdown",
   "metadata": {},
   "source": [
    "### 7.1 Evaluación con matriz de confusión en clasificador 1  <a id='id71'> </a>"
   ]
  },
  {
   "cell_type": "code",
   "execution_count": 216,
   "metadata": {},
   "outputs": [],
   "source": [
    "# Importamos librerias necesarias para evaluacion de modelos\n",
    "\n",
    "from sklearn import metrics"
   ]
  },
  {
   "cell_type": "code",
   "execution_count": 218,
   "metadata": {},
   "outputs": [
    {
     "data": {
      "text/plain": [
       "array([[   0, 1186],\n",
       "       [   0, 6778]], dtype=int64)"
      ]
     },
     "execution_count": 218,
     "metadata": {},
     "output_type": "execute_result"
    }
   ],
   "source": [
    "# Como parametros proporcionamos el valor original de la columna paid ( Pagado o No Pagado)\n",
    "# y el valor de la prediccion del clasificador 1 (en este caso yhat1)\n",
    "\n",
    "metrics.confusion_matrix(y_test, yhat1 )"
   ]
  },
  {
   "cell_type": "code",
   "execution_count": 220,
   "metadata": {},
   "outputs": [
    {
     "name": "stdout",
     "output_type": "stream",
     "text": [
      "Matriz Confusion:\n",
      " [[   0 1186]\n",
      " [   0 6778]]\n"
     ]
    }
   ],
   "source": [
    "\n",
    "print(f'Matriz Confusion:\\n {metrics.confusion_matrix(y_test, yhat1 )}')"
   ]
  },
  {
   "cell_type": "markdown",
   "metadata": {},
   "source": [
    "#### Observaciones de resultados de la matriz de confusión\n",
    "\n",
    "Basandonos en un modelo binario, en el cual queremos predecir si el prestamo es pagado o no.\n",
    "\n",
    "De la matriz de confusion observamos que\n",
    "- FP 1,186 son clasificados como Falsos Positivos, \n",
    "- TP 6,778 son clasificados como Verdaderos positivos  \n",
    "\n",
    "- La diagonal principal contiene la suma de todos los valores correctos, es decir, en 0, como que no van a pagar, 6,778 que si se van a pagar\n",
    "\n",
    "- La diagonal secundaria contiene la suma de todos los errores de clasificacion, en este caso, 0 como que no se van a pagar y 1,186 que si se van a pagar.\n",
    " \n",
    "- El modelo es capaz de predecir correctamente 6,778 valores de los 7,964, equivalente al .8510  85,10%  \n",
    "\n",
    "Otra observacion es que el clasificador no fue capaz de predecir los que no van a pagar"
   ]
  },
  {
   "cell_type": "code",
   "execution_count": null,
   "metadata": {},
   "outputs": [],
   "source": []
  },
  {
   "cell_type": "markdown",
   "metadata": {},
   "source": [
    "### 7.2 Evaluación con matriz de confusión en clasificador 2 <a id='id72'> </a>"
   ]
  },
  {
   "cell_type": "code",
   "execution_count": 225,
   "metadata": {},
   "outputs": [
    {
     "name": "stdout",
     "output_type": "stream",
     "text": [
      "Matriz Confusion:\n",
      " [[ 866  320]\n",
      " [3828 2950]]\n"
     ]
    }
   ],
   "source": [
    "#  Pasamos el valor original y el valor de la prediccion del clasificador 2\n",
    "    \n",
    "print(f'Matriz Confusion:\\n {metrics.confusion_matrix(y_test, yhat2 )}')"
   ]
  },
  {
   "cell_type": "markdown",
   "metadata": {},
   "source": [
    "#### Observaciones de resultados de la matriz de confusión método balanceado\n",
    "\n",
    "De la matriz de confusion observamos que:\n",
    "- TN Verdaderos negativos son 866\n",
    "- FN Falsos Negativos 3,828\n",
    "- Falsos Positivos 320\n",
    "- Verdaderos positivos 2,950\n",
    "\n",
    "Resultados acertados  = 866 + 2,950 = 3,816 % 7964    = 47.91% de precisión\n",
    "\n",
    "- Por otra parte, existen 866 Verdaderos negativos (los que no pagan), esto representa que 866 / 7,964  = 10.87%\n",
    "3288 que deberian ser positivos de predicieron como negativos"
   ]
  },
  {
   "cell_type": "code",
   "execution_count": 228,
   "metadata": {},
   "outputs": [
    {
     "name": "stdout",
     "output_type": "stream",
     "text": [
      "3816 4148\n"
     ]
    }
   ],
   "source": [
    "positivos = 866 + 2950\n",
    "negativos = 3828 + 320\n",
    "print(positivos, negativos)"
   ]
  },
  {
   "cell_type": "code",
   "execution_count": null,
   "metadata": {},
   "outputs": [],
   "source": []
  },
  {
   "cell_type": "markdown",
   "metadata": {},
   "source": [
    "## 8. Clasificador K-Nearest Neighbors  (KNN)   <a id='id8'> </a>\n",
    "\n",
    "- El algoritmo K-Nearest Neighbors se puede utilizar para la clasificación y regresión. \n",
    "- Los clasificadores **k-nn son algoritmos de aprendizaje supervisado** basados en instancias o **basados en memoria**. \n",
    "- Los métodos de aprendizaje basados en instancias, **funcionan memorizando los ejemplos etiquetados que ven en el conjunto de entrenamiento, y luego, usan esos ejemplos memorizados para clasificar nuevos objetos más adelante**."
   ]
  },
  {
   "cell_type": "markdown",
   "metadata": {},
   "source": [
    "### 8.1 Clasificador KNN con 1 vecino    <a id='id81'> </a>"
   ]
  },
  {
   "cell_type": "code",
   "execution_count": 233,
   "metadata": {},
   "outputs": [],
   "source": [
    "from sklearn.neighbors import KNeighborsClassifier"
   ]
  },
  {
   "cell_type": "code",
   "execution_count": 235,
   "metadata": {},
   "outputs": [
    {
     "data": {
      "text/html": [
       "<style>#sk-container-id-3 {color: black;}#sk-container-id-3 pre{padding: 0;}#sk-container-id-3 div.sk-toggleable {background-color: white;}#sk-container-id-3 label.sk-toggleable__label {cursor: pointer;display: block;width: 100%;margin-bottom: 0;padding: 0.3em;box-sizing: border-box;text-align: center;}#sk-container-id-3 label.sk-toggleable__label-arrow:before {content: \"▸\";float: left;margin-right: 0.25em;color: #696969;}#sk-container-id-3 label.sk-toggleable__label-arrow:hover:before {color: black;}#sk-container-id-3 div.sk-estimator:hover label.sk-toggleable__label-arrow:before {color: black;}#sk-container-id-3 div.sk-toggleable__content {max-height: 0;max-width: 0;overflow: hidden;text-align: left;background-color: #f0f8ff;}#sk-container-id-3 div.sk-toggleable__content pre {margin: 0.2em;color: black;border-radius: 0.25em;background-color: #f0f8ff;}#sk-container-id-3 input.sk-toggleable__control:checked~div.sk-toggleable__content {max-height: 200px;max-width: 100%;overflow: auto;}#sk-container-id-3 input.sk-toggleable__control:checked~label.sk-toggleable__label-arrow:before {content: \"▾\";}#sk-container-id-3 div.sk-estimator input.sk-toggleable__control:checked~label.sk-toggleable__label {background-color: #d4ebff;}#sk-container-id-3 div.sk-label input.sk-toggleable__control:checked~label.sk-toggleable__label {background-color: #d4ebff;}#sk-container-id-3 input.sk-hidden--visually {border: 0;clip: rect(1px 1px 1px 1px);clip: rect(1px, 1px, 1px, 1px);height: 1px;margin: -1px;overflow: hidden;padding: 0;position: absolute;width: 1px;}#sk-container-id-3 div.sk-estimator {font-family: monospace;background-color: #f0f8ff;border: 1px dotted black;border-radius: 0.25em;box-sizing: border-box;margin-bottom: 0.5em;}#sk-container-id-3 div.sk-estimator:hover {background-color: #d4ebff;}#sk-container-id-3 div.sk-parallel-item::after {content: \"\";width: 100%;border-bottom: 1px solid gray;flex-grow: 1;}#sk-container-id-3 div.sk-label:hover label.sk-toggleable__label {background-color: #d4ebff;}#sk-container-id-3 div.sk-serial::before {content: \"\";position: absolute;border-left: 1px solid gray;box-sizing: border-box;top: 0;bottom: 0;left: 50%;z-index: 0;}#sk-container-id-3 div.sk-serial {display: flex;flex-direction: column;align-items: center;background-color: white;padding-right: 0.2em;padding-left: 0.2em;position: relative;}#sk-container-id-3 div.sk-item {position: relative;z-index: 1;}#sk-container-id-3 div.sk-parallel {display: flex;align-items: stretch;justify-content: center;background-color: white;position: relative;}#sk-container-id-3 div.sk-item::before, #sk-container-id-3 div.sk-parallel-item::before {content: \"\";position: absolute;border-left: 1px solid gray;box-sizing: border-box;top: 0;bottom: 0;left: 50%;z-index: -1;}#sk-container-id-3 div.sk-parallel-item {display: flex;flex-direction: column;z-index: 1;position: relative;background-color: white;}#sk-container-id-3 div.sk-parallel-item:first-child::after {align-self: flex-end;width: 50%;}#sk-container-id-3 div.sk-parallel-item:last-child::after {align-self: flex-start;width: 50%;}#sk-container-id-3 div.sk-parallel-item:only-child::after {width: 0;}#sk-container-id-3 div.sk-dashed-wrapped {border: 1px dashed gray;margin: 0 0.4em 0.5em 0.4em;box-sizing: border-box;padding-bottom: 0.4em;background-color: white;}#sk-container-id-3 div.sk-label label {font-family: monospace;font-weight: bold;display: inline-block;line-height: 1.2em;}#sk-container-id-3 div.sk-label-container {text-align: center;}#sk-container-id-3 div.sk-container {/* jupyter's `normalize.less` sets `[hidden] { display: none; }` but bootstrap.min.css set `[hidden] { display: none !important; }` so we also need the `!important` here to be able to override the default hidden behavior on the sphinx rendered scikit-learn.org. See: https://github.com/scikit-learn/scikit-learn/issues/21755 */display: inline-block !important;position: relative;}#sk-container-id-3 div.sk-text-repr-fallback {display: none;}</style><div id=\"sk-container-id-3\" class=\"sk-top-container\"><div class=\"sk-text-repr-fallback\"><pre>KNeighborsClassifier(n_neighbors=1)</pre><b>In a Jupyter environment, please rerun this cell to show the HTML representation or trust the notebook. <br />On GitHub, the HTML representation is unable to render, please try loading this page with nbviewer.org.</b></div><div class=\"sk-container\" hidden><div class=\"sk-item\"><div class=\"sk-estimator sk-toggleable\"><input class=\"sk-toggleable__control sk-hidden--visually\" id=\"sk-estimator-id-3\" type=\"checkbox\" checked><label for=\"sk-estimator-id-3\" class=\"sk-toggleable__label sk-toggleable__label-arrow\">KNeighborsClassifier</label><div class=\"sk-toggleable__content\"><pre>KNeighborsClassifier(n_neighbors=1)</pre></div></div></div></div></div>"
      ],
      "text/plain": [
       "KNeighborsClassifier(n_neighbors=1)"
      ]
     },
     "execution_count": 235,
     "metadata": {},
     "output_type": "execute_result"
    }
   ],
   "source": [
    "      # Declaramos el clasificador KNN con un vecino, o K =1 \n",
    "knn1 = KNeighborsClassifier(n_neighbors = 1)\n",
    "knn1"
   ]
  },
  {
   "cell_type": "markdown",
   "metadata": {},
   "source": [
    "#### Entrenar el clasificador"
   ]
  },
  {
   "cell_type": "code",
   "execution_count": 238,
   "metadata": {},
   "outputs": [
    {
     "data": {
      "text/html": [
       "<style>#sk-container-id-4 {color: black;}#sk-container-id-4 pre{padding: 0;}#sk-container-id-4 div.sk-toggleable {background-color: white;}#sk-container-id-4 label.sk-toggleable__label {cursor: pointer;display: block;width: 100%;margin-bottom: 0;padding: 0.3em;box-sizing: border-box;text-align: center;}#sk-container-id-4 label.sk-toggleable__label-arrow:before {content: \"▸\";float: left;margin-right: 0.25em;color: #696969;}#sk-container-id-4 label.sk-toggleable__label-arrow:hover:before {color: black;}#sk-container-id-4 div.sk-estimator:hover label.sk-toggleable__label-arrow:before {color: black;}#sk-container-id-4 div.sk-toggleable__content {max-height: 0;max-width: 0;overflow: hidden;text-align: left;background-color: #f0f8ff;}#sk-container-id-4 div.sk-toggleable__content pre {margin: 0.2em;color: black;border-radius: 0.25em;background-color: #f0f8ff;}#sk-container-id-4 input.sk-toggleable__control:checked~div.sk-toggleable__content {max-height: 200px;max-width: 100%;overflow: auto;}#sk-container-id-4 input.sk-toggleable__control:checked~label.sk-toggleable__label-arrow:before {content: \"▾\";}#sk-container-id-4 div.sk-estimator input.sk-toggleable__control:checked~label.sk-toggleable__label {background-color: #d4ebff;}#sk-container-id-4 div.sk-label input.sk-toggleable__control:checked~label.sk-toggleable__label {background-color: #d4ebff;}#sk-container-id-4 input.sk-hidden--visually {border: 0;clip: rect(1px 1px 1px 1px);clip: rect(1px, 1px, 1px, 1px);height: 1px;margin: -1px;overflow: hidden;padding: 0;position: absolute;width: 1px;}#sk-container-id-4 div.sk-estimator {font-family: monospace;background-color: #f0f8ff;border: 1px dotted black;border-radius: 0.25em;box-sizing: border-box;margin-bottom: 0.5em;}#sk-container-id-4 div.sk-estimator:hover {background-color: #d4ebff;}#sk-container-id-4 div.sk-parallel-item::after {content: \"\";width: 100%;border-bottom: 1px solid gray;flex-grow: 1;}#sk-container-id-4 div.sk-label:hover label.sk-toggleable__label {background-color: #d4ebff;}#sk-container-id-4 div.sk-serial::before {content: \"\";position: absolute;border-left: 1px solid gray;box-sizing: border-box;top: 0;bottom: 0;left: 50%;z-index: 0;}#sk-container-id-4 div.sk-serial {display: flex;flex-direction: column;align-items: center;background-color: white;padding-right: 0.2em;padding-left: 0.2em;position: relative;}#sk-container-id-4 div.sk-item {position: relative;z-index: 1;}#sk-container-id-4 div.sk-parallel {display: flex;align-items: stretch;justify-content: center;background-color: white;position: relative;}#sk-container-id-4 div.sk-item::before, #sk-container-id-4 div.sk-parallel-item::before {content: \"\";position: absolute;border-left: 1px solid gray;box-sizing: border-box;top: 0;bottom: 0;left: 50%;z-index: -1;}#sk-container-id-4 div.sk-parallel-item {display: flex;flex-direction: column;z-index: 1;position: relative;background-color: white;}#sk-container-id-4 div.sk-parallel-item:first-child::after {align-self: flex-end;width: 50%;}#sk-container-id-4 div.sk-parallel-item:last-child::after {align-self: flex-start;width: 50%;}#sk-container-id-4 div.sk-parallel-item:only-child::after {width: 0;}#sk-container-id-4 div.sk-dashed-wrapped {border: 1px dashed gray;margin: 0 0.4em 0.5em 0.4em;box-sizing: border-box;padding-bottom: 0.4em;background-color: white;}#sk-container-id-4 div.sk-label label {font-family: monospace;font-weight: bold;display: inline-block;line-height: 1.2em;}#sk-container-id-4 div.sk-label-container {text-align: center;}#sk-container-id-4 div.sk-container {/* jupyter's `normalize.less` sets `[hidden] { display: none; }` but bootstrap.min.css set `[hidden] { display: none !important; }` so we also need the `!important` here to be able to override the default hidden behavior on the sphinx rendered scikit-learn.org. See: https://github.com/scikit-learn/scikit-learn/issues/21755 */display: inline-block !important;position: relative;}#sk-container-id-4 div.sk-text-repr-fallback {display: none;}</style><div id=\"sk-container-id-4\" class=\"sk-top-container\"><div class=\"sk-text-repr-fallback\"><pre>KNeighborsClassifier(n_neighbors=1)</pre><b>In a Jupyter environment, please rerun this cell to show the HTML representation or trust the notebook. <br />On GitHub, the HTML representation is unable to render, please try loading this page with nbviewer.org.</b></div><div class=\"sk-container\" hidden><div class=\"sk-item\"><div class=\"sk-estimator sk-toggleable\"><input class=\"sk-toggleable__control sk-hidden--visually\" id=\"sk-estimator-id-4\" type=\"checkbox\" checked><label for=\"sk-estimator-id-4\" class=\"sk-toggleable__label sk-toggleable__label-arrow\">KNeighborsClassifier</label><div class=\"sk-toggleable__content\"><pre>KNeighborsClassifier(n_neighbors=1)</pre></div></div></div></div></div>"
      ],
      "text/plain": [
       "KNeighborsClassifier(n_neighbors=1)"
      ]
     },
     "execution_count": 238,
     "metadata": {},
     "output_type": "execute_result"
    }
   ],
   "source": [
    "knn1.fit(X_train, y_train)"
   ]
  },
  {
   "cell_type": "code",
   "execution_count": 240,
   "metadata": {},
   "outputs": [
    {
     "name": "stdout",
     "output_type": "stream",
     "text": [
      " Precision de la fase de entrenamiento con K = 1, es  100.0\n"
     ]
    }
   ],
   "source": [
    "print(\" Precision de la fase de entrenamiento con K = 1, es \",\n",
    "      knn1.score( X_train, y_train ) * 100 )"
   ]
  },
  {
   "cell_type": "markdown",
   "metadata": {},
   "source": [
    "#### Ejecutar la prediccion del modelo"
   ]
  },
  {
   "cell_type": "code",
   "execution_count": 243,
   "metadata": {},
   "outputs": [
    {
     "data": {
      "text/plain": [
       "array([1, 1, 1, ..., 0, 1, 1], dtype=int64)"
      ]
     },
     "execution_count": 243,
     "metadata": {},
     "output_type": "execute_result"
    }
   ],
   "source": [
    "yhat_knn1 = knn1.predict(X_test)\n",
    "yhat_knn1"
   ]
  },
  {
   "cell_type": "code",
   "execution_count": 245,
   "metadata": {},
   "outputs": [
    {
     "data": {
      "text/plain": [
       "7964"
      ]
     },
     "execution_count": 245,
     "metadata": {},
     "output_type": "execute_result"
    }
   ],
   "source": [
    "yhat_knn1.size"
   ]
  },
  {
   "cell_type": "markdown",
   "metadata": {},
   "source": [
    "####  Estimar la precisión del modelo con datos no conocidos, es decir, los datos de prueba"
   ]
  },
  {
   "cell_type": "code",
   "execution_count": 248,
   "metadata": {},
   "outputs": [
    {
     "name": "stdout",
     "output_type": "stream",
     "text": [
      " Precision de la fase de prueba con k = 1, es  75.74083375188347\n"
     ]
    }
   ],
   "source": [
    "print(\" Precision de la fase de prueba con k = 1, es \",\n",
    "      knn1.score( X_test, y_test) * 100 )"
   ]
  },
  {
   "cell_type": "markdown",
   "metadata": {},
   "source": [
    "#### Matriz de confusion del clasificador knn 1"
   ]
  },
  {
   "cell_type": "code",
   "execution_count": 251,
   "metadata": {},
   "outputs": [
    {
     "data": {
      "text/plain": [
       "array([[ 184, 1002],\n",
       "       [ 930, 5848]], dtype=int64)"
      ]
     },
     "execution_count": 251,
     "metadata": {},
     "output_type": "execute_result"
    }
   ],
   "source": [
    "metrics.confusion_matrix( y_test, yhat_knn1 )"
   ]
  },
  {
   "cell_type": "markdown",
   "metadata": {},
   "source": [
    "###  8.2 Clasificador KNN con 5 vecinos  <a id='id82'> </a>"
   ]
  },
  {
   "cell_type": "code",
   "execution_count": 254,
   "metadata": {},
   "outputs": [
    {
     "data": {
      "text/html": [
       "<style>#sk-container-id-5 {color: black;}#sk-container-id-5 pre{padding: 0;}#sk-container-id-5 div.sk-toggleable {background-color: white;}#sk-container-id-5 label.sk-toggleable__label {cursor: pointer;display: block;width: 100%;margin-bottom: 0;padding: 0.3em;box-sizing: border-box;text-align: center;}#sk-container-id-5 label.sk-toggleable__label-arrow:before {content: \"▸\";float: left;margin-right: 0.25em;color: #696969;}#sk-container-id-5 label.sk-toggleable__label-arrow:hover:before {color: black;}#sk-container-id-5 div.sk-estimator:hover label.sk-toggleable__label-arrow:before {color: black;}#sk-container-id-5 div.sk-toggleable__content {max-height: 0;max-width: 0;overflow: hidden;text-align: left;background-color: #f0f8ff;}#sk-container-id-5 div.sk-toggleable__content pre {margin: 0.2em;color: black;border-radius: 0.25em;background-color: #f0f8ff;}#sk-container-id-5 input.sk-toggleable__control:checked~div.sk-toggleable__content {max-height: 200px;max-width: 100%;overflow: auto;}#sk-container-id-5 input.sk-toggleable__control:checked~label.sk-toggleable__label-arrow:before {content: \"▾\";}#sk-container-id-5 div.sk-estimator input.sk-toggleable__control:checked~label.sk-toggleable__label {background-color: #d4ebff;}#sk-container-id-5 div.sk-label input.sk-toggleable__control:checked~label.sk-toggleable__label {background-color: #d4ebff;}#sk-container-id-5 input.sk-hidden--visually {border: 0;clip: rect(1px 1px 1px 1px);clip: rect(1px, 1px, 1px, 1px);height: 1px;margin: -1px;overflow: hidden;padding: 0;position: absolute;width: 1px;}#sk-container-id-5 div.sk-estimator {font-family: monospace;background-color: #f0f8ff;border: 1px dotted black;border-radius: 0.25em;box-sizing: border-box;margin-bottom: 0.5em;}#sk-container-id-5 div.sk-estimator:hover {background-color: #d4ebff;}#sk-container-id-5 div.sk-parallel-item::after {content: \"\";width: 100%;border-bottom: 1px solid gray;flex-grow: 1;}#sk-container-id-5 div.sk-label:hover label.sk-toggleable__label {background-color: #d4ebff;}#sk-container-id-5 div.sk-serial::before {content: \"\";position: absolute;border-left: 1px solid gray;box-sizing: border-box;top: 0;bottom: 0;left: 50%;z-index: 0;}#sk-container-id-5 div.sk-serial {display: flex;flex-direction: column;align-items: center;background-color: white;padding-right: 0.2em;padding-left: 0.2em;position: relative;}#sk-container-id-5 div.sk-item {position: relative;z-index: 1;}#sk-container-id-5 div.sk-parallel {display: flex;align-items: stretch;justify-content: center;background-color: white;position: relative;}#sk-container-id-5 div.sk-item::before, #sk-container-id-5 div.sk-parallel-item::before {content: \"\";position: absolute;border-left: 1px solid gray;box-sizing: border-box;top: 0;bottom: 0;left: 50%;z-index: -1;}#sk-container-id-5 div.sk-parallel-item {display: flex;flex-direction: column;z-index: 1;position: relative;background-color: white;}#sk-container-id-5 div.sk-parallel-item:first-child::after {align-self: flex-end;width: 50%;}#sk-container-id-5 div.sk-parallel-item:last-child::after {align-self: flex-start;width: 50%;}#sk-container-id-5 div.sk-parallel-item:only-child::after {width: 0;}#sk-container-id-5 div.sk-dashed-wrapped {border: 1px dashed gray;margin: 0 0.4em 0.5em 0.4em;box-sizing: border-box;padding-bottom: 0.4em;background-color: white;}#sk-container-id-5 div.sk-label label {font-family: monospace;font-weight: bold;display: inline-block;line-height: 1.2em;}#sk-container-id-5 div.sk-label-container {text-align: center;}#sk-container-id-5 div.sk-container {/* jupyter's `normalize.less` sets `[hidden] { display: none; }` but bootstrap.min.css set `[hidden] { display: none !important; }` so we also need the `!important` here to be able to override the default hidden behavior on the sphinx rendered scikit-learn.org. See: https://github.com/scikit-learn/scikit-learn/issues/21755 */display: inline-block !important;position: relative;}#sk-container-id-5 div.sk-text-repr-fallback {display: none;}</style><div id=\"sk-container-id-5\" class=\"sk-top-container\"><div class=\"sk-text-repr-fallback\"><pre>KNeighborsClassifier()</pre><b>In a Jupyter environment, please rerun this cell to show the HTML representation or trust the notebook. <br />On GitHub, the HTML representation is unable to render, please try loading this page with nbviewer.org.</b></div><div class=\"sk-container\" hidden><div class=\"sk-item\"><div class=\"sk-estimator sk-toggleable\"><input class=\"sk-toggleable__control sk-hidden--visually\" id=\"sk-estimator-id-5\" type=\"checkbox\" checked><label for=\"sk-estimator-id-5\" class=\"sk-toggleable__label sk-toggleable__label-arrow\">KNeighborsClassifier</label><div class=\"sk-toggleable__content\"><pre>KNeighborsClassifier()</pre></div></div></div></div></div>"
      ],
      "text/plain": [
       "KNeighborsClassifier()"
      ]
     },
     "execution_count": 254,
     "metadata": {},
     "output_type": "execute_result"
    }
   ],
   "source": [
    "# Declarar clasificadr KNN con 5 vecinos\n",
    "knn2 = KNeighborsClassifier(n_neighbors = 5)\n",
    "knn2"
   ]
  },
  {
   "cell_type": "code",
   "execution_count": 256,
   "metadata": {},
   "outputs": [
    {
     "data": {
      "text/html": [
       "<style>#sk-container-id-6 {color: black;}#sk-container-id-6 pre{padding: 0;}#sk-container-id-6 div.sk-toggleable {background-color: white;}#sk-container-id-6 label.sk-toggleable__label {cursor: pointer;display: block;width: 100%;margin-bottom: 0;padding: 0.3em;box-sizing: border-box;text-align: center;}#sk-container-id-6 label.sk-toggleable__label-arrow:before {content: \"▸\";float: left;margin-right: 0.25em;color: #696969;}#sk-container-id-6 label.sk-toggleable__label-arrow:hover:before {color: black;}#sk-container-id-6 div.sk-estimator:hover label.sk-toggleable__label-arrow:before {color: black;}#sk-container-id-6 div.sk-toggleable__content {max-height: 0;max-width: 0;overflow: hidden;text-align: left;background-color: #f0f8ff;}#sk-container-id-6 div.sk-toggleable__content pre {margin: 0.2em;color: black;border-radius: 0.25em;background-color: #f0f8ff;}#sk-container-id-6 input.sk-toggleable__control:checked~div.sk-toggleable__content {max-height: 200px;max-width: 100%;overflow: auto;}#sk-container-id-6 input.sk-toggleable__control:checked~label.sk-toggleable__label-arrow:before {content: \"▾\";}#sk-container-id-6 div.sk-estimator input.sk-toggleable__control:checked~label.sk-toggleable__label {background-color: #d4ebff;}#sk-container-id-6 div.sk-label input.sk-toggleable__control:checked~label.sk-toggleable__label {background-color: #d4ebff;}#sk-container-id-6 input.sk-hidden--visually {border: 0;clip: rect(1px 1px 1px 1px);clip: rect(1px, 1px, 1px, 1px);height: 1px;margin: -1px;overflow: hidden;padding: 0;position: absolute;width: 1px;}#sk-container-id-6 div.sk-estimator {font-family: monospace;background-color: #f0f8ff;border: 1px dotted black;border-radius: 0.25em;box-sizing: border-box;margin-bottom: 0.5em;}#sk-container-id-6 div.sk-estimator:hover {background-color: #d4ebff;}#sk-container-id-6 div.sk-parallel-item::after {content: \"\";width: 100%;border-bottom: 1px solid gray;flex-grow: 1;}#sk-container-id-6 div.sk-label:hover label.sk-toggleable__label {background-color: #d4ebff;}#sk-container-id-6 div.sk-serial::before {content: \"\";position: absolute;border-left: 1px solid gray;box-sizing: border-box;top: 0;bottom: 0;left: 50%;z-index: 0;}#sk-container-id-6 div.sk-serial {display: flex;flex-direction: column;align-items: center;background-color: white;padding-right: 0.2em;padding-left: 0.2em;position: relative;}#sk-container-id-6 div.sk-item {position: relative;z-index: 1;}#sk-container-id-6 div.sk-parallel {display: flex;align-items: stretch;justify-content: center;background-color: white;position: relative;}#sk-container-id-6 div.sk-item::before, #sk-container-id-6 div.sk-parallel-item::before {content: \"\";position: absolute;border-left: 1px solid gray;box-sizing: border-box;top: 0;bottom: 0;left: 50%;z-index: -1;}#sk-container-id-6 div.sk-parallel-item {display: flex;flex-direction: column;z-index: 1;position: relative;background-color: white;}#sk-container-id-6 div.sk-parallel-item:first-child::after {align-self: flex-end;width: 50%;}#sk-container-id-6 div.sk-parallel-item:last-child::after {align-self: flex-start;width: 50%;}#sk-container-id-6 div.sk-parallel-item:only-child::after {width: 0;}#sk-container-id-6 div.sk-dashed-wrapped {border: 1px dashed gray;margin: 0 0.4em 0.5em 0.4em;box-sizing: border-box;padding-bottom: 0.4em;background-color: white;}#sk-container-id-6 div.sk-label label {font-family: monospace;font-weight: bold;display: inline-block;line-height: 1.2em;}#sk-container-id-6 div.sk-label-container {text-align: center;}#sk-container-id-6 div.sk-container {/* jupyter's `normalize.less` sets `[hidden] { display: none; }` but bootstrap.min.css set `[hidden] { display: none !important; }` so we also need the `!important` here to be able to override the default hidden behavior on the sphinx rendered scikit-learn.org. See: https://github.com/scikit-learn/scikit-learn/issues/21755 */display: inline-block !important;position: relative;}#sk-container-id-6 div.sk-text-repr-fallback {display: none;}</style><div id=\"sk-container-id-6\" class=\"sk-top-container\"><div class=\"sk-text-repr-fallback\"><pre>KNeighborsClassifier()</pre><b>In a Jupyter environment, please rerun this cell to show the HTML representation or trust the notebook. <br />On GitHub, the HTML representation is unable to render, please try loading this page with nbviewer.org.</b></div><div class=\"sk-container\" hidden><div class=\"sk-item\"><div class=\"sk-estimator sk-toggleable\"><input class=\"sk-toggleable__control sk-hidden--visually\" id=\"sk-estimator-id-6\" type=\"checkbox\" checked><label for=\"sk-estimator-id-6\" class=\"sk-toggleable__label sk-toggleable__label-arrow\">KNeighborsClassifier</label><div class=\"sk-toggleable__content\"><pre>KNeighborsClassifier()</pre></div></div></div></div></div>"
      ],
      "text/plain": [
       "KNeighborsClassifier()"
      ]
     },
     "execution_count": 256,
     "metadata": {},
     "output_type": "execute_result"
    }
   ],
   "source": [
    "# Entrenar clasificador\n",
    "knn2.fit(X_train, y_train)"
   ]
  },
  {
   "cell_type": "code",
   "execution_count": 258,
   "metadata": {},
   "outputs": [
    {
     "name": "stdout",
     "output_type": "stream",
     "text": [
      " Precision de la fase de entrenamiento con K = 5, es  86.13529805760214\n"
     ]
    }
   ],
   "source": [
    "print(\" Precision de la fase de entrenamiento con K = 5, es \",\n",
    "      knn2.score( X_train, y_train ) *100)"
   ]
  },
  {
   "cell_type": "code",
   "execution_count": null,
   "metadata": {},
   "outputs": [],
   "source": []
  },
  {
   "cell_type": "markdown",
   "metadata": {},
   "source": [
    "#### Fase de prueba"
   ]
  },
  {
   "cell_type": "code",
   "execution_count": null,
   "metadata": {},
   "outputs": [],
   "source": [
    "# realizar prediccion\n",
    "yhat_knn2 = knn2.predict( X_test)\n",
    "yhat_knn2"
   ]
  },
  {
   "cell_type": "code",
   "execution_count": null,
   "metadata": {},
   "outputs": [],
   "source": [
    "print(\" Precision de la fase de prueba con k = 5, es \", \n",
    "      knn2.score( X_test, y_test) * 100 )"
   ]
  },
  {
   "cell_type": "markdown",
   "metadata": {},
   "source": [
    "#### Matriz de confusion del clasificador knn 2"
   ]
  },
  {
   "cell_type": "code",
   "execution_count": null,
   "metadata": {},
   "outputs": [],
   "source": [
    "metrics.confusion_matrix( y_test, yhat_knn2 )"
   ]
  },
  {
   "cell_type": "code",
   "execution_count": 261,
   "metadata": {},
   "outputs": [
    {
     "name": "stderr",
     "output_type": "stream",
     "text": [
      "C:\\Anaconda\\Lib\\site-packages\\sklearn\\base.py:464: UserWarning: X does not have valid feature names, but KNeighborsClassifier was fitted with feature names\n",
      "  warnings.warn(\n"
     ]
    },
    {
     "data": {
      "text/plain": [
       "array([1], dtype=int64)"
      ]
     },
     "execution_count": 261,
     "metadata": {},
     "output_type": "execute_result"
    }
   ],
   "source": [
    "yhat_predmanual =  knn2.predict( [[5000, 15.5 , 5, 3, 4, 4, 30000, 12, 12, 0 ]] )\n",
    "yhat_predmanual"
   ]
  },
  {
   "cell_type": "code",
   "execution_count": null,
   "metadata": {},
   "outputs": [],
   "source": []
  },
  {
   "cell_type": "markdown",
   "metadata": {},
   "source": [
    "###  8.3 Clasificador KNN con 15 vecinos   <a id='id83'> </a>"
   ]
  },
  {
   "cell_type": "code",
   "execution_count": null,
   "metadata": {},
   "outputs": [],
   "source": [
    "# declaramos el clasificador con 15 vecinos\n",
    "\n",
    "knn3 = KNeighborsClassifier(n_neighbors = 15)\n",
    "knn3"
   ]
  },
  {
   "cell_type": "code",
   "execution_count": null,
   "metadata": {},
   "outputs": [],
   "source": [
    "# Entrenamos\n",
    "knn3.fit( X_train, y_train)"
   ]
  },
  {
   "cell_type": "code",
   "execution_count": null,
   "metadata": {},
   "outputs": [],
   "source": [
    "print(\" Precision de la fase de entrenamiento con K = 15, es \",\n",
    "      knn3.score( X_train, y_train ) *100)"
   ]
  },
  {
   "cell_type": "markdown",
   "metadata": {},
   "source": [
    "#### Fase de Predicción"
   ]
  },
  {
   "cell_type": "code",
   "execution_count": null,
   "metadata": {},
   "outputs": [],
   "source": [
    "yhat_knn3 = knn3.predict( X_test)\n",
    "yhat_knn3"
   ]
  },
  {
   "cell_type": "code",
   "execution_count": null,
   "metadata": {},
   "outputs": [],
   "source": [
    "print(\" Precision de la fase de prueba con k = 15, es \",\n",
    "      knn3.score( X_test, y_test) * 100 )"
   ]
  },
  {
   "cell_type": "markdown",
   "metadata": {},
   "source": [
    "#### Matriz de confusion del clasificador knn 3"
   ]
  },
  {
   "cell_type": "code",
   "execution_count": null,
   "metadata": {},
   "outputs": [],
   "source": [
    "metrics.confusion_matrix( y_test, yhat_knn3 )"
   ]
  },
  {
   "cell_type": "markdown",
   "metadata": {},
   "source": [
    "###  8.4 Clasificador KNN con 25 vecinos  <a id='id84'> </a>"
   ]
  },
  {
   "cell_type": "code",
   "execution_count": null,
   "metadata": {},
   "outputs": [],
   "source": [
    "knn4 = KNeighborsClassifier(n_neighbors = 25)\n",
    "knn4.fit( X_train, y_train)"
   ]
  },
  {
   "cell_type": "code",
   "execution_count": null,
   "metadata": {},
   "outputs": [],
   "source": [
    "print(\" Precision de la fase de entrenamiento con K = 25, es \", \n",
    "      knn4.score( X_train, y_train ) *100)"
   ]
  },
  {
   "cell_type": "code",
   "execution_count": null,
   "metadata": {},
   "outputs": [],
   "source": [
    "# predicción\n",
    "\n",
    "yhat_knn4 = knn4.predict( X_test)\n",
    "yhat_knn4"
   ]
  },
  {
   "cell_type": "code",
   "execution_count": null,
   "metadata": {},
   "outputs": [],
   "source": [
    "print(\" Precisión de la fase de prueba con k = 25, es \", \n",
    "      knn4.score( X_test, y_test) * 100 )"
   ]
  },
  {
   "cell_type": "code",
   "execution_count": null,
   "metadata": {},
   "outputs": [],
   "source": [
    "# Matriz de confusión\n",
    "\n",
    "metrics.confusion_matrix( y_test, yhat_knn4 )"
   ]
  },
  {
   "cell_type": "markdown",
   "metadata": {},
   "source": [
    "## 9. Random Forest Classifier ó Clasificador de bosque aleatorio <a id='id9'> </a>\n",
    "\n",
    "#### Clasificador de bosque aleatorio\n",
    "\n",
    "probaremos el método de la clasificación con dos Random Forest Classifiers. \n",
    "- El primero con hpyerparameters por defecto y \n",
    "- el segundo con `class_weight='balanced'`. \n",
    "- Establecemos `random_state=23` (semilla) en ambos clasificadores solo para garantizar la repetibilidad.\n",
    "\n",
    "El primer clasificador logra una tasa de precisión del 83,5%, que en realidad es peor que el modelo cero. Un modelo cero siempre predice con la clase mayoritaria, que es 1 en el conjunto de datos. Dado que la tasa de reembolso general es del 85,2 %, la tasa de precisión del modelo cero es del 85,2 %.\n",
    "\n",
    "- En esta practica, la tasa de precisión no es lo que estamos buscando. El propósito del modelo de clasificación es ayudarnos a seleccionar los préstamos que tienen más probabilidades de ser reembolsados. Por lo tanto, nuestro enfoque está en la tasa de precisión de la clase 1. Del informe de clasificación del primer modelo, podemos ver que la tasa de precisión de la clase 1 es 0,86 u 86 %. \n",
    "- Esto significa que entre todos los préstamos identificados como pagados en su totalidad por el modelo de clasificación, el 86% de ellos están realmente pagados en su totalidad. Esto no es mucho mejor que la tasa de reembolso de todo el conjunto de prueba, que es de alrededor del 85 %. La razón es que el modelo solo tiene una tasa de recuperación de 0,07 en la clase 0, lo que significa que, para todos los préstamos que se cancelan, el modelo solo identifica el 7% de ellos como cancelados.\n",
    "\n",
    "El conjunto de datos está muy desequilibrado, con un 85 % de clase 1 y un 15 % de clase 0, podemos lograr una mejor precisión de clase 1, estableciendo un peso de clase equilibrado. En el segundo modelo, configuramos `class_weight='balanced'`. El RandomForestClassifier predeterminado no es muy sensible al cambio de class_weight, por lo que también limitamos `max_ depth` para aumentar la efectividad del cambio de class_weight.\n",
    "\n",
    "Del informe de clasificación del segundo clasificador de bosque aleatorio, podemos ver que, aunque la tasa de precisión cae al 65 %, el modelo tiene una recuperación de clase 0 mucho mayor, con 0,44. Significa que el modelo identifica correctamente el 44% de todos los préstamos cancelados. Lo que es más importante, obtenemos una mejor precisión de clase 1, 88 %, lo que significa que, entre todos los préstamos que el modelo predice que estarán pagados en su totalidad, el 88 % de ellos están realmente pagados en su totalidad.\n",
    "\n",
    "También puede ver los detalles de predicción de la matriz de confusión."
   ]
  },
  {
   "cell_type": "code",
   "execution_count": 286,
   "metadata": {},
   "outputs": [],
   "source": [
    "from sklearn.ensemble import RandomForestClassifier\n",
    "from sklearn import metrics"
   ]
  },
  {
   "cell_type": "markdown",
   "metadata": {},
   "source": [
    "## 9.1 Clasificador de bosque aleatorio con  peso de clase predeterminado <a id='id91'> </a>"
   ]
  },
  {
   "cell_type": "code",
   "execution_count": 289,
   "metadata": {},
   "outputs": [
    {
     "name": "stdout",
     "output_type": "stream",
     "text": [
      "Precisión: 0.8495730788548468\n",
      "Matriz Confusion:\n",
      "[[  25 1161]\n",
      " [  37 6741]]\n"
     ]
    }
   ],
   "source": [
    "# Create Regressor with default properties\n",
    "rfc1 = RandomForestClassifier(random_state=23)\n",
    "\n",
    "# Fit estimator and display score\n",
    "rfc1 = rfc1.fit(X_train, y_train)\n",
    "\n",
    "print(f'Precisión: {rfc1.score(X_test, y_test)}')\n",
    "\n",
    "pred = rfc1.predict(X_test)\n",
    "\n",
    "print(f'Matriz Confusion:\\n{metrics.confusion_matrix(y_test, pred)}')\n",
    "\n"
   ]
  },
  {
   "cell_type": "markdown",
   "metadata": {},
   "source": [
    "### Interpretacion de matriz de confusion\n",
    "\n",
    "- **TN (True Negative)**: 25 créditos correctamente clasificados como \"No pagados\".\n",
    "- **FP (False Positive)**: 1161 créditos incorrectamente clasificados como \"Pagados\", pero en realidad son \"No pagados\".\n",
    "- **FN (False Negative)**: 37 créditos incorrectamente clasificados como \"No pagados\", pero en realidad son \"Pagados\".\n",
    "- **TP (True Positive)**: 6741 créditos correctamente clasificados como \"Pagados\".\n",
    "\n",
    "#### Desempeño General del Modelo:\n",
    "\n",
    "- El modelo tiene un fuerte sesgo hacia la clase mayoritaria (Pagado), lo que explica el alto número de verdaderos positivos (TP = 6741).\n",
    "- El número de verdaderos negativos (TN = 25) es extremadamente bajo, lo que indica que el modelo tiene dificultades para identificar créditos \"No pagados\".\n",
    "Errores del Modelo:\n",
    "\n",
    "- **Falsos Positivos (FP = 1161)**: El modelo clasifica incorrectamente como \"Pagados\" a muchos créditos \"No pagados\".\n",
    "- **Falsos Negativos (FN = 37)**: El modelo rara vez clasifica un crédito \"Pagado\" como \"No pagado\", lo cual es positivo para esta clase.\n"
   ]
  },
  {
   "cell_type": "markdown",
   "metadata": {},
   "source": [
    "## 9.2 Clasificador de bosque aleatorio con class_weight='balanced' <a id='id92'> </a>"
   ]
  },
  {
   "cell_type": "code",
   "execution_count": 300,
   "metadata": {},
   "outputs": [
    {
     "name": "stdout",
     "output_type": "stream",
     "text": [
      "Precisión: 0.6534404821697639\n",
      "Confusion Matrix:\n",
      "[[ 666  520]\n",
      " [2240 4538]]\n"
     ]
    }
   ],
   "source": [
    "rfc2 = RandomForestClassifier(max_depth=7, class_weight='balanced', random_state=23)\n",
    "\n",
    "# Fit estimator and display score\n",
    "rfc2 = rfc2.fit(X_train, y_train)\n",
    "\n",
    "print(f'Precisión: {rfc2.score(X_test, y_test)}')\n",
    "\n",
    "pred = rfc2.predict(X_test)\n",
    "\n",
    "print(f'Confusion Matrix:\\n{metrics.confusion_matrix(y_test, pred)}')\n"
   ]
  },
  {
   "cell_type": "markdown",
   "metadata": {},
   "source": [
    "### Interpretacion de matriz de confusion\n",
    "\n",
    "- **TN (True Negative)**: 666 créditos correctamente clasificados como \"No Pagados\".\n",
    "- **FP (False Positive)**: 520 créditos clasificados incorrectamente como \"Pagados\" pero que en realidad son \"No Pagados\".\n",
    "- **FN (False Negative)**: 2240 créditos clasificados incorrectamente como \"No Pagados\" pero que en realidad son \"Pagados\".\n",
    "- **TP (True Positive)**: 4538 créditos correctamente clasificados como \"Pagados\".\n",
    "\n",
    "#### Conclusiones\n",
    "- Comparado con el modelo previo, **el balanceo de clases permitió al modelo identificar más créditos \"No Pagados\" (666 TN frente a 25 TN del modelo anterior)**.\n",
    "- Sin embargo, **todavía tiene problemas** para clasificar correctamente los créditos \"No Pagados\",\n",
    "- El balanceo de clases mejora la detección de la clase minoritaria pero sacrifica algo de rendimiento en la clase mayoritaria.\n",
    "- Esto se refleja en un aumento de falsos negativos (FN = 2240) y falsos positivos (FP = 520) comparado con el modelo sin balanceo.\n",
    "- Es necesario seguir ajustando el modelo y explorar técnicas adicionales para mejorar el equilibrio entre las dos clases."
   ]
  },
  {
   "cell_type": "markdown",
   "metadata": {},
   "source": [
    "## 9.3 Clasificador de bosque aleatorio con class_weight='balanced' <a id='id92'> </a>\n",
    "\n",
    "Parametro: **n_estimators**\n",
    "- Especifica el número de árboles en el bosque.\n",
    "- Más árboles suelen llevar a un modelo más robusto y preciso, pero también aumentan el tiempo de entrenamiento.\n",
    "- Valores comunes:\n",
    "    - Usualmente se prueban valores como 100, 200, 500, y en algunos casos 1000 o más.\n",
    "    - Por defecto: El valor predeterminado en scikit-learn es 100.\n",
    "\n",
    "Parametro: **max_depth**\n",
    "- Define la profundidad máxima de cada árbol.\n",
    "- Limitar la profundidad ayuda a controlar el sobreajuste.\n",
    "- Si no se especifica (None), cada árbol crecerá hasta que todas las hojas sean puras o contengan menos muestras que min_samples_split.\n",
    "- Valores típicos son: 5, 10, 20, dependiendo del tamaño y complejidad de los datos."
   ]
  },
  {
   "cell_type": "code",
   "execution_count": 313,
   "metadata": {},
   "outputs": [
    {
     "name": "stdout",
     "output_type": "stream",
     "text": [
      "Precisión: 0.7327975891511803\n",
      "Confusion Matrix:\n",
      "[[ 464  722]\n",
      " [1406 5372]]\n"
     ]
    }
   ],
   "source": [
    "rfc3 = RandomForestClassifier(n_estimators=200, max_depth=10, class_weight='balanced', random_state=23)\n",
    "\n",
    "# Fit estimator and display score\n",
    "rfc3 = rfc3.fit(X_train, y_train)\n",
    "\n",
    "print(f'Precisión: {rfc3.score(X_test, y_test)}')\n",
    "\n",
    "pred = rfc3.predict(X_test)\n",
    "\n",
    "print(f'Confusion Matrix:\\n{metrics.confusion_matrix(y_test, pred)}')"
   ]
  },
  {
   "cell_type": "markdown",
   "metadata": {},
   "source": [
    "### Interpretacion de matriz de confusion\n",
    "\n",
    "- **TN (True Negative)**: 464 créditos correctamente clasificados como \"No Pagados\".\n",
    "- **FP (False Positive)**: 722 créditos clasificados incorrectamente como \"Pagados\" pero que en realidad son \"No Pagados\".\n",
    "- **FN (False Negative)**: 1406 créditos clasificados incorrectamente como \"No Pagados\" pero que en realidad son \"Pagados\".\n",
    "- **TP (True Positive)**: 5372 créditos correctamente clasificados como \"Pagados\".\n",
    "\n",
    "#### Conclusiones\n",
    "- Comparado con el modelo previo,\n",
    "- Verdaderos Negativos (TN) disminuyeron de 666 a 464.\n",
    "- Falsos Positivos (FP) aumentaron de 520 a 722.\n",
    "- Esto indica que el modelo clasifica menos correctamente los créditos \"No Pagados\" y comete más errores al predecir créditos \"No Pagados\" como \"Pagados\"."
   ]
  },
  {
   "cell_type": "code",
   "execution_count": 324,
   "metadata": {},
   "outputs": [
    {
     "name": "stdout",
     "output_type": "stream",
     "text": [
      "Precisión: 0.8491963837267704\n",
      "Confusion Matrix:\n",
      "[[   9 1177]\n",
      " [  24 6754]]\n"
     ]
    }
   ],
   "source": [
    "rfc4 = RandomForestClassifier(n_estimators=500, max_depth=20, class_weight='balanced', random_state=23)\n",
    "\n",
    "# Fit estimator and display score\n",
    "rfc4 = rfc4.fit(X_train, y_train)\n",
    "\n",
    "print(f'Precisión: {rfc4.score(X_test, y_test)}')\n",
    "\n",
    "pred = rfc4.predict(X_test)\n",
    "\n",
    "print(f'Confusion Matrix:\\n{metrics.confusion_matrix(y_test, pred)}')"
   ]
  },
  {
   "cell_type": "code",
   "execution_count": 330,
   "metadata": {},
   "outputs": [
    {
     "name": "stdout",
     "output_type": "stream",
     "text": [
      "Precisión: 0.6177800100452034\n",
      "\n",
      "Confusion Matrix:\n",
      "[[ 738  448]\n",
      " [2596 4182]]\n"
     ]
    }
   ],
   "source": [
    "rfc4 = RandomForestClassifier(n_estimators=100, max_depth=5, class_weight='balanced', random_state=23)\n",
    "\n",
    "# Fit estimator and display score\n",
    "rfc4 = rfc4.fit(X_train, y_train)\n",
    "\n",
    "print(f'Precisión: {rfc4.score(X_test, y_test)}')\n",
    "print(\"\")\n",
    "pred = rfc4.predict(X_test)\n",
    "\n",
    "print(f'Confusion Matrix:\\n{metrics.confusion_matrix(y_test, pred)}')"
   ]
  },
  {
   "cell_type": "markdown",
   "metadata": {},
   "source": [
    "#### Cambios Observados:\n",
    "\n",
    "**Clase No Pagado (clase 0):**\n",
    "- **TN (Verdaderos Negativos)** aumentaron a 738: El modelo clasifica correctamente más créditos \"No Pagados\".\n",
    "- **FP (Falsos Positivos)** disminuyeron a 448: El modelo comete menos errores al clasificar créditos \"No Pagados\" como \"Pagados\".\n",
    "\n",
    "**Clase Pagado (clase 1):**\n",
    "- **TP (Verdaderos Positivos)** disminuyeron a 4182: El modelo clasifica correctamente menos créditos \"Pagados\".\n",
    "- **FN (Falsos Negativos)** aumentaron a 2596: Hay más errores al clasificar créditos \"Pagados\" como \"No Pagados\".\n",
    "\n",
    "#### Balance General:\n",
    "- El modelo ha mejorado su capacidad para detectar créditos \"No Pagados\" (clase minoritaria), pero con un sacrificio en la detección de la clase \"Pagados\" (clase mayoritaria).\n"
   ]
  },
  {
   "cell_type": "code",
   "execution_count": null,
   "metadata": {},
   "outputs": [],
   "source": []
  },
  {
   "cell_type": "markdown",
   "metadata": {},
   "source": [
    "## Selección de características (feature selection) con scikit-learn\n",
    "\n",
    "Utilizar las bibliotecas scikit-learn para realizar selección de características (feature selection) mediante el método de Eliminación Recursiva de Características (RFE) con un modelo de Máquina de Vectores de Soporte (SVC).\n",
    "\n",
    "- RFE (Recursive Feature Elimination): Algoritmo que selecciona características de forma iterativa eliminando las menos importantes según un modelo base.\n",
    "- SVC (Support Vector Classifier): Un clasificador basado en máquinas de soporte vectorial. En este caso, se usará como modelo base para evaluar la importancia de las características.\n",
    "\n",
    "    - El modelo SVC se usa para determinar la importancia de las características.\n",
    "    - El parametro n_features_to_select=4: Indica que RFE debe seleccionar las 4 características más importantes.\n",
    "    - EL parametro step=1: En cada iteración, se eliminará una característica (la menos importante)."
   ]
  },
  {
   "cell_type": "code",
   "execution_count": 265,
   "metadata": {},
   "outputs": [],
   "source": [
    "# variables predictoras a evaluar \n",
    "\n",
    "w = prestamos_df[['funded_amnt', \"int_rate\", \"grade_code\", 'purpose_code', 'addr_state_code',\n",
    "                 'home_ownership_code', 'annual_inc', 'dti', 'revol_util', 'pub_rec_bankruptcies']]\n",
    "z = prestamos_df[\"repaid\"]\n"
   ]
  },
  {
   "cell_type": "markdown",
   "metadata": {},
   "source": [
    "### Estimador para Regresión Logistica"
   ]
  },
  {
   "cell_type": "code",
   "execution_count": 269,
   "metadata": {},
   "outputs": [
    {
     "name": "stdout",
     "output_type": "stream",
     "text": [
      "Características seleccionadas: [False  True  True  True  True  True False  True  True False]\n",
      "Ranking de características: [2 1 1 1 1 1 2 1 1 2]\n"
     ]
    }
   ],
   "source": [
    "# Estimador para regresion logistica\n",
    "# SELECCIONAR 7 CARACTERISTICAS O VARIABLES\n",
    "\n",
    "from sklearn.feature_selection import RFE\n",
    "from sklearn.linear_model import LogisticRegression\n",
    "\n",
    "# Definir el estimador\n",
    "estimator = LogisticRegression()\n",
    "\n",
    "# Crear RFE con el estimador\n",
    "selector = RFE(estimator=estimator, n_features_to_select = 7, step = 5 )\n",
    "X_rfe = selector.fit_transform(w, z)\n",
    "\n",
    "# Resultados\n",
    "print(\"Características seleccionadas:\", selector.support_)\n",
    "print(\"Ranking de características:\", selector.ranking_)\n",
    "\n"
   ]
  },
  {
   "cell_type": "code",
   "execution_count": 273,
   "metadata": {},
   "outputs": [
    {
     "name": "stdout",
     "output_type": "stream",
     "text": [
      "Características seleccionadas: [False  True False  True  True  True False  True False False]\n",
      "Ranking de características: [2 1 2 1 1 1 2 1 2 2]\n"
     ]
    }
   ],
   "source": [
    "# Estimador para regresion logistica\n",
    "# SELECCIONAR 5 CARACTERISTICAS O VARIABLES\n",
    "\n",
    "from sklearn.feature_selection import RFE\n",
    "from sklearn.linear_model import LogisticRegression\n",
    "\n",
    "# Definir el estimador de tipo LogisticRegression\n",
    "estimator = LogisticRegression()\n",
    "\n",
    "# Crear RFE con el estimador\n",
    "selector = RFE(estimator=estimator, n_features_to_select = 5, step = 5 )\n",
    "X_rfe = selector.fit_transform(w, z)\n",
    "\n",
    "# Resultados\n",
    "print(\"Características seleccionadas:\", selector.support_)\n",
    "print(\"Ranking de características:\", selector.ranking_)"
   ]
  },
  {
   "cell_type": "markdown",
   "metadata": {},
   "source": [
    "### Estimador para RandomForestClassifier"
   ]
  },
  {
   "cell_type": "code",
   "execution_count": 278,
   "metadata": {},
   "outputs": [
    {
     "name": "stdout",
     "output_type": "stream",
     "text": [
      "Características seleccionadas: [ True  True False  True  True False  True  True  True False]\n",
      "Ranking de características: [1 1 2 1 1 3 1 1 1 4]\n"
     ]
    }
   ],
   "source": [
    "# Importar librerías necesarias\n",
    "\n",
    "from sklearn.feature_selection import RFE\n",
    "from sklearn.ensemble import RandomForestClassifier\n",
    "\n",
    "# Definir el estimador de tipo  Random Forest\n",
    "estimator = RandomForestClassifier()\n",
    "\n",
    "# Aplicar RFE para seleccionar las 5 características más importantes\n",
    "selector = RFE(estimator= estimator, n_features_to_select = 7)\n",
    "X_rfe = selector.fit(w, z)\n",
    "\n",
    "# Resultados\n",
    "print(\"Características seleccionadas:\", selector.support_)\n",
    "print(\"Ranking de características:\", selector.ranking_)\n"
   ]
  },
  {
   "cell_type": "code",
   "execution_count": 280,
   "metadata": {},
   "outputs": [
    {
     "name": "stdout",
     "output_type": "stream",
     "text": [
      "Características seleccionadas: [ True  True False False False False  True  True  True False]\n",
      "Ranking de características: [1 1 4 2 3 5 1 1 1 6]\n"
     ]
    }
   ],
   "source": [
    "# Importar librerías necesarias\n",
    "# SELECCIONAR 5 CARACTERISTICAS O VARIABLES\n",
    "\n",
    "from sklearn.feature_selection import RFE\n",
    "from sklearn.ensemble import RandomForestClassifier\n",
    "\n",
    "# Definir el estimador de tipo  Random Forest\n",
    "estimator = RandomForestClassifier()\n",
    "\n",
    "# Aplicar RFE para seleccionar las 5 características más importantes\n",
    "selector = RFE(estimator= estimator, n_features_to_select = 5 )\n",
    "X_rfe = selector.fit(w, z)\n",
    "\n",
    "# Resultados\n",
    "print(\"Características seleccionadas:\", selector.support_)\n",
    "print(\"Ranking de características:\", selector.ranking_)"
   ]
  },
  {
   "cell_type": "code",
   "execution_count": null,
   "metadata": {},
   "outputs": [],
   "source": []
  },
  {
   "cell_type": "code",
   "execution_count": null,
   "metadata": {},
   "outputs": [],
   "source": []
  }
 ],
 "metadata": {
  "kernelspec": {
   "display_name": "Python [conda env:base] *",
   "language": "python",
   "name": "conda-base-py"
  },
  "language_info": {
   "codemirror_mode": {
    "name": "ipython",
    "version": 3
   },
   "file_extension": ".py",
   "mimetype": "text/x-python",
   "name": "python",
   "nbconvert_exporter": "python",
   "pygments_lexer": "ipython3",
   "version": "3.11.5"
  }
 },
 "nbformat": 4,
 "nbformat_minor": 4
}
